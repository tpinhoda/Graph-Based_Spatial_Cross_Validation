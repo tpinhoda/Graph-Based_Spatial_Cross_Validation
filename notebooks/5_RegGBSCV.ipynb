{
 "cells": [
  {
   "cell_type": "markdown",
   "metadata": {},
   "source": [
    "# Execute the Graph-Based Spatial Cross-Validation experiments from ICMLA21 Paper"
   ]
  },
  {
   "cell_type": "markdown",
   "metadata": {},
   "source": [
    "## 1 - Initialize libraries"
   ]
  },
  {
   "cell_type": "code",
   "execution_count": 1,
   "metadata": {},
   "outputs": [
    {
     "name": "stderr",
     "output_type": "stream",
     "text": [
      "H:\\anaconda3\\envs\\graph_based_scv\\lib\\site-packages\\spaghetti\\network.py:36: FutureWarning: The next major release of pysal/spaghetti (2.0.0) will drop support for all ``libpysal.cg`` geometries. This change is a first step in refactoring ``spaghetti`` that is expected to result in dramatically reduced runtimes for network instantiation and operations. Users currently requiring network and point pattern input as ``libpysal.cg`` geometries should prepare for this simply by converting to ``shapely`` geometries.\n",
      "  warnings.warn(f\"{dep_msg}\", FutureWarning)\n"
     ]
    }
   ],
   "source": [
    "import os\n",
    "import pandas as pd\n",
    "import numpy as np\n",
    "from weka.core import jvm\n",
    "from src import utils\n",
    "from src.pipeline import Pipeline\n",
    "from src.visualization.performance import VizMetrics\n",
    "from src.visualization.dependence import VizDependence\n",
    "import warnings\n",
    "warnings.filterwarnings(\"ignore\")"
   ]
  },
  {
   "cell_type": "markdown",
   "metadata": {},
   "source": [
    "## 2 - Initialize loggers"
   ]
  },
  {
   "cell_type": "code",
   "execution_count": 2,
   "metadata": {},
   "outputs": [],
   "source": [
    "utils.initialize_coloredlog()\n",
    "utils.initialize_rich_tracerback()\n",
    "utils.initialize_logging()"
   ]
  },
  {
   "cell_type": "markdown",
   "metadata": {},
   "source": [
    "## 3 - Initialize working path and enviromental variables"
   ]
  },
  {
   "cell_type": "code",
   "execution_count": 3,
   "metadata": {},
   "outputs": [],
   "source": [
    "# Project path\n",
    "project_dir = os.path.abspath('')[:-5]\n",
    "# Load enviromental variables\n",
    "env_var = utils.load_env_variables(project_dir)"
   ]
  },
  {
   "cell_type": "markdown",
   "metadata": {},
   "source": [
    "## 5 - Set pipeline switchers, the default is to set True to all processes"
   ]
  },
  {
   "cell_type": "code",
   "execution_count": 4,
   "metadata": {},
   "outputs": [],
   "source": [
    "# Set pipeline switchers\n",
    "SWITCHERS = {\n",
    "    \"scv\": False,\n",
    "    \"fs\": False,\n",
    "    \"train\": True,\n",
    "    \"predict\": True,\n",
    "    \"evaluate\": False,\n",
    "}"
   ]
  },
  {
   "cell_type": "markdown",
   "metadata": {},
   "source": [
    "# 5 - List all datasets"
   ]
  },
  {
   "cell_type": "code",
   "execution_count": 5,
   "metadata": {},
   "outputs": [],
   "source": [
    "brazil_removed_datasets = [\"Brazil_Election_2018_Sampled_dec0.3_prob0.1_removed_north\",\n",
    "                   \"Brazil_Election_2018_Sampled_dec0.3_prob0.1_removed_northeast\",\n",
    "                   \"Brazil_Election_2018_Sampled_dec0.3_prob0.1_removed_south\",\n",
    "                   \"Brazil_Election_2018_Sampled_dec0.3_prob0.1_removed_southeast\",\n",
    "                   \"Brazil_Election_2018_Sampled_dec0.3_prob0.1_removed_centerwest\"]\n",
    "\n",
    "brazil_datasets = [#\"Brazil_Election_2018_Sampled_dec0.3_prob0.1\",\n",
    "                   \"Brazil_Election_2018_Sampled_dec0.3_prob0.2\",\n",
    "                   #\"Brazil_Election_2018_Sampled_dec0.3_prob0.3\",\n",
    "                   \"Brazil_Election_2018_Sampled_dec0.3_prob0.4\",\n",
    "                   #\"Brazil_Election_2018_Sampled_dec0.3_prob0.5\",\n",
    "                   \"Brazil_Election_2018_Sampled_dec0.3_prob0.6\",\n",
    "                   #\"Brazil_Election_2018_Sampled_dec0.3_prob0.7\",\n",
    "                   \"Brazil_Election_2018_Sampled_dec0.3_prob0.8\",\n",
    "                   #\"Brazil_Election_2018_Sampled_dec0.3_prob0.9\"\n",
    "                   ]\n",
    "us_datasets = [\"US_Corn_Yield_2016\", \"US_Wheat_Yield_2014\"]\n",
    "brazil_geoeconomical_regions = [\"Brazil_Election_2018_removed_AMAZONIA\",\n",
    "                                \"Brazil_Election_2018_removed_NORDESTE\",\n",
    "                                \"Brazil_Election_2018_removed_CENTRO_SUL\"]\n",
    "\n",
    "\n",
    "single = [\"Brazil_Election_2018_Sampled_dec0.3_prob0.4\"]"
   ]
  },
  {
   "cell_type": "markdown",
   "metadata": {},
   "source": [
    "## 6 - Runs the pipeline for each method\n",
    "OBS: The results and files generated from the pipeline execution will be in the created folder Results in the data directory"
   ]
  },
  {
   "cell_type": "markdown",
   "metadata": {},
   "source": [
    "### 6.2 RegGBSCV"
   ]
  },
  {
   "cell_type": "code",
   "execution_count": 6,
   "metadata": {},
   "outputs": [
    {
     "name": "stdout",
     "output_type": "stream",
     "text": [
      "Running the RegGBSCV SCV approach for dataset: Brazil_Election_2018_Sampled_dec0.3_prob0.2 kappa 0.0 complex_param 1\n"
     ]
    },
    {
     "name": "stderr",
     "output_type": "stream",
     "text": [
      "Training model: 100%|██████████| 27/27 [00:03<00:00,  8.17it/s]\n",
      "Predicting test set: 100%|██████████| 27/27 [00:00<00:00, 50.28it/s]\n"
     ]
    },
    {
     "name": "stdout",
     "output_type": "stream",
     "text": [
      "Running the RegGBSCV SCV approach for dataset: Brazil_Election_2018_Sampled_dec0.3_prob0.2 kappa 0.2 complex_param 1\n"
     ]
    },
    {
     "name": "stderr",
     "output_type": "stream",
     "text": [
      "Training model: 100%|██████████| 27/27 [00:03<00:00,  7.25it/s]\n",
      "Predicting test set: 100%|██████████| 27/27 [00:00<00:00, 50.99it/s]\n"
     ]
    },
    {
     "name": "stdout",
     "output_type": "stream",
     "text": [
      "Running the RegGBSCV SCV approach for dataset: Brazil_Election_2018_Sampled_dec0.3_prob0.2 kappa 0.4 complex_param 1\n"
     ]
    },
    {
     "name": "stderr",
     "output_type": "stream",
     "text": [
      "Training model: 100%|██████████| 27/27 [00:03<00:00,  7.85it/s]\n",
      "Predicting test set: 100%|██████████| 27/27 [00:00<00:00, 50.64it/s]\n"
     ]
    },
    {
     "name": "stdout",
     "output_type": "stream",
     "text": [
      "Running the RegGBSCV SCV approach for dataset: Brazil_Election_2018_Sampled_dec0.3_prob0.2 kappa 0.6 complex_param 1\n"
     ]
    },
    {
     "name": "stderr",
     "output_type": "stream",
     "text": [
      "Training model: 100%|██████████| 27/27 [00:03<00:00,  7.46it/s]\n",
      "Predicting test set: 100%|██████████| 27/27 [00:00<00:00, 38.66it/s]\n"
     ]
    },
    {
     "name": "stdout",
     "output_type": "stream",
     "text": [
      "Running the RegGBSCV SCV approach for dataset: Brazil_Election_2018_Sampled_dec0.3_prob0.2 kappa 0.8 complex_param 1\n"
     ]
    },
    {
     "name": "stderr",
     "output_type": "stream",
     "text": [
      "Training model: 100%|██████████| 27/27 [00:02<00:00,  9.85it/s]\n",
      "Predicting test set: 100%|██████████| 27/27 [00:00<00:00, 52.00it/s]\n"
     ]
    },
    {
     "name": "stdout",
     "output_type": "stream",
     "text": [
      "Running the RegGBSCV SCV approach for dataset: Brazil_Election_2018_Sampled_dec0.3_prob0.4 kappa 0.0 complex_param 1\n"
     ]
    },
    {
     "name": "stderr",
     "output_type": "stream",
     "text": [
      "Training model: 100%|██████████| 27/27 [00:02<00:00, 10.73it/s]\n",
      "Predicting test set: 100%|██████████| 27/27 [00:00<00:00, 69.87it/s]\n"
     ]
    },
    {
     "name": "stdout",
     "output_type": "stream",
     "text": [
      "Running the RegGBSCV SCV approach for dataset: Brazil_Election_2018_Sampled_dec0.3_prob0.4 kappa 0.2 complex_param 1\n"
     ]
    },
    {
     "name": "stderr",
     "output_type": "stream",
     "text": [
      "Training model: 100%|██████████| 27/27 [00:02<00:00, 11.43it/s]\n",
      "Predicting test set: 100%|██████████| 27/27 [00:00<00:00, 68.79it/s]\n"
     ]
    },
    {
     "name": "stdout",
     "output_type": "stream",
     "text": [
      "Running the RegGBSCV SCV approach for dataset: Brazil_Election_2018_Sampled_dec0.3_prob0.4 kappa 0.4 complex_param 1\n"
     ]
    },
    {
     "name": "stderr",
     "output_type": "stream",
     "text": [
      "Training model: 100%|██████████| 27/27 [00:01<00:00, 15.28it/s]\n",
      "Predicting test set: 100%|██████████| 27/27 [00:00<00:00, 38.83it/s]\n"
     ]
    },
    {
     "name": "stdout",
     "output_type": "stream",
     "text": [
      "Running the RegGBSCV SCV approach for dataset: Brazil_Election_2018_Sampled_dec0.3_prob0.4 kappa 0.6 complex_param 1\n"
     ]
    },
    {
     "name": "stderr",
     "output_type": "stream",
     "text": [
      "Training model: 100%|██████████| 27/27 [00:01<00:00, 17.46it/s]\n",
      "Predicting test set: 100%|██████████| 27/27 [00:00<00:00, 50.68it/s]\n"
     ]
    },
    {
     "name": "stdout",
     "output_type": "stream",
     "text": [
      "Running the RegGBSCV SCV approach for dataset: Brazil_Election_2018_Sampled_dec0.3_prob0.4 kappa 0.8 complex_param 1\n"
     ]
    },
    {
     "name": "stderr",
     "output_type": "stream",
     "text": [
      "Training model: 100%|██████████| 27/27 [00:01<00:00, 14.87it/s]\n",
      "Predicting test set: 100%|██████████| 27/27 [00:00<00:00, 59.02it/s]\n"
     ]
    },
    {
     "name": "stdout",
     "output_type": "stream",
     "text": [
      "Running the RegGBSCV SCV approach for dataset: Brazil_Election_2018_Sampled_dec0.3_prob0.6 kappa 0.0 complex_param 1\n"
     ]
    },
    {
     "name": "stderr",
     "output_type": "stream",
     "text": [
      "Training model: 100%|██████████| 27/27 [00:01<00:00, 19.86it/s]\n",
      "Predicting test set: 100%|██████████| 27/27 [00:00<00:00, 77.71it/s]\n"
     ]
    },
    {
     "name": "stdout",
     "output_type": "stream",
     "text": [
      "Running the RegGBSCV SCV approach for dataset: Brazil_Election_2018_Sampled_dec0.3_prob0.6 kappa 0.2 complex_param 1\n"
     ]
    },
    {
     "name": "stderr",
     "output_type": "stream",
     "text": [
      "Training model: 100%|██████████| 27/27 [00:01<00:00, 22.10it/s]\n",
      "Predicting test set: 100%|██████████| 27/27 [00:00<00:00, 85.62it/s]\n"
     ]
    },
    {
     "name": "stdout",
     "output_type": "stream",
     "text": [
      "Running the RegGBSCV SCV approach for dataset: Brazil_Election_2018_Sampled_dec0.3_prob0.6 kappa 0.4 complex_param 1\n"
     ]
    },
    {
     "name": "stderr",
     "output_type": "stream",
     "text": [
      "Training model: 100%|██████████| 27/27 [00:01<00:00, 18.86it/s]\n",
      "Predicting test set: 100%|██████████| 27/27 [00:00<00:00, 89.20it/s]\n"
     ]
    },
    {
     "name": "stdout",
     "output_type": "stream",
     "text": [
      "Running the RegGBSCV SCV approach for dataset: Brazil_Election_2018_Sampled_dec0.3_prob0.6 kappa 0.6 complex_param 1\n"
     ]
    },
    {
     "name": "stderr",
     "output_type": "stream",
     "text": [
      "Training model: 100%|██████████| 27/27 [00:04<00:00,  6.47it/s]\n",
      "Predicting test set: 100%|██████████| 27/27 [00:00<00:00, 35.09it/s]\n"
     ]
    },
    {
     "name": "stdout",
     "output_type": "stream",
     "text": [
      "Running the RegGBSCV SCV approach for dataset: Brazil_Election_2018_Sampled_dec0.3_prob0.6 kappa 0.8 complex_param 1\n"
     ]
    },
    {
     "name": "stderr",
     "output_type": "stream",
     "text": [
      "Training model: 100%|██████████| 27/27 [00:03<00:00,  8.61it/s]\n",
      "Predicting test set: 100%|██████████| 27/27 [00:00<00:00, 56.62it/s]\n"
     ]
    },
    {
     "name": "stdout",
     "output_type": "stream",
     "text": [
      "Running the RegGBSCV SCV approach for dataset: Brazil_Election_2018_Sampled_dec0.3_prob0.8 kappa 0.0 complex_param 1\n"
     ]
    },
    {
     "name": "stderr",
     "output_type": "stream",
     "text": [
      "Training model: 100%|██████████| 27/27 [00:00<00:00, 31.90it/s]\n",
      "Predicting test set: 100%|██████████| 27/27 [00:00<00:00, 67.20it/s]\n"
     ]
    },
    {
     "name": "stdout",
     "output_type": "stream",
     "text": [
      "Running the RegGBSCV SCV approach for dataset: Brazil_Election_2018_Sampled_dec0.3_prob0.8 kappa 0.2 complex_param 1\n"
     ]
    },
    {
     "name": "stderr",
     "output_type": "stream",
     "text": [
      "Training model: 100%|██████████| 27/27 [00:00<00:00, 32.93it/s]\n",
      "Predicting test set: 100%|██████████| 27/27 [00:00<00:00, 97.80it/s] \n"
     ]
    },
    {
     "name": "stdout",
     "output_type": "stream",
     "text": [
      "Running the RegGBSCV SCV approach for dataset: Brazil_Election_2018_Sampled_dec0.3_prob0.8 kappa 0.4 complex_param 1\n"
     ]
    },
    {
     "name": "stderr",
     "output_type": "stream",
     "text": [
      "Training model: 100%|██████████| 27/27 [00:00<00:00, 30.66it/s]\n",
      "Predicting test set: 100%|██████████| 27/27 [00:00<00:00, 102.82it/s]\n"
     ]
    },
    {
     "name": "stdout",
     "output_type": "stream",
     "text": [
      "Running the RegGBSCV SCV approach for dataset: Brazil_Election_2018_Sampled_dec0.3_prob0.8 kappa 0.6 complex_param 1\n"
     ]
    },
    {
     "name": "stderr",
     "output_type": "stream",
     "text": [
      "Training model: 100%|██████████| 27/27 [00:01<00:00, 26.56it/s]\n",
      "Predicting test set: 100%|██████████| 27/27 [00:00<00:00, 42.83it/s]\n"
     ]
    },
    {
     "name": "stdout",
     "output_type": "stream",
     "text": [
      "Running the RegGBSCV SCV approach for dataset: Brazil_Election_2018_Sampled_dec0.3_prob0.8 kappa 0.8 complex_param 1\n"
     ]
    },
    {
     "name": "stderr",
     "output_type": "stream",
     "text": [
      "Training model: 100%|██████████| 27/27 [00:00<00:00, 29.85it/s]\n",
      "Predicting test set: 100%|██████████| 27/27 [00:00<00:00, 72.85it/s]\n"
     ]
    }
   ],
   "source": [
    "dataset_list = brazil_datasets\n",
    "fs_method = \"CFS\"\n",
    "ml_methods = [\"KNN\", \"OLS\", \"Lasso\", \"Ridge\", \"ElasticNet\", \"DT\", \"LGBM\", \"RF\", \"MLP\", \"SVM\"]\n",
    "\n",
    "if fs_method == \"CFS\" and SWITCHERS[\"fs\"]:\n",
    "    jvm.start()\n",
    "\n",
    "for dataset in dataset_list:\n",
    "    # Load data\n",
    "    path = os.path.join(env_var[\"root_path\"], dataset, \"data.csv\")\n",
    "    data = pd.read_csv(path, index_col=\"INDEX\", low_memory=False)\n",
    "    try:\n",
    "        data.drop(columns=[\"[GEO]_LATITUDE\", \"[GEO]_LONGITUDE\"], inplace=True)\n",
    "    except KeyError:\n",
    "        pass\n",
    "    # Load adjacency matrix\n",
    "    adj_matrix = pd.read_csv(\n",
    "        os.path.join(env_var[\"root_path\"], dataset, \"queen_matrix.csv\"), low_memory=False\n",
    "    )\n",
    "    w_matrix = pd.read_csv(\n",
    "        os.path.join(env_var[\"root_path\"], dataset, \"normd_matrix.csv\"), low_memory=False\n",
    "    )\n",
    "    adj_matrix.set_index(adj_matrix.columns[0], inplace=True)\n",
    "    w_matrix.set_index(w_matrix.columns[0], inplace=True)\n",
    "    for ml_method in ml_methods:\n",
    "        for kappa in [0.0, 0.2, 0.4, 0.6, 0.8]:\n",
    "            # Instanciate pipeline\n",
    "            pipeline = Pipeline(\n",
    "                root_path=os.path.join(env_var[\"root_path\"], dataset),\n",
    "                data=data,\n",
    "                adj_matrix=adj_matrix,\n",
    "                w_matrix=w_matrix,\n",
    "                index_col=\"INDEX\",\n",
    "                fold_col=\"INDEX_FOLDS\",\n",
    "                target_col=\"TARGET\",\n",
    "                scv_method=\"RegGBSCV\",\n",
    "                type_graph=\"Weighted\",\n",
    "                run_selection=False,\n",
    "                kappa=kappa,\n",
    "                fs_method=fs_method,\n",
    "                ml_method=ml_method,\n",
    "                paper=False,\n",
    "                switchers=SWITCHERS\n",
    "            )\n",
    "            print(f\"Running the RegGBSCV SCV approach for dataset: {dataset} kappa {kappa} ML Method {ml_method}\")\n",
    "            pipeline.run()\n",
    "if fs_method == \"CFS\" and SWITCHERS[\"fs\"]:\n",
    "    jvm.stop()\n",
    "\n",
    "\n"
   ]
  }
 ],
 "metadata": {
  "interpreter": {
   "hash": "16e306bc925144e33eb7798286ee39e98b4eae36f3b0781ec31a8ce823bfdc1b"
  },
  "kernelspec": {
   "display_name": "Python 3.8.12 64-bit ('graph_based_scv': conda)",
   "name": "python3"
  },
  "language_info": {
   "codemirror_mode": {
    "name": "ipython",
    "version": 3
   },
   "file_extension": ".py",
   "mimetype": "text/x-python",
   "name": "python",
   "nbconvert_exporter": "python",
   "pygments_lexer": "ipython3",
   "version": "3.8.12"
  },
  "orig_nbformat": 4
 },
 "nbformat": 4,
 "nbformat_minor": 2
}
