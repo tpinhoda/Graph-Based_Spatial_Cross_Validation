{
 "cells": [
  {
   "cell_type": "code",
   "execution_count": 1,
   "metadata": {},
   "outputs": [
    {
     "name": "stderr",
     "output_type": "stream",
     "text": [
      "/home/tpinho/miniconda3/lib/python3.9/site-packages/tqdm/auto.py:22: TqdmWarning: IProgress not found. Please update jupyter and ipywidgets. See https://ipywidgets.readthedocs.io/en/stable/user_install.html\n",
      "  from .autonotebook import tqdm as notebook_tqdm\n"
     ]
    }
   ],
   "source": [
    "import os\n",
    "import networkx as nx\n",
    "import numpy as np\n",
    "import pandas as pd\n",
    "import torch\n",
    "from tqdm import tqdm\n",
    "from sklearn.preprocessing import StandardScaler\n",
    "\n",
    "data_path = \"/home/tpinho/IJGIS/Datasets/Brazil_Election_2018/Original\"\n",
    "adj_matrix = pd.read_csv(os.path.join(data_path, \"queen_matrix.csv\"))\n",
    "adj_matrix.set_index(adj_matrix.columns[0], inplace=True)\n",
    "original_data = pd.read_csv(os.path.join(data_path, \"data.csv\"), index_col=\"INDEX\")\n",
    "original_data.drop(columns=[\"[GEO]_LATITUDE\", \"[GEO]_LONGITUDE\", \"INDEX_FOLDS\"], inplace=True)\n",
    "\n",
    "cols_in_data = [c for c in adj_matrix.index if c in original_data.index]\n",
    "adj_matrix = adj_matrix.loc[cols_in_data]\n",
    "adj_matrix = adj_matrix[adj_matrix.index.astype(\"str\")]"
   ]
  },
  {
   "cell_type": "code",
   "execution_count": 2,
   "metadata": {},
   "outputs": [
    {
     "name": "stdout",
     "output_type": "stream",
     "text": [
      "[[0.9959689  0.98877052 0.00143968 ... 0.06907316 0.05178486 0.14955266]\n",
      " [0.98338658 0.95782748 0.         ... 0.0898704  0.07435198 0.19379971]\n",
      " [0.99280094 0.95613595 0.00100452 ... 0.09837843 0.07909871 0.17258823]\n",
      " ...\n",
      " [1.         1.         0.         ... 0.11731044 0.09537434 0.22208083]\n",
      " [0.99385875 0.99215285 0.         ... 0.13761635 0.10750137 0.19025179]\n",
      " [0.995625   0.99       0.001875   ... 0.10762254 0.08625501 0.14887995]]\n"
     ]
    }
   ],
   "source": [
    "# load graph from networkx library\n",
    "G = nx.from_numpy_matrix(adj_matrix.to_numpy())\n",
    "\n",
    "# retrieve the labels for each node\n",
    "labels = original_data[[\"TARGET\"]].to_numpy()\n",
    "\n",
    "# create edge index from \n",
    "adj = nx.to_scipy_sparse_matrix(G).tocoo()\n",
    "row = torch.from_numpy(adj.row.astype(np.int64)).to(torch.long)\n",
    "col = torch.from_numpy(adj.col.astype(np.int64)).to(torch.long)\n",
    "edge_index = torch.stack([row, col], dim=0)\n",
    "\n",
    "# using degree as embedding\n",
    "embeddings = original_data.drop(columns=[\"TARGET\"]).to_numpy()\n",
    "# normalizing degree values\n",
    "#scale = StandardScaler()\n",
    "#embeddings = scale.fit_transform(embeddings.reshape(-1,1))\n",
    "print(embeddings)"
   ]
  },
  {
   "cell_type": "code",
   "execution_count": 3,
   "metadata": {},
   "outputs": [
    {
     "name": "stdout",
     "output_type": "stream",
     "text": [
      "torch.Size([5565, 1])\n",
      "(3895,)\n"
     ]
    },
    {
     "data": {
      "text/plain": [
       "Data(edge_index=[2, 31724], num_nodes=5565, x=[5565, 3998], y=[5565, 1], num_classes=1, train_mask=[5565], test_mask=[5565])"
      ]
     },
     "execution_count": 3,
     "metadata": {},
     "output_type": "execute_result"
    }
   ],
   "source": [
    "import torch\n",
    "import pandas as pd\n",
    "from torch_geometric.data import InMemoryDataset, Data\n",
    "from sklearn.model_selection import train_test_split\n",
    "import torch_geometric.transforms as T\n",
    "\n",
    "# custom dataset\n",
    "class KarateDataset(InMemoryDataset):\n",
    "    def __init__(self, transform=None):\n",
    "        super(KarateDataset, self).__init__('.', transform, None, None)\n",
    "\n",
    "        data = Data(edge_index=edge_index)\n",
    "        \n",
    "        data.num_nodes = G.number_of_nodes()\n",
    "        \n",
    "        # embedding \n",
    "        data.x = torch.from_numpy(embeddings).type(torch.float32)\n",
    "        \n",
    "        # labels\n",
    "        y = torch.from_numpy(labels).type(torch.float32)\n",
    "        data.y = y.clone().detach()\n",
    "        print(data.y.shape)\n",
    "        \n",
    "        data.num_classes = 1\n",
    "        # splitting the data into train, validation and test\n",
    "        X_train, X_test, y_train, y_test = train_test_split(pd.Series(list(G.nodes())), \n",
    "                                                            original_data[\"TARGET\"],\n",
    "                                                            test_size=0.30, \n",
    "                                                            random_state=42)\n",
    "        print(y_train.shape)\n",
    "        n_nodes = G.number_of_nodes()\n",
    "        \n",
    "        # create train and test masks for data\n",
    "        train_mask = torch.zeros(n_nodes, dtype=torch.bool)\n",
    "        test_mask = torch.zeros(n_nodes, dtype=torch.bool)\n",
    "        train_mask[X_train.index] = True\n",
    "        test_mask[X_test.index] = True\n",
    "        data['train_mask'] = train_mask\n",
    "        data['test_mask'] = test_mask\n",
    "\n",
    "        self.data, self.slices = self.collate([data])\n",
    "\n",
    "    def _download(self):\n",
    "        return\n",
    "\n",
    "    def _process(self):\n",
    "        return\n",
    "\n",
    "    def __repr__(self):\n",
    "        return '{}()'.format(self.__class__.__name__)\n",
    "    \n",
    "dataset = KarateDataset()\n",
    "data = dataset[0]\n",
    "data"
   ]
  },
  {
   "cell_type": "code",
   "execution_count": 4,
   "metadata": {},
   "outputs": [],
   "source": [
    "import torch.nn as nn\n",
    "import torch.nn.functional as F\n",
    "from torch_geometric.nn import GCNConv\n",
    "\n",
    "# GCN model with 2 layers \n",
    "class Net(torch.nn.Module):\n",
    "    def __init__(self):\n",
    "        super(Net, self).__init__()\n",
    "        self.conv1 = GCNConv(data.num_features, 1000)\n",
    "        self.conv2 = GCNConv(1000, 500)\n",
    "        self.linear1 = torch.nn.Linear(500,1)\n",
    "\n",
    "    def forward(self):\n",
    "        x, edge_index = data.x, data.edge_index\n",
    "        x = F.relu(self.conv1(x, edge_index))\n",
    "        x = F.dropout(x, training=self.training)\n",
    "        x = self.conv2(x, edge_index)\n",
    "        x = self.linear1(x)\n",
    "        return x\n",
    "\n",
    "device = torch.device('cuda' if torch.cuda.is_available() else 'cpu')\n",
    "\n",
    "data =  data.to(device)\n",
    "\n",
    "model = Net().to(device) "
   ]
  },
  {
   "cell_type": "code",
   "execution_count": 5,
   "metadata": {},
   "outputs": [
    {
     "name": "stderr",
     "output_type": "stream",
     "text": [
      "100%|██████████| 399/399 [05:37<00:00,  1.18it/s]\n"
     ]
    },
    {
     "name": "stdout",
     "output_type": "stream",
     "text": [
      "tensor([[43.6241],\n",
      "        [40.6020],\n",
      "        [42.7261],\n",
      "        ...,\n",
      "        [40.0590],\n",
      "        [49.1139],\n",
      "        [48.2970]])\n",
      "tensor([[47.9763],\n",
      "        [74.7425],\n",
      "        [71.1065],\n",
      "        ...,\n",
      "        [60.0694],\n",
      "        [23.3065],\n",
      "        [39.9842]])\n",
      "tensor(360016.9062)\n"
     ]
    }
   ],
   "source": [
    "torch.manual_seed(42)\n",
    "\n",
    "optimizer_name = \"Adam\"\n",
    "lr = 1e-3\n",
    "optimizer = getattr(torch.optim, optimizer_name)(model.parameters(), lr=lr)\n",
    "epochs = 400\n",
    "\n",
    "def train():\n",
    "  model.train()\n",
    "  optimizer.zero_grad()\n",
    "  F.mse_loss(model()[data.train_mask], data.y[data.train_mask]).backward()\n",
    "  optimizer.step()\n",
    "\n",
    "@torch.no_grad()\n",
    "def test():\n",
    "  model.eval()\n",
    "  logits = model()\n",
    "  mask1 = data['test_mask']\n",
    "  test_pred = logits[mask1]\n",
    "  test_true = data.y[mask1]\n",
    "  print(test_pred)\n",
    "  print(test_true)\n",
    "  mse = test_pred.sub(test_true)**2\n",
    "  return mse.sum()\n",
    "\n",
    "for epoch in tqdm(range(1, epochs)):\n",
    "  train()\n",
    "\n",
    "mse = test()\n",
    "print(mse)\n"
   ]
  }
 ],
 "metadata": {
  "interpreter": {
   "hash": "a61c6142992f866a8cf4748759f5d3c56e0a281866e239fdaf1841f49fe45dcf"
  },
  "kernelspec": {
   "display_name": "Python 3.8.12 ('RegGBSCV')",
   "language": "python",
   "name": "python3"
  },
  "language_info": {
   "codemirror_mode": {
    "name": "ipython",
    "version": 3
   },
   "file_extension": ".py",
   "mimetype": "text/x-python",
   "name": "python",
   "nbconvert_exporter": "python",
   "pygments_lexer": "ipython3",
   "version": "3.9.7"
  },
  "orig_nbformat": 4
 },
 "nbformat": 4,
 "nbformat_minor": 2
}
