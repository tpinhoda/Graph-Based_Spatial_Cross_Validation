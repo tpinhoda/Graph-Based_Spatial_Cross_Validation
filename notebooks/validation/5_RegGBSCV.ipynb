{
 "cells": [
  {
   "cell_type": "markdown",
   "metadata": {},
   "source": [
    "# Execute the Graph-Based Spatial Cross-Validation experiments from ICMLA21 Paper"
   ]
  },
  {
   "cell_type": "markdown",
   "metadata": {},
   "source": [
    "## 1 - Initialize libraries"
   ]
  },
  {
   "cell_type": "code",
   "execution_count": 13,
   "metadata": {},
   "outputs": [],
   "source": [
    "import os\n",
    "import pandas as pd\n",
    "import numpy as np\n",
    "from weka.core import jvm\n",
    "from src import utils\n",
    "from src.pipeline import Pipeline\n",
    "from src.visualization.performance import VizMetrics\n",
    "from src.visualization.dependence import VizDependence\n",
    "import warnings\n",
    "warnings.filterwarnings(\"ignore\")"
   ]
  },
  {
   "cell_type": "markdown",
   "metadata": {},
   "source": [
    "## 2 - Initialize loggers"
   ]
  },
  {
   "cell_type": "code",
   "execution_count": 14,
   "metadata": {},
   "outputs": [],
   "source": [
    "utils.initialize_coloredlog()\n",
    "utils.initialize_rich_tracerback()\n",
    "utils.initialize_logging()"
   ]
  },
  {
   "cell_type": "markdown",
   "metadata": {},
   "source": [
    "## 3 - Initialize working path and enviromental variables"
   ]
  },
  {
   "cell_type": "code",
   "execution_count": 15,
   "metadata": {},
   "outputs": [],
   "source": [
    "# Project path\n",
    "project_dir = os.path.abspath('')[:-5]\n",
    "# Load enviromental variables\n",
    "env_var = utils.load_env_variables(project_dir)"
   ]
  },
  {
   "cell_type": "markdown",
   "metadata": {},
   "source": [
    "## 5 - Set pipeline switchers, the default is to set True to all processes"
   ]
  },
  {
   "cell_type": "code",
   "execution_count": 16,
   "metadata": {},
   "outputs": [],
   "source": [
    "# Set pipeline switchers\n",
    "SWITCHERS = {\n",
    "    \"scv\": True,\n",
    "    \"fs\": False,\n",
    "    \"train\": False,\n",
    "    \"predict\": False,\n",
    "    \"evaluate\": False,\n",
    "}"
   ]
  },
  {
   "cell_type": "markdown",
   "metadata": {},
   "source": [
    "# 5 - List all datasets"
   ]
  },
  {
   "cell_type": "code",
   "execution_count": 17,
   "metadata": {},
   "outputs": [],
   "source": [
    "brazil_removed_datasets = [\"Brazil_Election_2018_Sampled_dec0.3_prob0.1_removed_north\",\n",
    "                   \"Brazil_Election_2018_Sampled_dec0.3_prob0.1_removed_northeast\",\n",
    "                   \"Brazil_Election_2018_Sampled_dec0.3_prob0.1_removed_south\",\n",
    "                   \"Brazil_Election_2018_Sampled_dec0.3_prob0.1_removed_southeast\",\n",
    "                   \"Brazil_Election_2018_Sampled_dec0.3_prob0.1_removed_centerwest\"]\n",
    "\n",
    "brazil_datasets = [#\"Brazil_Election_2018_Sampled_dec0.3_prob0.1\",\n",
    "                   #\"Brazil_Election_2018_Sampled_dec0.3_prob0.2\",\n",
    "                   #\"Brazil_Election_2018_Sampled_dec0.3_prob0.3\",\n",
    "                   \"Brazil_Election_2018_Sampled_dec0.3_prob0.4\",\n",
    "                   \"Brazil_Election_2018_Sampled_dec0.3_prob0.5\",\n",
    "                   \"Brazil_Election_2018_Sampled_dec0.3_prob0.6\",\n",
    "                   \"Brazil_Election_2018_Sampled_dec0.3_prob0.7\",\n",
    "                   \"Brazil_Election_2018_Sampled_dec0.3_prob0.8\",\n",
    "                   \"Brazil_Election_2018_Sampled_dec0.3_prob0.9\"\n",
    "                   ]\n",
    "\n",
    "australia_datasets = [\"Australia_Election_2019_Sampled_dec0.05_prob0.1\",\n",
    "                   \"Australia_Election_2019_Sampled_dec0.05_prob0.2\",\n",
    "                   \"Australia_Election_2019_Sampled_dec0.05_prob0.3\",\n",
    "                   \"Australia_Election_2019_Sampled_dec0.05_prob0.4\",\n",
    "                   \"Australia_Election_2019_Sampled_dec0.05_prob0.5\",\n",
    "                   \"Australia_Election_2019_Sampled_dec0.05_prob0.6\",\n",
    "                   \"Australia_Election_2019_Sampled_dec0.05_prob0.7\",\n",
    "                   \"Australia_Election_2019_Sampled_dec0.05_prob0.8\",\n",
    "                   \"Australia_Election_2019_Sampled_dec0.05_prob0.9\",\n",
    "                   ]\n",
    "brazil_geoeconomical_regions = [\"Brazil_Election_2018_removed_AMAZONIA\",\n",
    "                                \"Brazil_Election_2018_removed_NORDESTE\",\n",
    "                                \"Brazil_Election_2018_removed_CENTRO_SUL\"]\n",
    "\n",
    "us_corn_datasets = [\"US_Corn_Yield_2016_Removed_Northeast\",\n",
    "                    \"US_Corn_Yield_2016_Removed_Southeast\",\n",
    "                    \"US_Corn_Yield_2016_Removed_Midwest\",\n",
    "                    \"US_Corn_Yield_2016_Removed_Southwest\",\n",
    "                    \"US_Corn_Yield_2016_Removed_West\"]\n",
    "\n",
    "us_wheat_datasets = [\"US_Wheat_2014_Removed_Kansas\",\n",
    "                    \"US_Wheat_2014_Removed_Montana\",\n",
    "                    \"US_Wheat_2014_Removed_Oklahoma\",\n",
    "                    \"US_Wheat_2014_Removed_Texas\",\n",
    "                    \"US_Wheat_2014_Removed_Washington\"]\n",
    "\n",
    "single = [\"Brazil_Election_2018_Sampled_dec0.3_prob0.5\"]"
   ]
  },
  {
   "cell_type": "markdown",
   "metadata": {},
   "source": [
    "## 6 - Runs the pipeline for each method\n",
    "OBS: The results and files generated from the pipeline execution will be in the created folder Results in the data directory"
   ]
  },
  {
   "cell_type": "markdown",
   "metadata": {},
   "source": [
    "### 6.2 RegGBSCV"
   ]
  },
  {
   "cell_type": "code",
   "execution_count": 18,
   "metadata": {},
   "outputs": [
    {
     "name": "stdout",
     "output_type": "stream",
     "text": [
      "Running the RegGBSCV SCV approach for dataset: US_Wheat_2014_Removed_Kansas kappa 0.0 ML Method KNN\n"
     ]
    },
    {
     "name": "stderr",
     "output_type": "stream",
     "text": [
      "Creating folds: 100%|██████████| 4/4 [00:07<00:00,  1.84s/it]\n"
     ]
    },
    {
     "name": "stdout",
     "output_type": "stream",
     "text": [
      "Execution time: 7.448563814163208 seconds\n",
      "Running the RegGBSCV SCV approach for dataset: US_Wheat_2014_Removed_Kansas kappa 0.1 ML Method KNN\n"
     ]
    },
    {
     "name": "stderr",
     "output_type": "stream",
     "text": [
      "Creating folds: 100%|██████████| 4/4 [00:07<00:00,  1.84s/it]\n"
     ]
    },
    {
     "name": "stdout",
     "output_type": "stream",
     "text": [
      "Execution time: 7.386594533920288 seconds\n",
      "Running the RegGBSCV SCV approach for dataset: US_Wheat_2014_Removed_Kansas kappa 0.2 ML Method KNN\n"
     ]
    },
    {
     "name": "stderr",
     "output_type": "stream",
     "text": [
      "Creating folds: 100%|██████████| 4/4 [00:07<00:00,  1.85s/it]\n"
     ]
    },
    {
     "name": "stdout",
     "output_type": "stream",
     "text": [
      "Execution time: 7.398498296737671 seconds\n",
      "Running the RegGBSCV SCV approach for dataset: US_Wheat_2014_Removed_Kansas kappa 0.3 ML Method KNN\n"
     ]
    },
    {
     "name": "stderr",
     "output_type": "stream",
     "text": [
      "Creating folds: 100%|██████████| 4/4 [00:07<00:00,  1.82s/it]\n"
     ]
    },
    {
     "name": "stdout",
     "output_type": "stream",
     "text": [
      "Execution time: 7.3119988441467285 seconds\n",
      "Running the RegGBSCV SCV approach for dataset: US_Wheat_2014_Removed_Kansas kappa 0.4 ML Method KNN\n"
     ]
    },
    {
     "name": "stderr",
     "output_type": "stream",
     "text": [
      "Creating folds: 100%|██████████| 4/4 [00:07<00:00,  1.82s/it]\n"
     ]
    },
    {
     "name": "stdout",
     "output_type": "stream",
     "text": [
      "Execution time: 7.302840232849121 seconds\n",
      "Running the RegGBSCV SCV approach for dataset: US_Wheat_2014_Removed_Kansas kappa 0.5 ML Method KNN\n"
     ]
    },
    {
     "name": "stderr",
     "output_type": "stream",
     "text": [
      "Creating folds: 100%|██████████| 4/4 [00:07<00:00,  1.85s/it]\n"
     ]
    },
    {
     "name": "stdout",
     "output_type": "stream",
     "text": [
      "Execution time: 7.415990352630615 seconds\n",
      "Running the RegGBSCV SCV approach for dataset: US_Wheat_2014_Removed_Kansas kappa 0.6 ML Method KNN\n"
     ]
    },
    {
     "name": "stderr",
     "output_type": "stream",
     "text": [
      "Creating folds: 100%|██████████| 4/4 [00:07<00:00,  1.82s/it]\n"
     ]
    },
    {
     "name": "stdout",
     "output_type": "stream",
     "text": [
      "Execution time: 7.2981157302856445 seconds\n",
      "Running the RegGBSCV SCV approach for dataset: US_Wheat_2014_Removed_Kansas kappa 0.7 ML Method KNN\n"
     ]
    },
    {
     "name": "stderr",
     "output_type": "stream",
     "text": [
      "Creating folds: 100%|██████████| 4/4 [00:07<00:00,  1.82s/it]\n"
     ]
    },
    {
     "name": "stdout",
     "output_type": "stream",
     "text": [
      "Execution time: 7.294617176055908 seconds\n",
      "Running the RegGBSCV SCV approach for dataset: US_Wheat_2014_Removed_Kansas kappa 0.8 ML Method KNN\n"
     ]
    },
    {
     "name": "stderr",
     "output_type": "stream",
     "text": [
      "Creating folds: 100%|██████████| 4/4 [00:07<00:00,  1.85s/it]\n"
     ]
    },
    {
     "name": "stdout",
     "output_type": "stream",
     "text": [
      "Execution time: 7.42519998550415 seconds\n",
      "Running the RegGBSCV SCV approach for dataset: US_Wheat_2014_Removed_Kansas kappa 0.9 ML Method KNN\n"
     ]
    },
    {
     "name": "stderr",
     "output_type": "stream",
     "text": [
      "Creating folds: 100%|██████████| 4/4 [00:07<00:00,  1.83s/it]\n"
     ]
    },
    {
     "name": "stdout",
     "output_type": "stream",
     "text": [
      "Execution time: 7.323801755905151 seconds\n",
      "Running the RegGBSCV SCV approach for dataset: US_Wheat_2014_Removed_Kansas kappa 1.0 ML Method KNN\n"
     ]
    },
    {
     "name": "stderr",
     "output_type": "stream",
     "text": [
      "Creating folds: 100%|██████████| 4/4 [00:07<00:00,  1.82s/it]\n"
     ]
    },
    {
     "name": "stdout",
     "output_type": "stream",
     "text": [
      "Execution time: 7.304224967956543 seconds\n",
      "Running the RegGBSCV SCV approach for dataset: US_Wheat_2014_Removed_Montana kappa 0.0 ML Method KNN\n"
     ]
    },
    {
     "name": "stderr",
     "output_type": "stream",
     "text": [
      "Creating folds: 100%|██████████| 4/4 [00:09<00:00,  2.26s/it]\n"
     ]
    },
    {
     "name": "stdout",
     "output_type": "stream",
     "text": [
      "Execution time: 9.06947922706604 seconds\n",
      "Running the RegGBSCV SCV approach for dataset: US_Wheat_2014_Removed_Montana kappa 0.1 ML Method KNN\n"
     ]
    },
    {
     "name": "stderr",
     "output_type": "stream",
     "text": [
      "Creating folds: 100%|██████████| 4/4 [00:08<00:00,  2.24s/it]\n"
     ]
    },
    {
     "name": "stdout",
     "output_type": "stream",
     "text": [
      "Execution time: 8.968487977981567 seconds\n",
      "Running the RegGBSCV SCV approach for dataset: US_Wheat_2014_Removed_Montana kappa 0.2 ML Method KNN\n"
     ]
    },
    {
     "name": "stderr",
     "output_type": "stream",
     "text": [
      "Creating folds: 100%|██████████| 4/4 [00:09<00:00,  2.26s/it]\n"
     ]
    },
    {
     "name": "stdout",
     "output_type": "stream",
     "text": [
      "Execution time: 9.071960687637329 seconds\n",
      "Running the RegGBSCV SCV approach for dataset: US_Wheat_2014_Removed_Montana kappa 0.3 ML Method KNN\n"
     ]
    },
    {
     "name": "stderr",
     "output_type": "stream",
     "text": [
      "Creating folds: 100%|██████████| 4/4 [00:08<00:00,  2.23s/it]\n"
     ]
    },
    {
     "name": "stdout",
     "output_type": "stream",
     "text": [
      "Execution time: 8.940437078475952 seconds\n",
      "Running the RegGBSCV SCV approach for dataset: US_Wheat_2014_Removed_Montana kappa 0.4 ML Method KNN\n"
     ]
    },
    {
     "name": "stderr",
     "output_type": "stream",
     "text": [
      "Creating folds: 100%|██████████| 4/4 [00:09<00:00,  2.26s/it]\n"
     ]
    },
    {
     "name": "stdout",
     "output_type": "stream",
     "text": [
      "Execution time: 9.053532838821411 seconds\n",
      "Running the RegGBSCV SCV approach for dataset: US_Wheat_2014_Removed_Montana kappa 0.5 ML Method KNN\n"
     ]
    },
    {
     "name": "stderr",
     "output_type": "stream",
     "text": [
      "Creating folds: 100%|██████████| 4/4 [00:08<00:00,  2.23s/it]\n"
     ]
    },
    {
     "name": "stdout",
     "output_type": "stream",
     "text": [
      "Execution time: 8.944868087768555 seconds\n",
      "Running the RegGBSCV SCV approach for dataset: US_Wheat_2014_Removed_Montana kappa 0.6 ML Method KNN\n"
     ]
    },
    {
     "name": "stderr",
     "output_type": "stream",
     "text": [
      "Creating folds: 100%|██████████| 4/4 [00:09<00:00,  2.26s/it]\n"
     ]
    },
    {
     "name": "stdout",
     "output_type": "stream",
     "text": [
      "Execution time: 9.056759119033813 seconds\n",
      "Running the RegGBSCV SCV approach for dataset: US_Wheat_2014_Removed_Montana kappa 0.7 ML Method KNN\n"
     ]
    },
    {
     "name": "stderr",
     "output_type": "stream",
     "text": [
      "Creating folds: 100%|██████████| 4/4 [00:08<00:00,  2.23s/it]\n"
     ]
    },
    {
     "name": "stdout",
     "output_type": "stream",
     "text": [
      "Execution time: 8.932307481765747 seconds\n",
      "Running the RegGBSCV SCV approach for dataset: US_Wheat_2014_Removed_Montana kappa 0.8 ML Method KNN\n"
     ]
    },
    {
     "name": "stderr",
     "output_type": "stream",
     "text": [
      "Creating folds: 100%|██████████| 4/4 [00:08<00:00,  2.23s/it]\n"
     ]
    },
    {
     "name": "stdout",
     "output_type": "stream",
     "text": [
      "Execution time: 8.932498693466187 seconds\n",
      "Running the RegGBSCV SCV approach for dataset: US_Wheat_2014_Removed_Montana kappa 0.9 ML Method KNN\n"
     ]
    },
    {
     "name": "stderr",
     "output_type": "stream",
     "text": [
      "Creating folds: 100%|██████████| 4/4 [00:09<00:00,  2.26s/it]\n"
     ]
    },
    {
     "name": "stdout",
     "output_type": "stream",
     "text": [
      "Execution time: 9.050633668899536 seconds\n",
      "Running the RegGBSCV SCV approach for dataset: US_Wheat_2014_Removed_Montana kappa 1.0 ML Method KNN\n"
     ]
    },
    {
     "name": "stderr",
     "output_type": "stream",
     "text": [
      "Creating folds: 100%|██████████| 4/4 [00:08<00:00,  2.23s/it]\n"
     ]
    },
    {
     "name": "stdout",
     "output_type": "stream",
     "text": [
      "Execution time: 8.935766458511353 seconds\n",
      "Running the RegGBSCV SCV approach for dataset: US_Wheat_2014_Removed_Oklahoma kappa 0.0 ML Method KNN\n"
     ]
    },
    {
     "name": "stderr",
     "output_type": "stream",
     "text": [
      "Creating folds: 100%|██████████| 4/4 [00:08<00:00,  2.02s/it]\n"
     ]
    },
    {
     "name": "stdout",
     "output_type": "stream",
     "text": [
      "Execution time: 8.11112117767334 seconds\n",
      "Running the RegGBSCV SCV approach for dataset: US_Wheat_2014_Removed_Oklahoma kappa 0.1 ML Method KNN\n"
     ]
    },
    {
     "name": "stderr",
     "output_type": "stream",
     "text": [
      "Creating folds: 100%|██████████| 4/4 [00:07<00:00,  2.00s/it]\n"
     ]
    },
    {
     "name": "stdout",
     "output_type": "stream",
     "text": [
      "Execution time: 8.077019214630127 seconds\n",
      "Running the RegGBSCV SCV approach for dataset: US_Wheat_2014_Removed_Oklahoma kappa 0.2 ML Method KNN\n"
     ]
    },
    {
     "name": "stderr",
     "output_type": "stream",
     "text": [
      "Creating folds: 100%|██████████| 4/4 [00:07<00:00,  1.99s/it]\n"
     ]
    },
    {
     "name": "stdout",
     "output_type": "stream",
     "text": [
      "Execution time: 8.014124393463135 seconds\n",
      "Running the RegGBSCV SCV approach for dataset: US_Wheat_2014_Removed_Oklahoma kappa 0.3 ML Method KNN\n"
     ]
    },
    {
     "name": "stderr",
     "output_type": "stream",
     "text": [
      "Creating folds: 100%|██████████| 4/4 [00:08<00:00,  2.02s/it]\n"
     ]
    },
    {
     "name": "stdout",
     "output_type": "stream",
     "text": [
      "Execution time: 8.098705530166626 seconds\n",
      "Running the RegGBSCV SCV approach for dataset: US_Wheat_2014_Removed_Oklahoma kappa 0.4 ML Method KNN\n"
     ]
    },
    {
     "name": "stderr",
     "output_type": "stream",
     "text": [
      "Creating folds: 100%|██████████| 4/4 [00:07<00:00,  1.99s/it]\n"
     ]
    },
    {
     "name": "stdout",
     "output_type": "stream",
     "text": [
      "Execution time: 7.961683750152588 seconds\n",
      "Running the RegGBSCV SCV approach for dataset: US_Wheat_2014_Removed_Oklahoma kappa 0.5 ML Method KNN\n"
     ]
    },
    {
     "name": "stderr",
     "output_type": "stream",
     "text": [
      "Creating folds: 100%|██████████| 4/4 [00:08<00:00,  2.02s/it]\n"
     ]
    },
    {
     "name": "stdout",
     "output_type": "stream",
     "text": [
      "Execution time: 8.07626485824585 seconds\n",
      "Running the RegGBSCV SCV approach for dataset: US_Wheat_2014_Removed_Oklahoma kappa 0.6 ML Method KNN\n"
     ]
    },
    {
     "name": "stderr",
     "output_type": "stream",
     "text": [
      "Creating folds: 100%|██████████| 4/4 [00:07<00:00,  1.98s/it]\n"
     ]
    },
    {
     "name": "stdout",
     "output_type": "stream",
     "text": [
      "Execution time: 7.9392242431640625 seconds\n",
      "Running the RegGBSCV SCV approach for dataset: US_Wheat_2014_Removed_Oklahoma kappa 0.7 ML Method KNN\n"
     ]
    },
    {
     "name": "stderr",
     "output_type": "stream",
     "text": [
      "Creating folds: 100%|██████████| 4/4 [00:07<00:00,  1.99s/it]\n"
     ]
    },
    {
     "name": "stdout",
     "output_type": "stream",
     "text": [
      "Execution time: 7.9763336181640625 seconds\n",
      "Running the RegGBSCV SCV approach for dataset: US_Wheat_2014_Removed_Oklahoma kappa 0.8 ML Method KNN\n"
     ]
    },
    {
     "name": "stderr",
     "output_type": "stream",
     "text": [
      "Creating folds: 100%|██████████| 4/4 [00:08<00:00,  2.02s/it]\n"
     ]
    },
    {
     "name": "stdout",
     "output_type": "stream",
     "text": [
      "Execution time: 8.108788251876831 seconds\n",
      "Running the RegGBSCV SCV approach for dataset: US_Wheat_2014_Removed_Oklahoma kappa 0.9 ML Method KNN\n"
     ]
    },
    {
     "name": "stderr",
     "output_type": "stream",
     "text": [
      "Creating folds: 100%|██████████| 4/4 [00:07<00:00,  1.99s/it]\n"
     ]
    },
    {
     "name": "stdout",
     "output_type": "stream",
     "text": [
      "Execution time: 7.9819536209106445 seconds\n",
      "Running the RegGBSCV SCV approach for dataset: US_Wheat_2014_Removed_Oklahoma kappa 1.0 ML Method KNN\n"
     ]
    },
    {
     "name": "stderr",
     "output_type": "stream",
     "text": [
      "Creating folds: 100%|██████████| 4/4 [00:07<00:00,  1.99s/it]\n"
     ]
    },
    {
     "name": "stdout",
     "output_type": "stream",
     "text": [
      "Execution time: 7.9576640129089355 seconds\n",
      "Running the RegGBSCV SCV approach for dataset: US_Wheat_2014_Removed_Texas kappa 0.0 ML Method KNN\n"
     ]
    },
    {
     "name": "stderr",
     "output_type": "stream",
     "text": [
      "Creating folds: 100%|██████████| 4/4 [00:06<00:00,  1.57s/it]\n"
     ]
    },
    {
     "name": "stdout",
     "output_type": "stream",
     "text": [
      "Execution time: 6.349148511886597 seconds\n",
      "Running the RegGBSCV SCV approach for dataset: US_Wheat_2014_Removed_Texas kappa 0.1 ML Method KNN\n"
     ]
    },
    {
     "name": "stderr",
     "output_type": "stream",
     "text": [
      "Creating folds: 100%|██████████| 4/4 [00:06<00:00,  1.52s/it]\n"
     ]
    },
    {
     "name": "stdout",
     "output_type": "stream",
     "text": [
      "Execution time: 6.112866640090942 seconds\n",
      "Running the RegGBSCV SCV approach for dataset: US_Wheat_2014_Removed_Texas kappa 0.2 ML Method KNN\n"
     ]
    },
    {
     "name": "stderr",
     "output_type": "stream",
     "text": [
      "Creating folds: 100%|██████████| 4/4 [00:06<00:00,  1.52s/it]\n"
     ]
    },
    {
     "name": "stdout",
     "output_type": "stream",
     "text": [
      "Execution time: 6.113943576812744 seconds\n",
      "Running the RegGBSCV SCV approach for dataset: US_Wheat_2014_Removed_Texas kappa 0.3 ML Method KNN\n"
     ]
    },
    {
     "name": "stderr",
     "output_type": "stream",
     "text": [
      "Creating folds: 100%|██████████| 4/4 [00:06<00:00,  1.52s/it]\n"
     ]
    },
    {
     "name": "stdout",
     "output_type": "stream",
     "text": [
      "Execution time: 6.113433599472046 seconds\n",
      "Running the RegGBSCV SCV approach for dataset: US_Wheat_2014_Removed_Texas kappa 0.4 ML Method KNN\n"
     ]
    },
    {
     "name": "stderr",
     "output_type": "stream",
     "text": [
      "Creating folds: 100%|██████████| 4/4 [00:06<00:00,  1.55s/it]\n"
     ]
    },
    {
     "name": "stdout",
     "output_type": "stream",
     "text": [
      "Execution time: 6.2083420753479 seconds\n",
      "Running the RegGBSCV SCV approach for dataset: US_Wheat_2014_Removed_Texas kappa 0.5 ML Method KNN\n"
     ]
    },
    {
     "name": "stderr",
     "output_type": "stream",
     "text": [
      "Creating folds: 100%|██████████| 4/4 [00:06<00:00,  1.52s/it]\n"
     ]
    },
    {
     "name": "stdout",
     "output_type": "stream",
     "text": [
      "Execution time: 6.112289905548096 seconds\n",
      "Running the RegGBSCV SCV approach for dataset: US_Wheat_2014_Removed_Texas kappa 0.6 ML Method KNN\n"
     ]
    },
    {
     "name": "stderr",
     "output_type": "stream",
     "text": [
      "Creating folds: 100%|██████████| 4/4 [00:06<00:00,  1.52s/it]\n"
     ]
    },
    {
     "name": "stdout",
     "output_type": "stream",
     "text": [
      "Execution time: 6.083211898803711 seconds\n",
      "Running the RegGBSCV SCV approach for dataset: US_Wheat_2014_Removed_Texas kappa 0.7 ML Method KNN\n"
     ]
    },
    {
     "name": "stderr",
     "output_type": "stream",
     "text": [
      "Creating folds: 100%|██████████| 4/4 [00:06<00:00,  1.52s/it]\n"
     ]
    },
    {
     "name": "stdout",
     "output_type": "stream",
     "text": [
      "Execution time: 6.094363212585449 seconds\n",
      "Running the RegGBSCV SCV approach for dataset: US_Wheat_2014_Removed_Texas kappa 0.8 ML Method KNN\n"
     ]
    },
    {
     "name": "stderr",
     "output_type": "stream",
     "text": [
      "Creating folds: 100%|██████████| 4/4 [00:06<00:00,  1.55s/it]\n"
     ]
    },
    {
     "name": "stdout",
     "output_type": "stream",
     "text": [
      "Execution time: 6.216880559921265 seconds\n",
      "Running the RegGBSCV SCV approach for dataset: US_Wheat_2014_Removed_Texas kappa 0.9 ML Method KNN\n"
     ]
    },
    {
     "name": "stderr",
     "output_type": "stream",
     "text": [
      "Creating folds: 100%|██████████| 4/4 [00:05<00:00,  1.33s/it]\n"
     ]
    },
    {
     "name": "stdout",
     "output_type": "stream",
     "text": [
      "Execution time: 5.33000636100769 seconds\n",
      "Running the RegGBSCV SCV approach for dataset: US_Wheat_2014_Removed_Texas kappa 1.0 ML Method KNN\n"
     ]
    },
    {
     "name": "stderr",
     "output_type": "stream",
     "text": [
      "Creating folds: 100%|██████████| 4/4 [00:04<00:00,  1.05s/it]\n"
     ]
    },
    {
     "name": "stdout",
     "output_type": "stream",
     "text": [
      "Execution time: 4.1966753005981445 seconds\n",
      "Running the RegGBSCV SCV approach for dataset: US_Wheat_2014_Removed_Washington kappa 0.0 ML Method KNN\n"
     ]
    },
    {
     "name": "stderr",
     "output_type": "stream",
     "text": [
      "Creating folds: 100%|██████████| 4/4 [00:06<00:00,  1.64s/it]\n"
     ]
    },
    {
     "name": "stdout",
     "output_type": "stream",
     "text": [
      "Execution time: 6.576699256896973 seconds\n",
      "Running the RegGBSCV SCV approach for dataset: US_Wheat_2014_Removed_Washington kappa 0.1 ML Method KNN\n"
     ]
    },
    {
     "name": "stderr",
     "output_type": "stream",
     "text": [
      "Creating folds: 100%|██████████| 4/4 [00:06<00:00,  1.65s/it]\n"
     ]
    },
    {
     "name": "stdout",
     "output_type": "stream",
     "text": [
      "Execution time: 6.602611541748047 seconds\n",
      "Running the RegGBSCV SCV approach for dataset: US_Wheat_2014_Removed_Washington kappa 0.2 ML Method KNN\n"
     ]
    },
    {
     "name": "stderr",
     "output_type": "stream",
     "text": [
      "Creating folds: 100%|██████████| 4/4 [00:06<00:00,  1.61s/it]\n"
     ]
    },
    {
     "name": "stdout",
     "output_type": "stream",
     "text": [
      "Execution time: 6.4676172733306885 seconds\n",
      "Running the RegGBSCV SCV approach for dataset: US_Wheat_2014_Removed_Washington kappa 0.3 ML Method KNN\n"
     ]
    },
    {
     "name": "stderr",
     "output_type": "stream",
     "text": [
      "Creating folds: 100%|██████████| 4/4 [00:06<00:00,  1.64s/it]\n"
     ]
    },
    {
     "name": "stdout",
     "output_type": "stream",
     "text": [
      "Execution time: 6.558104753494263 seconds\n",
      "Running the RegGBSCV SCV approach for dataset: US_Wheat_2014_Removed_Washington kappa 0.4 ML Method KNN\n"
     ]
    },
    {
     "name": "stderr",
     "output_type": "stream",
     "text": [
      "Creating folds: 100%|██████████| 4/4 [00:06<00:00,  1.62s/it]\n"
     ]
    },
    {
     "name": "stdout",
     "output_type": "stream",
     "text": [
      "Execution time: 6.492345094680786 seconds\n",
      "Running the RegGBSCV SCV approach for dataset: US_Wheat_2014_Removed_Washington kappa 0.5 ML Method KNN\n"
     ]
    },
    {
     "name": "stderr",
     "output_type": "stream",
     "text": [
      "Creating folds: 100%|██████████| 4/4 [00:06<00:00,  1.63s/it]\n"
     ]
    },
    {
     "name": "stdout",
     "output_type": "stream",
     "text": [
      "Execution time: 6.541157245635986 seconds\n",
      "Running the RegGBSCV SCV approach for dataset: US_Wheat_2014_Removed_Washington kappa 0.6 ML Method KNN\n"
     ]
    },
    {
     "name": "stderr",
     "output_type": "stream",
     "text": [
      "Creating folds: 100%|██████████| 4/4 [00:06<00:00,  1.63s/it]\n"
     ]
    },
    {
     "name": "stdout",
     "output_type": "stream",
     "text": [
      "Execution time: 6.54681658744812 seconds\n",
      "Running the RegGBSCV SCV approach for dataset: US_Wheat_2014_Removed_Washington kappa 0.7 ML Method KNN\n"
     ]
    },
    {
     "name": "stderr",
     "output_type": "stream",
     "text": [
      "Creating folds: 100%|██████████| 4/4 [00:06<00:00,  1.61s/it]\n"
     ]
    },
    {
     "name": "stdout",
     "output_type": "stream",
     "text": [
      "Execution time: 6.450157165527344 seconds\n",
      "Running the RegGBSCV SCV approach for dataset: US_Wheat_2014_Removed_Washington kappa 0.8 ML Method KNN\n"
     ]
    },
    {
     "name": "stderr",
     "output_type": "stream",
     "text": [
      "Creating folds: 100%|██████████| 4/4 [00:06<00:00,  1.62s/it]\n"
     ]
    },
    {
     "name": "stdout",
     "output_type": "stream",
     "text": [
      "Execution time: 6.501342535018921 seconds\n",
      "Running the RegGBSCV SCV approach for dataset: US_Wheat_2014_Removed_Washington kappa 0.9 ML Method KNN\n"
     ]
    },
    {
     "name": "stderr",
     "output_type": "stream",
     "text": [
      "Creating folds: 100%|██████████| 4/4 [00:06<00:00,  1.64s/it]\n"
     ]
    },
    {
     "name": "stdout",
     "output_type": "stream",
     "text": [
      "Execution time: 6.560135126113892 seconds\n",
      "Running the RegGBSCV SCV approach for dataset: US_Wheat_2014_Removed_Washington kappa 1.0 ML Method KNN\n"
     ]
    },
    {
     "name": "stderr",
     "output_type": "stream",
     "text": [
      "Creating folds: 100%|██████████| 4/4 [00:06<00:00,  1.62s/it]"
     ]
    },
    {
     "name": "stdout",
     "output_type": "stream",
     "text": [
      "Execution time: 6.491204023361206 seconds\n"
     ]
    },
    {
     "name": "stderr",
     "output_type": "stream",
     "text": [
      "\n"
     ]
    }
   ],
   "source": [
    "import contextlib\n",
    "dataset_list = us_wheat_datasets\n",
    "fs_method = \"All\"\n",
    "#ml_methods = [\"KNN\", \"OLS\", \"Lasso\", \"Ridge\", \"ElasticNet\", \"DT\", \"LGBM\", \"RF\", \"MLP\", \"SVM\"]\n",
    "ml_methods = [\"KNN\"]\n",
    "\n",
    "if fs_method == \"CFS\" and SWITCHERS[\"fs\"]:\n",
    "    jvm.start()\n",
    "\n",
    "env_var[\"root_path\"] = \"/home/tpinho/IJGIS/Datasets/US_Wheat_Yield_2014\"\n",
    "for dataset in dataset_list:\n",
    "    # Load data\n",
    "    path = os.path.join(env_var[\"root_path\"], dataset, \"data.csv\")\n",
    "    data = pd.read_csv(path, index_col=\"INDEX\", low_memory=False)\n",
    "    with contextlib.suppress(KeyError):\n",
    "        data.drop(columns=[\"[GEO]_LATITUDE\", \"[GEO]_LONGITUDE\"], inplace=True)\n",
    "    with contextlib.suppress(KeyError):\n",
    "        data.drop(columns=[\"[GEO]_DIVISIONNM\"], inplace=True)\n",
    "    # Load adjacency matrix\n",
    "    adj_matrix = pd.read_csv(\n",
    "        os.path.join(env_var[\"root_path\"], dataset, \"normd_matrix.csv\"), low_memory=False\n",
    "    )\n",
    "    w_matrix = pd.read_csv(\n",
    "        os.path.join(env_var[\"root_path\"], dataset, \"normd_matrix.csv\"), low_memory=False\n",
    "    )\n",
    "    adj_matrix.set_index(adj_matrix.columns[0], inplace=True)\n",
    "    w_matrix.set_index(w_matrix.columns[0], inplace=True)\n",
    "    for ml_method in ml_methods:\n",
    "        for kappa in [0.0, 0.1, 0.2, 0.3, 0.4, 0.5, 0.6, 0.7, 0.8, 0.9, 1.0]:\n",
    "            # Instanciate pipeline\n",
    "            pipeline = Pipeline(\n",
    "                root_path=os.path.join(env_var[\"root_path\"], dataset),\n",
    "                data=data,\n",
    "                adj_matrix=adj_matrix,\n",
    "                w_matrix=w_matrix,\n",
    "                index_col=\"INDEX\",\n",
    "                fold_col=\"INDEX_FOLDS\",\n",
    "                target_col=\"TARGET\",\n",
    "                scv_method=\"RegGBSCV\",\n",
    "                type_graph=\"Weighted\",\n",
    "                run_selection=False,\n",
    "                kappa=kappa,\n",
    "                fs_method=fs_method,\n",
    "                ml_method=ml_method,\n",
    "                paper=False,\n",
    "                switchers=SWITCHERS\n",
    "            )\n",
    "            print(f\"Running the RegGBSCV SCV approach for dataset: {dataset} kappa {kappa} ML Method {ml_method}\")\n",
    "            pipeline.run()\n",
    "if fs_method == \"CFS\" and SWITCHERS[\"fs\"]:\n",
    "    jvm.stop()\n",
    "\n",
    "\n"
   ]
  }
 ],
 "metadata": {
  "interpreter": {
   "hash": "16e306bc925144e33eb7798286ee39e98b4eae36f3b0781ec31a8ce823bfdc1b"
  },
  "kernelspec": {
   "display_name": "Python 3 (ipykernel)",
   "language": "python",
   "name": "python3"
  },
  "language_info": {
   "codemirror_mode": {
    "name": "ipython",
    "version": 3
   },
   "file_extension": ".py",
   "mimetype": "text/x-python",
   "name": "python",
   "nbconvert_exporter": "python",
   "pygments_lexer": "ipython3",
   "version": "3.8.12"
  }
 },
 "nbformat": 4,
 "nbformat_minor": 4
}
