{
 "cells": [
  {
   "cell_type": "markdown",
   "metadata": {},
   "source": [
    "# Execute the Graph-Based Spatial Cross-Validation experiments from ICMLA21 Paper"
   ]
  },
  {
   "cell_type": "markdown",
   "metadata": {},
   "source": [
    "## 1 - Initialize libraries"
   ]
  },
  {
   "cell_type": "code",
   "execution_count": 1,
   "metadata": {},
   "outputs": [],
   "source": [
    "import os\n",
    "from pathlib import Path\n",
    "import pandas as pd\n",
    "from weka.core import jvm\n",
    "from src import utils\n",
    "from src.pipeline import Pipeline\n",
    "from src.visualization.performance import VizMetrics\n",
    "#from src.visualization.dependence import VizDependence"
   ]
  },
  {
   "cell_type": "markdown",
   "metadata": {},
   "source": [
    "## 2 - Initialize loggers"
   ]
  },
  {
   "cell_type": "code",
   "execution_count": 2,
   "metadata": {},
   "outputs": [],
   "source": [
    "utils.initialize_coloredlog()\n",
    "utils.initialize_rich_tracerback()\n",
    "utils.initialize_logging()"
   ]
  },
  {
   "cell_type": "markdown",
   "metadata": {},
   "source": [
    "## 3 - Initialize working path and enviromental variables"
   ]
  },
  {
   "cell_type": "code",
   "execution_count": 3,
   "metadata": {},
   "outputs": [],
   "source": [
    "# Project path\n",
    "project_dir = str(Path().resolve().parents[1])\n",
    "# Load enviromental variables\n",
    "env_var = utils.load_env_variables(project_dir)"
   ]
  },
  {
   "cell_type": "markdown",
   "metadata": {},
   "source": [
    "## 4 - Load the data"
   ]
  },
  {
   "cell_type": "code",
   "execution_count": 4,
   "metadata": {},
   "outputs": [],
   "source": [
    "# Set paths\n",
    "data_path = os.path.join(env_var[\"root_path\"], \"Brazil_Election_2018\", \"Original\", \"data.csv\")\n",
    "adj_path = os.path.join(env_var[\"root_path\"], \"Brazil_Election_2018\", \"Original\", \"queen_matrix.csv\")\n",
    "# Load data\n",
    "data = pd.read_csv(data_path, index_col=\"INDEX\", low_memory=False)\n",
    "#data.drop(columns=[\"[GEO]_LATITUDE\", \"[GEO]_LONGITUDE\"])\n",
    "adj_matrix = pd.read_csv(adj_path, low_memory=False)\n",
    "# Set adjacency matrix index\n",
    "adj_matrix.set_index(adj_matrix.columns[0], inplace=True)"
   ]
  },
  {
   "cell_type": "markdown",
   "metadata": {},
   "source": [
    "## 5 - Set pipeline switchers, the default is to set True to all processes"
   ]
  },
  {
   "cell_type": "code",
   "execution_count": 5,
   "metadata": {},
   "outputs": [],
   "source": [
    "# Set pipeline switchers\n",
    "SWITCHERS = {\n",
    "    \"scv\": False,\n",
    "    \"fs\": False,\n",
    "    \"train\": False,\n",
    "    \"predict\": False,\n",
    "    \"evaluate\": True,\n",
    "}"
   ]
  },
  {
   "cell_type": "markdown",
   "metadata": {},
   "source": [
    "## 6 - Runs the pipeline for each method\n",
    "OBS: The results and files generated from the pipeline execution will be in the created folder Results in the data directory"
   ]
  },
  {
   "cell_type": "markdown",
   "metadata": {},
   "source": [
    "### 6.3 RBuffer"
   ]
  },
  {
   "cell_type": "code",
   "execution_count": 6,
   "metadata": {},
   "outputs": [
    {
     "name": "stdout",
     "output_type": "stream",
     "text": [
      "Running the RBuffer approach for OLS\n"
     ]
    },
    {
     "name": "stderr",
     "output_type": "stream",
     "text": [
      "Evaluating predictions: 100%|██████████| 26/26 [02:51<00:00,  6.60s/it]\n"
     ]
    }
   ],
   "source": [
    "ml_methods = [\"OLS\", \"Lasso\"]\n",
    "fs_method = \"CFS_Local_Meta_All_OLS\"\n",
    "data = data[data[\"INDEX_FOLDS\"] != 53]\n",
    "if fs_method == \"CFS\" and SWITCHERS[\"fs\"]:\n",
    "    jvm.start()\n",
    "for ml_method in ml_methods:\n",
    "    RBuffer = Pipeline(\n",
    "        root_path=os.path.join(env_var[\"root_path\"], \"Brazil_Election_2018\", \"Original\"),\n",
    "        data=data,\n",
    "        adj_matrix=adj_matrix,\n",
    "        index_col=\"INDEX\",\n",
    "        fold_col=\"INDEX_FOLDS\",\n",
    "        target_col=\"TARGET\",\n",
    "        scv_method=\"RBuffer\",\n",
    "        run_selection=False,\n",
    "        kappa=20,\n",
    "        fs_method=fs_method,\n",
    "        ml_method=ml_method,\n",
    "        paper=True,\n",
    "        switchers=SWITCHERS\n",
    "    )\n",
    "\n",
    "    print(f\"Running the RBuffer approach for {ml_method}\")\n",
    "    RBuffer.run()\n",
    "if fs_method == \"CFS\" and SWITCHERS[\"fs\"]:\n",
    "    jvm.stop()"
   ]
  }
 ],
 "metadata": {
  "interpreter": {
   "hash": "a61c6142992f866a8cf4748759f5d3c56e0a281866e239fdaf1841f49fe45dcf"
  },
  "kernelspec": {
   "display_name": "Python 3.7.0 ('RegGBSCV')",
   "language": "python",
   "name": "python3"
  },
  "language_info": {
   "codemirror_mode": {
    "name": "ipython",
    "version": 3
   },
   "file_extension": ".py",
   "mimetype": "text/x-python",
   "name": "python",
   "nbconvert_exporter": "python",
   "pygments_lexer": "ipython3",
   "version": "3.7.0"
  },
  "orig_nbformat": 4
 },
 "nbformat": 4,
 "nbformat_minor": 2
}
