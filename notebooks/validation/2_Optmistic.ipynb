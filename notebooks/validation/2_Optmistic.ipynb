{
 "cells": [
  {
   "cell_type": "markdown",
   "metadata": {},
   "source": [
    "# Execute the Graph-Based Spatial Cross-Validation experiments from ICMLA21 Paper"
   ]
  },
  {
   "cell_type": "markdown",
   "metadata": {},
   "source": [
    "## 1 - Initialize libraries"
   ]
  },
  {
   "cell_type": "code",
   "execution_count": 7,
   "metadata": {},
   "outputs": [],
   "source": [
    "import os\n",
    "import pandas as pd\n",
    "from weka.core import jvm\n",
    "from pathlib import Path\n",
    "from src import utils\n",
    "from src.pipeline import Pipeline\n",
    "from src.visualization.performance import VizMetrics\n",
    "from src.visualization.dependence import VizDependence"
   ]
  },
  {
   "cell_type": "markdown",
   "metadata": {},
   "source": [
    "## 2 - Initialize loggers"
   ]
  },
  {
   "cell_type": "code",
   "execution_count": 8,
   "metadata": {},
   "outputs": [],
   "source": [
    "utils.initialize_coloredlog()\n",
    "utils.initialize_rich_tracerback()\n",
    "utils.initialize_logging()"
   ]
  },
  {
   "cell_type": "markdown",
   "metadata": {},
   "source": [
    "## 3 - Initialize working path and enviromental variables"
   ]
  },
  {
   "cell_type": "code",
   "execution_count": 9,
   "metadata": {},
   "outputs": [],
   "source": [
    "# Project path\n",
    "project_dir = str(Path().resolve().parents[1])\n",
    "# Load enviromental variables\n",
    "env_var = utils.load_env_variables(project_dir)\n",
    "# Load parameters\n",
    "dataset = \"Brazil_Election_2018\"\n",
    "parameters = utils.load_json(os.path.join(project_dir, \"parameters\", \"validation\", f\"{dataset}.json\"))"
   ]
  },
  {
   "cell_type": "markdown",
   "metadata": {},
   "source": [
    "## 4 - Set pipeline switchers, the default is to set True to all processes"
   ]
  },
  {
   "cell_type": "code",
   "execution_count": 10,
   "metadata": {},
   "outputs": [],
   "source": [
    "# Set pipeline switchers\n",
    "switchers = {\n",
    "    \"scv\": False,\n",
    "    \"fs\": True,\n",
    "    \"train\": False,\n",
    "    \"predict\": False,\n",
    "    \"evaluate\": False,\n",
    "}"
   ]
  },
  {
   "cell_type": "markdown",
   "metadata": {},
   "source": [
    "# 5 - List all datasets"
   ]
  },
  {
   "cell_type": "code",
   "execution_count": 11,
   "metadata": {},
   "outputs": [],
   "source": [
    "dataset_path = os.path.join(env_var[\"root_path\"], dataset)\n",
    "dataset_list = [folder for folder in os.listdir(dataset_path) if os.path.isdir(os.path.join(dataset_path, folder))]\n",
    "dataset_list.remove(\"Original\")\n",
    "dataset_list.sort()"
   ]
  },
  {
   "cell_type": "markdown",
   "metadata": {},
   "source": [
    "## 6 - Runs the pipeline for Optmistic approach\n",
    "OBS: The results and files generated from the pipeline execution will be in the created folder Results in the data directory"
   ]
  },
  {
   "cell_type": "code",
   "execution_count": 12,
   "metadata": {},
   "outputs": [
    {
     "name": "stdout",
     "output_type": "stream",
     "text": [
      "Running the Optimistic approach for dataset: Brazil_Election_2018_Sampled_dec0.3_prob0.1 ML Method = KNN\n"
     ]
    },
    {
     "name": "stderr",
     "output_type": "stream",
     "text": [
      "Predicting test set: 100%|██████████| 27/27 [00:01<00:00, 16.43it/s]\n"
     ]
    },
    {
     "name": "stdout",
     "output_type": "stream",
     "text": [
      "Running the Optimistic approach for dataset: Brazil_Election_2018_Sampled_dec0.3_prob0.1 ML Method = OLS\n"
     ]
    },
    {
     "name": "stderr",
     "output_type": "stream",
     "text": [
      "Predicting test set: 100%|██████████| 27/27 [00:00<00:00, 85.36it/s]\n"
     ]
    },
    {
     "name": "stdout",
     "output_type": "stream",
     "text": [
      "Running the Optimistic approach for dataset: Brazil_Election_2018_Sampled_dec0.3_prob0.1 ML Method = Lasso\n"
     ]
    },
    {
     "name": "stderr",
     "output_type": "stream",
     "text": [
      "Predicting test set: 100%|██████████| 27/27 [00:00<00:00, 86.20it/s]\n"
     ]
    },
    {
     "name": "stdout",
     "output_type": "stream",
     "text": [
      "Running the Optimistic approach for dataset: Brazil_Election_2018_Sampled_dec0.3_prob0.1 ML Method = Ridge\n"
     ]
    },
    {
     "name": "stderr",
     "output_type": "stream",
     "text": [
      "Predicting test set: 100%|██████████| 27/27 [00:00<00:00, 80.35it/s]\n"
     ]
    },
    {
     "name": "stdout",
     "output_type": "stream",
     "text": [
      "Running the Optimistic approach for dataset: Brazil_Election_2018_Sampled_dec0.3_prob0.1 ML Method = ElasticNet\n"
     ]
    },
    {
     "name": "stderr",
     "output_type": "stream",
     "text": [
      "Predicting test set: 100%|██████████| 27/27 [00:00<00:00, 86.24it/s]\n"
     ]
    },
    {
     "name": "stdout",
     "output_type": "stream",
     "text": [
      "Running the Optimistic approach for dataset: Brazil_Election_2018_Sampled_dec0.3_prob0.1 ML Method = DT\n"
     ]
    },
    {
     "name": "stderr",
     "output_type": "stream",
     "text": [
      "Predicting test set: 100%|██████████| 27/27 [00:00<00:00, 68.55it/s]\n"
     ]
    },
    {
     "name": "stdout",
     "output_type": "stream",
     "text": [
      "Running the Optimistic approach for dataset: Brazil_Election_2018_Sampled_dec0.3_prob0.1 ML Method = LGBM\n"
     ]
    },
    {
     "name": "stderr",
     "output_type": "stream",
     "text": [
      "Predicting test set: 100%|██████████| 27/27 [00:00<00:00, 57.87it/s]\n"
     ]
    },
    {
     "name": "stdout",
     "output_type": "stream",
     "text": [
      "Running the Optimistic approach for dataset: Brazil_Election_2018_Sampled_dec0.3_prob0.1 ML Method = RF\n"
     ]
    },
    {
     "name": "stderr",
     "output_type": "stream",
     "text": [
      "Predicting test set: 100%|██████████| 27/27 [00:11<00:00,  2.45it/s]\n"
     ]
    },
    {
     "name": "stdout",
     "output_type": "stream",
     "text": [
      "Running the Optimistic approach for dataset: Brazil_Election_2018_Sampled_dec0.3_prob0.1 ML Method = MLP\n"
     ]
    },
    {
     "name": "stderr",
     "output_type": "stream",
     "text": [
      "Predicting test set: 100%|██████████| 27/27 [00:00<00:00, 48.15it/s]\n"
     ]
    },
    {
     "name": "stdout",
     "output_type": "stream",
     "text": [
      "Running the Optimistic approach for dataset: Brazil_Election_2018_Sampled_dec0.3_prob0.1 ML Method = SVM\n"
     ]
    },
    {
     "name": "stderr",
     "output_type": "stream",
     "text": [
      "Predicting test set: 100%|██████████| 27/27 [00:03<00:00,  7.50it/s]\n"
     ]
    },
    {
     "name": "stdout",
     "output_type": "stream",
     "text": [
      "Running the Optimistic approach for dataset: Brazil_Election_2018_Sampled_dec0.3_prob0.2 ML Method = KNN\n"
     ]
    },
    {
     "name": "stderr",
     "output_type": "stream",
     "text": [
      "Predicting test set: 100%|██████████| 27/27 [00:00<00:00, 27.81it/s]\n"
     ]
    },
    {
     "name": "stdout",
     "output_type": "stream",
     "text": [
      "Running the Optimistic approach for dataset: Brazil_Election_2018_Sampled_dec0.3_prob0.2 ML Method = OLS\n"
     ]
    },
    {
     "name": "stderr",
     "output_type": "stream",
     "text": [
      "Predicting test set: 100%|██████████| 27/27 [00:00<00:00, 90.22it/s]\n"
     ]
    },
    {
     "name": "stdout",
     "output_type": "stream",
     "text": [
      "Running the Optimistic approach for dataset: Brazil_Election_2018_Sampled_dec0.3_prob0.2 ML Method = Lasso\n"
     ]
    },
    {
     "name": "stderr",
     "output_type": "stream",
     "text": [
      "Predicting test set: 100%|██████████| 27/27 [00:00<00:00, 93.89it/s]\n"
     ]
    },
    {
     "name": "stdout",
     "output_type": "stream",
     "text": [
      "Running the Optimistic approach for dataset: Brazil_Election_2018_Sampled_dec0.3_prob0.2 ML Method = Ridge\n"
     ]
    },
    {
     "name": "stderr",
     "output_type": "stream",
     "text": [
      "Predicting test set: 100%|██████████| 27/27 [00:00<00:00, 94.21it/s]\n"
     ]
    },
    {
     "name": "stdout",
     "output_type": "stream",
     "text": [
      "Running the Optimistic approach for dataset: Brazil_Election_2018_Sampled_dec0.3_prob0.2 ML Method = ElasticNet\n"
     ]
    },
    {
     "name": "stderr",
     "output_type": "stream",
     "text": [
      "Predicting test set: 100%|██████████| 27/27 [00:00<00:00, 94.61it/s]\n"
     ]
    },
    {
     "name": "stdout",
     "output_type": "stream",
     "text": [
      "Running the Optimistic approach for dataset: Brazil_Election_2018_Sampled_dec0.3_prob0.2 ML Method = DT\n"
     ]
    },
    {
     "name": "stderr",
     "output_type": "stream",
     "text": [
      "Predicting test set: 100%|██████████| 27/27 [00:00<00:00, 80.33it/s]\n"
     ]
    },
    {
     "name": "stdout",
     "output_type": "stream",
     "text": [
      "Running the Optimistic approach for dataset: Brazil_Election_2018_Sampled_dec0.3_prob0.2 ML Method = LGBM\n"
     ]
    },
    {
     "name": "stderr",
     "output_type": "stream",
     "text": [
      "Predicting test set: 100%|██████████| 27/27 [00:00<00:00, 55.86it/s]\n"
     ]
    },
    {
     "name": "stdout",
     "output_type": "stream",
     "text": [
      "Running the Optimistic approach for dataset: Brazil_Election_2018_Sampled_dec0.3_prob0.2 ML Method = RF\n"
     ]
    },
    {
     "name": "stderr",
     "output_type": "stream",
     "text": [
      "Predicting test set: 100%|██████████| 27/27 [00:08<00:00,  3.33it/s]\n"
     ]
    },
    {
     "name": "stdout",
     "output_type": "stream",
     "text": [
      "Running the Optimistic approach for dataset: Brazil_Election_2018_Sampled_dec0.3_prob0.2 ML Method = MLP\n"
     ]
    },
    {
     "name": "stderr",
     "output_type": "stream",
     "text": [
      "Predicting test set: 100%|██████████| 27/27 [00:00<00:00, 31.28it/s]\n"
     ]
    },
    {
     "name": "stdout",
     "output_type": "stream",
     "text": [
      "Running the Optimistic approach for dataset: Brazil_Election_2018_Sampled_dec0.3_prob0.2 ML Method = SVM\n"
     ]
    },
    {
     "name": "stderr",
     "output_type": "stream",
     "text": [
      "Predicting test set: 100%|██████████| 27/27 [00:02<00:00, 13.24it/s]\n"
     ]
    },
    {
     "name": "stdout",
     "output_type": "stream",
     "text": [
      "Running the Optimistic approach for dataset: Brazil_Election_2018_Sampled_dec0.3_prob0.3 ML Method = KNN\n"
     ]
    },
    {
     "name": "stderr",
     "output_type": "stream",
     "text": [
      "Predicting test set: 100%|██████████| 27/27 [00:00<00:00, 34.62it/s]\n"
     ]
    },
    {
     "name": "stdout",
     "output_type": "stream",
     "text": [
      "Running the Optimistic approach for dataset: Brazil_Election_2018_Sampled_dec0.3_prob0.3 ML Method = OLS\n"
     ]
    },
    {
     "name": "stderr",
     "output_type": "stream",
     "text": [
      "Predicting test set: 100%|██████████| 27/27 [00:00<00:00, 96.69it/s]\n"
     ]
    },
    {
     "name": "stdout",
     "output_type": "stream",
     "text": [
      "Running the Optimistic approach for dataset: Brazil_Election_2018_Sampled_dec0.3_prob0.3 ML Method = Lasso\n"
     ]
    },
    {
     "name": "stderr",
     "output_type": "stream",
     "text": [
      "Predicting test set: 100%|██████████| 27/27 [00:00<00:00, 93.95it/s]\n"
     ]
    },
    {
     "name": "stdout",
     "output_type": "stream",
     "text": [
      "Running the Optimistic approach for dataset: Brazil_Election_2018_Sampled_dec0.3_prob0.3 ML Method = Ridge\n"
     ]
    },
    {
     "name": "stderr",
     "output_type": "stream",
     "text": [
      "Predicting test set: 100%|██████████| 27/27 [00:00<00:00, 102.33it/s]\n"
     ]
    },
    {
     "name": "stdout",
     "output_type": "stream",
     "text": [
      "Running the Optimistic approach for dataset: Brazil_Election_2018_Sampled_dec0.3_prob0.3 ML Method = ElasticNet\n"
     ]
    },
    {
     "name": "stderr",
     "output_type": "stream",
     "text": [
      "Predicting test set: 100%|██████████| 27/27 [00:00<00:00, 102.81it/s]\n"
     ]
    },
    {
     "name": "stdout",
     "output_type": "stream",
     "text": [
      "Running the Optimistic approach for dataset: Brazil_Election_2018_Sampled_dec0.3_prob0.3 ML Method = DT\n"
     ]
    },
    {
     "name": "stderr",
     "output_type": "stream",
     "text": [
      "Predicting test set: 100%|██████████| 27/27 [00:00<00:00, 76.85it/s]\n"
     ]
    },
    {
     "name": "stdout",
     "output_type": "stream",
     "text": [
      "Running the Optimistic approach for dataset: Brazil_Election_2018_Sampled_dec0.3_prob0.3 ML Method = LGBM\n"
     ]
    },
    {
     "name": "stderr",
     "output_type": "stream",
     "text": [
      "Predicting test set: 100%|██████████| 27/27 [00:00<00:00, 65.73it/s]\n"
     ]
    },
    {
     "name": "stdout",
     "output_type": "stream",
     "text": [
      "Running the Optimistic approach for dataset: Brazil_Election_2018_Sampled_dec0.3_prob0.3 ML Method = RF\n"
     ]
    },
    {
     "name": "stderr",
     "output_type": "stream",
     "text": [
      "Predicting test set: 100%|██████████| 27/27 [00:06<00:00,  3.95it/s]\n"
     ]
    },
    {
     "name": "stdout",
     "output_type": "stream",
     "text": [
      "Running the Optimistic approach for dataset: Brazil_Election_2018_Sampled_dec0.3_prob0.3 ML Method = MLP\n"
     ]
    },
    {
     "name": "stderr",
     "output_type": "stream",
     "text": [
      "Predicting test set: 100%|██████████| 27/27 [00:00<00:00, 40.08it/s]\n"
     ]
    },
    {
     "name": "stdout",
     "output_type": "stream",
     "text": [
      "Running the Optimistic approach for dataset: Brazil_Election_2018_Sampled_dec0.3_prob0.3 ML Method = SVM\n"
     ]
    },
    {
     "name": "stderr",
     "output_type": "stream",
     "text": [
      "Predicting test set: 100%|██████████| 27/27 [00:01<00:00, 18.78it/s]\n"
     ]
    },
    {
     "name": "stdout",
     "output_type": "stream",
     "text": [
      "Running the Optimistic approach for dataset: Brazil_Election_2018_Sampled_dec0.3_prob0.4 ML Method = KNN\n"
     ]
    },
    {
     "name": "stderr",
     "output_type": "stream",
     "text": [
      "Predicting test set: 100%|██████████| 27/27 [00:00<00:00, 43.88it/s]\n"
     ]
    },
    {
     "name": "stdout",
     "output_type": "stream",
     "text": [
      "Running the Optimistic approach for dataset: Brazil_Election_2018_Sampled_dec0.3_prob0.4 ML Method = OLS\n"
     ]
    },
    {
     "name": "stderr",
     "output_type": "stream",
     "text": [
      "Predicting test set: 100%|██████████| 27/27 [00:00<00:00, 106.66it/s]\n"
     ]
    },
    {
     "name": "stdout",
     "output_type": "stream",
     "text": [
      "Running the Optimistic approach for dataset: Brazil_Election_2018_Sampled_dec0.3_prob0.4 ML Method = Lasso\n"
     ]
    },
    {
     "name": "stderr",
     "output_type": "stream",
     "text": [
      "Predicting test set: 100%|██████████| 27/27 [00:00<00:00, 112.59it/s]\n"
     ]
    },
    {
     "name": "stdout",
     "output_type": "stream",
     "text": [
      "Running the Optimistic approach for dataset: Brazil_Election_2018_Sampled_dec0.3_prob0.4 ML Method = Ridge\n"
     ]
    },
    {
     "name": "stderr",
     "output_type": "stream",
     "text": [
      "Predicting test set: 100%|██████████| 27/27 [00:00<00:00, 116.69it/s]\n"
     ]
    },
    {
     "name": "stdout",
     "output_type": "stream",
     "text": [
      "Running the Optimistic approach for dataset: Brazil_Election_2018_Sampled_dec0.3_prob0.4 ML Method = ElasticNet\n"
     ]
    },
    {
     "name": "stderr",
     "output_type": "stream",
     "text": [
      "Predicting test set: 100%|██████████| 27/27 [00:00<00:00, 113.25it/s]\n"
     ]
    },
    {
     "name": "stdout",
     "output_type": "stream",
     "text": [
      "Running the Optimistic approach for dataset: Brazil_Election_2018_Sampled_dec0.3_prob0.4 ML Method = DT\n"
     ]
    },
    {
     "name": "stderr",
     "output_type": "stream",
     "text": [
      "Predicting test set: 100%|██████████| 27/27 [00:00<00:00, 103.99it/s]\n"
     ]
    },
    {
     "name": "stdout",
     "output_type": "stream",
     "text": [
      "Running the Optimistic approach for dataset: Brazil_Election_2018_Sampled_dec0.3_prob0.4 ML Method = LGBM\n"
     ]
    },
    {
     "name": "stderr",
     "output_type": "stream",
     "text": [
      "Predicting test set: 100%|██████████| 27/27 [00:00<00:00, 69.16it/s]\n"
     ]
    },
    {
     "name": "stdout",
     "output_type": "stream",
     "text": [
      "Running the Optimistic approach for dataset: Brazil_Election_2018_Sampled_dec0.3_prob0.4 ML Method = RF\n"
     ]
    },
    {
     "name": "stderr",
     "output_type": "stream",
     "text": [
      "Predicting test set: 100%|██████████| 27/27 [00:05<00:00,  4.95it/s]\n"
     ]
    },
    {
     "name": "stdout",
     "output_type": "stream",
     "text": [
      "Running the Optimistic approach for dataset: Brazil_Election_2018_Sampled_dec0.3_prob0.4 ML Method = MLP\n"
     ]
    },
    {
     "name": "stderr",
     "output_type": "stream",
     "text": [
      "Predicting test set: 100%|██████████| 27/27 [00:00<00:00, 33.47it/s]\n"
     ]
    },
    {
     "name": "stdout",
     "output_type": "stream",
     "text": [
      "Running the Optimistic approach for dataset: Brazil_Election_2018_Sampled_dec0.3_prob0.4 ML Method = SVM\n"
     ]
    },
    {
     "name": "stderr",
     "output_type": "stream",
     "text": [
      "Predicting test set: 100%|██████████| 27/27 [00:00<00:00, 36.33it/s]\n"
     ]
    },
    {
     "name": "stdout",
     "output_type": "stream",
     "text": [
      "Running the Optimistic approach for dataset: Brazil_Election_2018_Sampled_dec0.3_prob0.5 ML Method = KNN\n"
     ]
    },
    {
     "name": "stderr",
     "output_type": "stream",
     "text": [
      "Predicting test set: 100%|██████████| 27/27 [00:00<00:00, 62.50it/s]\n"
     ]
    },
    {
     "name": "stdout",
     "output_type": "stream",
     "text": [
      "Running the Optimistic approach for dataset: Brazil_Election_2018_Sampled_dec0.3_prob0.5 ML Method = OLS\n"
     ]
    },
    {
     "name": "stderr",
     "output_type": "stream",
     "text": [
      "Predicting test set: 100%|██████████| 27/27 [00:00<00:00, 102.54it/s]\n"
     ]
    },
    {
     "name": "stdout",
     "output_type": "stream",
     "text": [
      "Running the Optimistic approach for dataset: Brazil_Election_2018_Sampled_dec0.3_prob0.5 ML Method = Lasso\n"
     ]
    },
    {
     "name": "stderr",
     "output_type": "stream",
     "text": [
      "Predicting test set: 100%|██████████| 27/27 [00:00<00:00, 114.79it/s]\n"
     ]
    },
    {
     "name": "stdout",
     "output_type": "stream",
     "text": [
      "Running the Optimistic approach for dataset: Brazil_Election_2018_Sampled_dec0.3_prob0.5 ML Method = Ridge\n"
     ]
    },
    {
     "name": "stderr",
     "output_type": "stream",
     "text": [
      "Predicting test set: 100%|██████████| 27/27 [00:00<00:00, 125.84it/s]\n"
     ]
    },
    {
     "name": "stdout",
     "output_type": "stream",
     "text": [
      "Running the Optimistic approach for dataset: Brazil_Election_2018_Sampled_dec0.3_prob0.5 ML Method = ElasticNet\n"
     ]
    },
    {
     "name": "stderr",
     "output_type": "stream",
     "text": [
      "Predicting test set: 100%|██████████| 27/27 [00:00<00:00, 128.18it/s]\n"
     ]
    },
    {
     "name": "stdout",
     "output_type": "stream",
     "text": [
      "Running the Optimistic approach for dataset: Brazil_Election_2018_Sampled_dec0.3_prob0.5 ML Method = DT\n"
     ]
    },
    {
     "name": "stderr",
     "output_type": "stream",
     "text": [
      "Predicting test set: 100%|██████████| 27/27 [00:00<00:00, 117.65it/s]\n"
     ]
    },
    {
     "name": "stdout",
     "output_type": "stream",
     "text": [
      "Running the Optimistic approach for dataset: Brazil_Election_2018_Sampled_dec0.3_prob0.5 ML Method = LGBM\n"
     ]
    },
    {
     "name": "stderr",
     "output_type": "stream",
     "text": [
      "Predicting test set: 100%|██████████| 27/27 [00:00<00:00, 94.57it/s]\n"
     ]
    },
    {
     "name": "stdout",
     "output_type": "stream",
     "text": [
      "Running the Optimistic approach for dataset: Brazil_Election_2018_Sampled_dec0.3_prob0.5 ML Method = RF\n"
     ]
    },
    {
     "name": "stderr",
     "output_type": "stream",
     "text": [
      "Predicting test set: 100%|██████████| 27/27 [00:03<00:00,  7.09it/s]\n"
     ]
    },
    {
     "name": "stdout",
     "output_type": "stream",
     "text": [
      "Running the Optimistic approach for dataset: Brazil_Election_2018_Sampled_dec0.3_prob0.5 ML Method = MLP\n"
     ]
    },
    {
     "name": "stderr",
     "output_type": "stream",
     "text": [
      "Predicting test set: 100%|██████████| 27/27 [00:00<00:00, 28.52it/s]\n"
     ]
    },
    {
     "name": "stdout",
     "output_type": "stream",
     "text": [
      "Running the Optimistic approach for dataset: Brazil_Election_2018_Sampled_dec0.3_prob0.5 ML Method = SVM\n"
     ]
    },
    {
     "name": "stderr",
     "output_type": "stream",
     "text": [
      "Predicting test set: 100%|██████████| 27/27 [00:00<00:00, 73.77it/s]\n"
     ]
    },
    {
     "name": "stdout",
     "output_type": "stream",
     "text": [
      "Running the Optimistic approach for dataset: Brazil_Election_2018_Sampled_dec0.3_prob0.6 ML Method = KNN\n"
     ]
    },
    {
     "name": "stderr",
     "output_type": "stream",
     "text": [
      "Predicting test set: 100%|██████████| 27/27 [00:00<00:00, 71.78it/s]\n"
     ]
    },
    {
     "name": "stdout",
     "output_type": "stream",
     "text": [
      "Running the Optimistic approach for dataset: Brazil_Election_2018_Sampled_dec0.3_prob0.6 ML Method = OLS\n"
     ]
    },
    {
     "name": "stderr",
     "output_type": "stream",
     "text": [
      "Predicting test set: 100%|██████████| 27/27 [00:00<00:00, 123.25it/s]\n"
     ]
    },
    {
     "name": "stdout",
     "output_type": "stream",
     "text": [
      "Running the Optimistic approach for dataset: Brazil_Election_2018_Sampled_dec0.3_prob0.6 ML Method = Lasso\n"
     ]
    },
    {
     "name": "stderr",
     "output_type": "stream",
     "text": [
      "Predicting test set: 100%|██████████| 27/27 [00:00<00:00, 128.22it/s]\n"
     ]
    },
    {
     "name": "stdout",
     "output_type": "stream",
     "text": [
      "Running the Optimistic approach for dataset: Brazil_Election_2018_Sampled_dec0.3_prob0.6 ML Method = Ridge\n"
     ]
    },
    {
     "name": "stderr",
     "output_type": "stream",
     "text": [
      "Predicting test set: 100%|██████████| 27/27 [00:00<00:00, 120.20it/s]\n"
     ]
    },
    {
     "name": "stdout",
     "output_type": "stream",
     "text": [
      "Running the Optimistic approach for dataset: Brazil_Election_2018_Sampled_dec0.3_prob0.6 ML Method = ElasticNet\n"
     ]
    },
    {
     "name": "stderr",
     "output_type": "stream",
     "text": [
      "Predicting test set: 100%|██████████| 27/27 [00:00<00:00, 107.29it/s]\n"
     ]
    },
    {
     "name": "stdout",
     "output_type": "stream",
     "text": [
      "Running the Optimistic approach for dataset: Brazil_Election_2018_Sampled_dec0.3_prob0.6 ML Method = DT\n"
     ]
    },
    {
     "name": "stderr",
     "output_type": "stream",
     "text": [
      "Predicting test set: 100%|██████████| 27/27 [00:00<00:00, 107.17it/s]\n"
     ]
    },
    {
     "name": "stdout",
     "output_type": "stream",
     "text": [
      "Running the Optimistic approach for dataset: Brazil_Election_2018_Sampled_dec0.3_prob0.6 ML Method = LGBM\n"
     ]
    },
    {
     "name": "stderr",
     "output_type": "stream",
     "text": [
      "Predicting test set: 100%|██████████| 27/27 [00:00<00:00, 89.60it/s]\n"
     ]
    },
    {
     "name": "stdout",
     "output_type": "stream",
     "text": [
      "Running the Optimistic approach for dataset: Brazil_Election_2018_Sampled_dec0.3_prob0.6 ML Method = RF\n"
     ]
    },
    {
     "name": "stderr",
     "output_type": "stream",
     "text": [
      "Predicting test set: 100%|██████████| 27/27 [00:04<00:00,  6.51it/s]\n"
     ]
    },
    {
     "name": "stdout",
     "output_type": "stream",
     "text": [
      "Running the Optimistic approach for dataset: Brazil_Election_2018_Sampled_dec0.3_prob0.6 ML Method = MLP\n"
     ]
    },
    {
     "name": "stderr",
     "output_type": "stream",
     "text": [
      "Predicting test set: 100%|██████████| 27/27 [00:01<00:00, 25.54it/s]\n"
     ]
    },
    {
     "name": "stdout",
     "output_type": "stream",
     "text": [
      "Running the Optimistic approach for dataset: Brazil_Election_2018_Sampled_dec0.3_prob0.6 ML Method = SVM\n"
     ]
    },
    {
     "name": "stderr",
     "output_type": "stream",
     "text": [
      "Predicting test set: 100%|██████████| 27/27 [00:00<00:00, 61.97it/s]\n"
     ]
    },
    {
     "name": "stdout",
     "output_type": "stream",
     "text": [
      "Running the Optimistic approach for dataset: Brazil_Election_2018_Sampled_dec0.3_prob0.7 ML Method = KNN\n"
     ]
    },
    {
     "name": "stderr",
     "output_type": "stream",
     "text": [
      "Predicting test set: 100%|██████████| 27/27 [00:00<00:00, 76.93it/s]\n"
     ]
    },
    {
     "name": "stdout",
     "output_type": "stream",
     "text": [
      "Running the Optimistic approach for dataset: Brazil_Election_2018_Sampled_dec0.3_prob0.7 ML Method = OLS\n"
     ]
    },
    {
     "name": "stderr",
     "output_type": "stream",
     "text": [
      "Predicting test set: 100%|██████████| 27/27 [00:00<00:00, 112.58it/s]\n"
     ]
    },
    {
     "name": "stdout",
     "output_type": "stream",
     "text": [
      "Running the Optimistic approach for dataset: Brazil_Election_2018_Sampled_dec0.3_prob0.7 ML Method = Lasso\n"
     ]
    },
    {
     "name": "stderr",
     "output_type": "stream",
     "text": [
      "Predicting test set: 100%|██████████| 27/27 [00:00<00:00, 121.06it/s]\n"
     ]
    },
    {
     "name": "stdout",
     "output_type": "stream",
     "text": [
      "Running the Optimistic approach for dataset: Brazil_Election_2018_Sampled_dec0.3_prob0.7 ML Method = Ridge\n"
     ]
    },
    {
     "name": "stderr",
     "output_type": "stream",
     "text": [
      "Predicting test set: 100%|██████████| 27/27 [00:00<00:00, 115.19it/s]\n"
     ]
    },
    {
     "name": "stdout",
     "output_type": "stream",
     "text": [
      "Running the Optimistic approach for dataset: Brazil_Election_2018_Sampled_dec0.3_prob0.7 ML Method = ElasticNet\n"
     ]
    },
    {
     "name": "stderr",
     "output_type": "stream",
     "text": [
      "Predicting test set: 100%|██████████| 27/27 [00:00<00:00, 99.77it/s]\n"
     ]
    },
    {
     "name": "stdout",
     "output_type": "stream",
     "text": [
      "Running the Optimistic approach for dataset: Brazil_Election_2018_Sampled_dec0.3_prob0.7 ML Method = DT\n"
     ]
    },
    {
     "name": "stderr",
     "output_type": "stream",
     "text": [
      "Predicting test set: 100%|██████████| 27/27 [00:00<00:00, 115.29it/s]\n"
     ]
    },
    {
     "name": "stdout",
     "output_type": "stream",
     "text": [
      "Running the Optimistic approach for dataset: Brazil_Election_2018_Sampled_dec0.3_prob0.7 ML Method = LGBM\n"
     ]
    },
    {
     "name": "stderr",
     "output_type": "stream",
     "text": [
      "Predicting test set: 100%|██████████| 27/27 [00:00<00:00, 70.64it/s]\n"
     ]
    },
    {
     "name": "stdout",
     "output_type": "stream",
     "text": [
      "Running the Optimistic approach for dataset: Brazil_Election_2018_Sampled_dec0.3_prob0.7 ML Method = RF\n"
     ]
    },
    {
     "name": "stderr",
     "output_type": "stream",
     "text": [
      "Predicting test set: 100%|██████████| 27/27 [00:04<00:00,  6.50it/s]\n"
     ]
    },
    {
     "name": "stdout",
     "output_type": "stream",
     "text": [
      "Running the Optimistic approach for dataset: Brazil_Election_2018_Sampled_dec0.3_prob0.7 ML Method = MLP\n"
     ]
    },
    {
     "name": "stderr",
     "output_type": "stream",
     "text": [
      "Predicting test set: 100%|██████████| 27/27 [00:00<00:00, 28.31it/s]\n"
     ]
    },
    {
     "name": "stdout",
     "output_type": "stream",
     "text": [
      "Running the Optimistic approach for dataset: Brazil_Election_2018_Sampled_dec0.3_prob0.7 ML Method = SVM\n"
     ]
    },
    {
     "name": "stderr",
     "output_type": "stream",
     "text": [
      "Predicting test set: 100%|██████████| 27/27 [00:00<00:00, 66.68it/s]\n"
     ]
    },
    {
     "name": "stdout",
     "output_type": "stream",
     "text": [
      "Running the Optimistic approach for dataset: Brazil_Election_2018_Sampled_dec0.3_prob0.8 ML Method = KNN\n"
     ]
    },
    {
     "name": "stderr",
     "output_type": "stream",
     "text": [
      "Predicting test set: 100%|██████████| 27/27 [00:00<00:00, 80.59it/s]\n"
     ]
    },
    {
     "name": "stdout",
     "output_type": "stream",
     "text": [
      "Running the Optimistic approach for dataset: Brazil_Election_2018_Sampled_dec0.3_prob0.8 ML Method = OLS\n"
     ]
    },
    {
     "name": "stderr",
     "output_type": "stream",
     "text": [
      "Predicting test set: 100%|██████████| 27/27 [00:00<00:00, 131.56it/s]\n"
     ]
    },
    {
     "name": "stdout",
     "output_type": "stream",
     "text": [
      "Running the Optimistic approach for dataset: Brazil_Election_2018_Sampled_dec0.3_prob0.8 ML Method = Lasso\n"
     ]
    },
    {
     "name": "stderr",
     "output_type": "stream",
     "text": [
      "Predicting test set: 100%|██████████| 27/27 [00:00<00:00, 124.51it/s]\n"
     ]
    },
    {
     "name": "stdout",
     "output_type": "stream",
     "text": [
      "Running the Optimistic approach for dataset: Brazil_Election_2018_Sampled_dec0.3_prob0.8 ML Method = Ridge\n"
     ]
    },
    {
     "name": "stderr",
     "output_type": "stream",
     "text": [
      "Predicting test set: 100%|██████████| 27/27 [00:00<00:00, 130.27it/s]\n"
     ]
    },
    {
     "name": "stdout",
     "output_type": "stream",
     "text": [
      "Running the Optimistic approach for dataset: Brazil_Election_2018_Sampled_dec0.3_prob0.8 ML Method = ElasticNet\n"
     ]
    },
    {
     "name": "stderr",
     "output_type": "stream",
     "text": [
      "Predicting test set: 100%|██████████| 27/27 [00:00<00:00, 130.62it/s]\n"
     ]
    },
    {
     "name": "stdout",
     "output_type": "stream",
     "text": [
      "Running the Optimistic approach for dataset: Brazil_Election_2018_Sampled_dec0.3_prob0.8 ML Method = DT\n"
     ]
    },
    {
     "name": "stderr",
     "output_type": "stream",
     "text": [
      "Predicting test set: 100%|██████████| 27/27 [00:00<00:00, 125.91it/s]\n"
     ]
    },
    {
     "name": "stdout",
     "output_type": "stream",
     "text": [
      "Running the Optimistic approach for dataset: Brazil_Election_2018_Sampled_dec0.3_prob0.8 ML Method = LGBM\n"
     ]
    },
    {
     "name": "stderr",
     "output_type": "stream",
     "text": [
      "Predicting test set: 100%|██████████| 27/27 [00:00<00:00, 87.63it/s]\n"
     ]
    },
    {
     "name": "stdout",
     "output_type": "stream",
     "text": [
      "Running the Optimistic approach for dataset: Brazil_Election_2018_Sampled_dec0.3_prob0.8 ML Method = RF\n"
     ]
    },
    {
     "name": "stderr",
     "output_type": "stream",
     "text": [
      "Predicting test set: 100%|██████████| 27/27 [00:03<00:00,  8.46it/s]\n"
     ]
    },
    {
     "name": "stdout",
     "output_type": "stream",
     "text": [
      "Running the Optimistic approach for dataset: Brazil_Election_2018_Sampled_dec0.3_prob0.8 ML Method = MLP\n"
     ]
    },
    {
     "name": "stderr",
     "output_type": "stream",
     "text": [
      "Predicting test set: 100%|██████████| 27/27 [00:00<00:00, 48.32it/s]\n"
     ]
    },
    {
     "name": "stdout",
     "output_type": "stream",
     "text": [
      "Running the Optimistic approach for dataset: Brazil_Election_2018_Sampled_dec0.3_prob0.8 ML Method = SVM\n"
     ]
    },
    {
     "name": "stderr",
     "output_type": "stream",
     "text": [
      "Predicting test set: 100%|██████████| 27/27 [00:00<00:00, 112.43it/s]\n"
     ]
    },
    {
     "name": "stdout",
     "output_type": "stream",
     "text": [
      "Running the Optimistic approach for dataset: Brazil_Election_2018_Sampled_dec0.3_prob0.9 ML Method = KNN\n"
     ]
    },
    {
     "name": "stderr",
     "output_type": "stream",
     "text": [
      "Predicting test set: 100%|██████████| 27/27 [00:00<00:00, 78.13it/s]\n"
     ]
    },
    {
     "name": "stdout",
     "output_type": "stream",
     "text": [
      "Running the Optimistic approach for dataset: Brazil_Election_2018_Sampled_dec0.3_prob0.9 ML Method = OLS\n"
     ]
    },
    {
     "name": "stderr",
     "output_type": "stream",
     "text": [
      "Predicting test set: 100%|██████████| 27/27 [00:00<00:00, 136.58it/s]\n"
     ]
    },
    {
     "name": "stdout",
     "output_type": "stream",
     "text": [
      "Running the Optimistic approach for dataset: Brazil_Election_2018_Sampled_dec0.3_prob0.9 ML Method = Lasso\n"
     ]
    },
    {
     "name": "stderr",
     "output_type": "stream",
     "text": [
      "Predicting test set: 100%|██████████| 27/27 [00:00<00:00, 130.76it/s]\n"
     ]
    },
    {
     "name": "stdout",
     "output_type": "stream",
     "text": [
      "Running the Optimistic approach for dataset: Brazil_Election_2018_Sampled_dec0.3_prob0.9 ML Method = Ridge\n"
     ]
    },
    {
     "name": "stderr",
     "output_type": "stream",
     "text": [
      "Predicting test set: 100%|██████████| 27/27 [00:00<00:00, 141.42it/s]\n"
     ]
    },
    {
     "name": "stdout",
     "output_type": "stream",
     "text": [
      "Running the Optimistic approach for dataset: Brazil_Election_2018_Sampled_dec0.3_prob0.9 ML Method = ElasticNet\n"
     ]
    },
    {
     "name": "stderr",
     "output_type": "stream",
     "text": [
      "Predicting test set: 100%|██████████| 27/27 [00:00<00:00, 128.32it/s]\n"
     ]
    },
    {
     "name": "stdout",
     "output_type": "stream",
     "text": [
      "Running the Optimistic approach for dataset: Brazil_Election_2018_Sampled_dec0.3_prob0.9 ML Method = DT\n"
     ]
    },
    {
     "name": "stderr",
     "output_type": "stream",
     "text": [
      "Predicting test set: 100%|██████████| 27/27 [00:00<00:00, 124.89it/s]\n"
     ]
    },
    {
     "name": "stdout",
     "output_type": "stream",
     "text": [
      "Running the Optimistic approach for dataset: Brazil_Election_2018_Sampled_dec0.3_prob0.9 ML Method = LGBM\n"
     ]
    },
    {
     "name": "stderr",
     "output_type": "stream",
     "text": [
      "Predicting test set: 100%|██████████| 27/27 [00:00<00:00, 70.68it/s]\n"
     ]
    },
    {
     "name": "stdout",
     "output_type": "stream",
     "text": [
      "Running the Optimistic approach for dataset: Brazil_Election_2018_Sampled_dec0.3_prob0.9 ML Method = RF\n"
     ]
    },
    {
     "name": "stderr",
     "output_type": "stream",
     "text": [
      "Predicting test set: 100%|██████████| 27/27 [00:02<00:00,  9.09it/s]\n"
     ]
    },
    {
     "name": "stdout",
     "output_type": "stream",
     "text": [
      "Running the Optimistic approach for dataset: Brazil_Election_2018_Sampled_dec0.3_prob0.9 ML Method = MLP\n"
     ]
    },
    {
     "name": "stderr",
     "output_type": "stream",
     "text": [
      "Predicting test set: 100%|██████████| 27/27 [00:00<00:00, 46.81it/s]\n"
     ]
    },
    {
     "name": "stdout",
     "output_type": "stream",
     "text": [
      "Running the Optimistic approach for dataset: Brazil_Election_2018_Sampled_dec0.3_prob0.9 ML Method = SVM\n"
     ]
    },
    {
     "name": "stderr",
     "output_type": "stream",
     "text": [
      "Predicting test set: 100%|██████████| 27/27 [00:00<00:00, 73.42it/s]\n"
     ]
    }
   ],
   "source": [
    "fs_method = parameters[\"fs_method\"]\n",
    "ml_methods = parameters[\"ml_methods\"]\n",
    "if \"CFS\" in fs_method and switchers[\"fs\"]:\n",
    "    jvm.start()\n",
    "\n",
    "for dataset in dataset_list:\n",
    "    # Load the data\n",
    "    data_path = os.path.join(dataset_path, dataset, \"data.csv\")\n",
    "    data = pd.read_csv(data_path, index_col=\"INDEX\", low_memory=False)\n",
    "    if parameters[\"cols_remove\"]:\n",
    "        data.drop(columns=parameters[\"cols_remove\"], inplace=True)\n",
    "    for ml_method in ml_methods:\n",
    "        Optimistic = Pipeline(\n",
    "            root_path=os.path.join(dataset_path, dataset),\n",
    "            data=data,\n",
    "            index_col=parameters[\"index_col\"],\n",
    "            fold_col=parameters[\"fold_col\"],\n",
    "            target_col=parameters[\"target_col\"],\n",
    "            scv_method=\"Optimistic\",\n",
    "            fs_method=fs_method,\n",
    "            ml_method=ml_method,\n",
    "            switchers=switchers,\n",
    "            cols_remove=parameters[\"cols_remove\"]\n",
    "        )\n",
    "        print(f\"Running the Optimistic approach for dataset: {dataset} ML Method = {ml_method}\")\n",
    "        Optimistic.run()\n",
    "if \"CFS\" in fs_method and switchers[\"fs\"]:\n",
    "    jvm.stop()"
   ]
  }
 ],
 "metadata": {
  "interpreter": {
   "hash": "16e306bc925144e33eb7798286ee39e98b4eae36f3b0781ec31a8ce823bfdc1b"
  },
  "kernelspec": {
   "display_name": "Python 3 (ipykernel)",
   "language": "python",
   "name": "python3"
  },
  "language_info": {
   "codemirror_mode": {
    "name": "ipython",
    "version": 3
   },
   "file_extension": ".py",
   "mimetype": "text/x-python",
   "name": "python",
   "nbconvert_exporter": "python",
   "pygments_lexer": "ipython3",
   "version": "3.8.12"
  }
 },
 "nbformat": 4,
 "nbformat_minor": 4
}
