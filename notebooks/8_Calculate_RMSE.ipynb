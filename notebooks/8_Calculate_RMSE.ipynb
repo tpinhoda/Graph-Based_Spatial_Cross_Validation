{
 "cells": [
  {
   "cell_type": "code",
   "execution_count": 16,
   "metadata": {},
   "outputs": [],
   "source": [
    "import contextlib\n",
    "import geopandas as gpd\n",
    "import pandas as pd\n",
    "import matplotlib.pyplot as plt\n",
    "import os\n",
    "import json\n",
    "from tqdm import tqdm\n",
    "from src import utils"
   ]
  },
  {
   "cell_type": "code",
   "execution_count": 17,
   "metadata": {},
   "outputs": [],
   "source": [
    "def _mkdir(root_path, folder_name):\n",
    "    \"\"\"Creates a folder at current path\"\"\"\n",
    "    # logger = logging.getLogger(self.logger_name)\n",
    "    cur_dir = os.path.join(root_path, folder_name)\n",
    "    with contextlib.suppress(FileExistsError):\n",
    "        os.mkdir(cur_dir)\n",
    "        # logger.info(f\"Entering folder: /{folder_name}\")\n",
    "def _make_folders(root_path, folders):\n",
    "        \"\"\"Make the initial folders\"\"\"\n",
    "        for folder in folders:\n",
    "            _mkdir(root_path, folder)\n",
    "            root_path = os.path.join(root_path, folder)\n",
    "        return root_path"
   ]
  },
  {
   "cell_type": "code",
   "execution_count": 18,
   "metadata": {},
   "outputs": [],
   "source": [
    "# Project path\n",
    "project_dir = os.path.abspath('')[:-9]\n",
    "# Load enviromental variables\n",
    "\n",
    "env_var = utils.load_env_variables(project_dir)\n",
    "env_var[\"root_path\"] = \"/exp/tpinho/Datasets/US_Corn_Yield_2016\""
   ]
  },
  {
   "cell_type": "code",
   "execution_count": 19,
   "metadata": {},
   "outputs": [],
   "source": [
    "datasets_single = [\"Brazil_Election_2018\"]\n",
    "few_methods = [\"CrossValidation\", \"Optimistic\", \"TraditionalSCV\"]\n",
    "\n",
    "datasets = [\"Brazil_Election_2018_Sampled_dec0.3_prob0.1\",      \n",
    "            \"Brazil_Election_2018_Sampled_dec0.3_prob0.2\",\n",
    "            \"Brazil_Election_2018_Sampled_dec0.3_prob0.3\",\n",
    "            \"Brazil_Election_2018_Sampled_dec0.3_prob0.4\",\n",
    "            \"Brazil_Election_2018_Sampled_dec0.3_prob0.5\",\n",
    "            \"Brazil_Election_2018_Sampled_dec0.3_prob0.6\",\n",
    "            \"Brazil_Election_2018_Sampled_dec0.3_prob0.7\",\n",
    "            \"Brazil_Election_2018_Sampled_dec0.3_prob0.8\",\n",
    "            \"Brazil_Election_2018_Sampled_dec0.3_prob0.9\",\n",
    "            ]\n",
    "\n",
    "us_corn_datasets = [\"US_Corn_Yield_2016_Removed_ALABAMA\",\n",
    "                \"US_Corn_Yield_2016_Removed_ARKANSAS\",\n",
    "                \"US_Corn_Yield_2016_Removed_CALIFORNIA\",\n",
    "                \"US_Corn_Yield_2016_Removed_COLORADO\",\n",
    "                \"US_Corn_Yield_2016_Removed_DELAWARE\",\n",
    "                \"US_Corn_Yield_2016_Removed_GEORGIA\",\n",
    "                \"US_Corn_Yield_2016_Removed_IDAHO\",\n",
    "                \"US_Corn_Yield_2016_Removed_ILLINOIS\",\n",
    "                \"US_Corn_Yield_2016_Removed_INDIANA\",\n",
    "                \"US_Corn_Yield_2016_Removed_IOWA\",\n",
    "                \"US_Corn_Yield_2016_Removed_KANSAS\",\n",
    "                \"US_Corn_Yield_2016_Removed_KENTUCKY\",\n",
    "                \"US_Corn_Yield_2016_Removed_LOUISIANA\",\n",
    "                \"US_Corn_Yield_2016_Removed_MARYLAND\",\n",
    "                \"US_Corn_Yield_2016_Removed_MICHIGAN\",\n",
    "                \"US_Corn_Yield_2016_Removed_MINNESOTA\",\n",
    "                \"US_Corn_Yield_2016_Removed_MISSISSIPPI\",\n",
    "                \"US_Corn_Yield_2016_Removed_MISSOURI\",\n",
    "                \"US_Corn_Yield_2016_Removed_MONTANA\",\n",
    "                \"US_Corn_Yield_2016_Removed_NEBRASKA\",\n",
    "                \"US_Corn_Yield_2016_Removed_NEW JERSEY\",\n",
    "                \"US_Corn_Yield_2016_Removed_NEW MEXICO\",\n",
    "                \"US_Corn_Yield_2016_Removed_NEW YORK\",\n",
    "                \"US_Corn_Yield_2016_Removed_NORTH CAROLINA\",\n",
    "                \"US_Corn_Yield_2016_Removed_NORTH DAKOTA\",\n",
    "                \"US_Corn_Yield_2016_Removed_OHIO\",\n",
    "                \"US_Corn_Yield_2016_Removed_OKLAHOMA\",\n",
    "                \"US_Corn_Yield_2016_Removed_PENNSYLVANIA\",\n",
    "                \"US_Corn_Yield_2016_Removed_SOUTH CAROLINA\",\n",
    "                \"US_Corn_Yield_2016_Removed_SOUTH DAKOTA\",\n",
    "                \"US_Corn_Yield_2016_Removed_TENNESSEE\",\n",
    "                \"US_Corn_Yield_2016_Removed_TEXAS\",\n",
    "                \"US_Corn_Yield_2016_Removed_VIRGINIA\",\n",
    "                \"US_Corn_Yield_2016_Removed_WEST VIRGINIA\",\n",
    "                \"US_Corn_Yield_2016_Removed_WISCONSIN\",\n",
    "                \"US_Corn_Yield_2016_Removed_WYOMING\"]\n",
    "                \n",
    "us_corn_datasets = [\"US_Corn_Yield_2016_Removed_Northeast\",\n",
    "                    \"US_Corn_Yield_2016_Removed_Southeast\",\n",
    "                    \"US_Corn_Yield_2016_Removed_Midwest\",\n",
    "                    \"US_Corn_Yield_2016_Removed_Southwest\",\n",
    "                    \"US_Corn_Yield_2016_Removed_West\"]\n",
    "\n",
    "\n",
    "scv_methods = [\"CrossValidation\",\n",
    "               \"Optimistic\",\n",
    "               \"RegGBSCV_R_Kappa_0.0\",\n",
    "               \"RegGBSCV_R_Kappa_0.1\",\n",
    "               \"RegGBSCV_R_Kappa_0.2\",\n",
    "               \"RegGBSCV_R_Kappa_0.3\",  \n",
    "               \"RegGBSCV_R_Kappa_0.4\",\n",
    "               \"RegGBSCV_R_Kappa_0.5\",\n",
    "               \"RegGBSCV_R_Kappa_0.6\",\n",
    "               \"RegGBSCV_R_Kappa_0.7\", \n",
    "               \"RegGBSCV_R_Kappa_0.8\",\n",
    "               \"RegGBSCV_R_Kappa_0.9\",\n",
    "               \"RegGBSCV_R_Kappa_1.0\",\n",
    "               \"TraditionalSCV\"]"
   ]
  },
  {
   "cell_type": "code",
   "execution_count": 20,
   "metadata": {},
   "outputs": [
    {
     "name": "stdout",
     "output_type": "stream",
     "text": [
      "Dataset: US_Corn_Yield_2016_Removed_ALABAMA\n"
     ]
    },
    {
     "name": "stderr",
     "output_type": "stream",
     "text": [
      "100%|██████████| 10/10 [00:13<00:00,  1.34s/it]\n"
     ]
    },
    {
     "name": "stdout",
     "output_type": "stream",
     "text": [
      "Dataset: US_Corn_Yield_2016_Removed_ARKANSAS\n"
     ]
    },
    {
     "name": "stderr",
     "output_type": "stream",
     "text": [
      "100%|██████████| 10/10 [00:19<00:00,  1.96s/it]\n"
     ]
    },
    {
     "name": "stdout",
     "output_type": "stream",
     "text": [
      "Dataset: US_Corn_Yield_2016_Removed_CALIFORNIA\n"
     ]
    },
    {
     "name": "stderr",
     "output_type": "stream",
     "text": [
      "100%|██████████| 10/10 [00:19<00:00,  1.91s/it]\n"
     ]
    },
    {
     "name": "stdout",
     "output_type": "stream",
     "text": [
      "Dataset: US_Corn_Yield_2016_Removed_COLORADO\n"
     ]
    },
    {
     "name": "stderr",
     "output_type": "stream",
     "text": [
      "100%|██████████| 10/10 [00:17<00:00,  1.72s/it]\n"
     ]
    },
    {
     "name": "stdout",
     "output_type": "stream",
     "text": [
      "Dataset: US_Corn_Yield_2016_Removed_DELAWARE\n"
     ]
    },
    {
     "name": "stderr",
     "output_type": "stream",
     "text": [
      "100%|██████████| 10/10 [00:19<00:00,  1.94s/it]\n"
     ]
    },
    {
     "name": "stdout",
     "output_type": "stream",
     "text": [
      "Dataset: US_Corn_Yield_2016_Removed_GEORGIA\n"
     ]
    },
    {
     "name": "stderr",
     "output_type": "stream",
     "text": [
      "100%|██████████| 10/10 [00:18<00:00,  1.89s/it]\n"
     ]
    },
    {
     "name": "stdout",
     "output_type": "stream",
     "text": [
      "Dataset: US_Corn_Yield_2016_Removed_IDAHO\n"
     ]
    },
    {
     "name": "stderr",
     "output_type": "stream",
     "text": [
      "100%|██████████| 10/10 [00:20<00:00,  2.03s/it]\n"
     ]
    },
    {
     "name": "stdout",
     "output_type": "stream",
     "text": [
      "Dataset: US_Corn_Yield_2016_Removed_ILLINOIS\n"
     ]
    },
    {
     "name": "stderr",
     "output_type": "stream",
     "text": [
      "100%|██████████| 10/10 [00:17<00:00,  1.78s/it]\n"
     ]
    },
    {
     "name": "stdout",
     "output_type": "stream",
     "text": [
      "Dataset: US_Corn_Yield_2016_Removed_INDIANA\n"
     ]
    },
    {
     "name": "stderr",
     "output_type": "stream",
     "text": [
      "100%|██████████| 10/10 [00:18<00:00,  1.82s/it]\n"
     ]
    },
    {
     "name": "stdout",
     "output_type": "stream",
     "text": [
      "Dataset: US_Corn_Yield_2016_Removed_IOWA\n"
     ]
    },
    {
     "name": "stderr",
     "output_type": "stream",
     "text": [
      "100%|██████████| 10/10 [00:17<00:00,  1.79s/it]\n"
     ]
    },
    {
     "name": "stdout",
     "output_type": "stream",
     "text": [
      "Dataset: US_Corn_Yield_2016_Removed_KANSAS\n"
     ]
    },
    {
     "name": "stderr",
     "output_type": "stream",
     "text": [
      "100%|██████████| 10/10 [00:17<00:00,  1.77s/it]\n"
     ]
    },
    {
     "name": "stdout",
     "output_type": "stream",
     "text": [
      "Dataset: US_Corn_Yield_2016_Removed_KENTUCKY\n"
     ]
    },
    {
     "name": "stderr",
     "output_type": "stream",
     "text": [
      "100%|██████████| 10/10 [00:18<00:00,  1.88s/it]\n"
     ]
    },
    {
     "name": "stdout",
     "output_type": "stream",
     "text": [
      "Dataset: US_Corn_Yield_2016_Removed_LOUISIANA\n"
     ]
    },
    {
     "name": "stderr",
     "output_type": "stream",
     "text": [
      "100%|██████████| 10/10 [00:21<00:00,  2.11s/it]\n"
     ]
    },
    {
     "name": "stdout",
     "output_type": "stream",
     "text": [
      "Dataset: US_Corn_Yield_2016_Removed_MARYLAND\n"
     ]
    },
    {
     "name": "stderr",
     "output_type": "stream",
     "text": [
      "100%|██████████| 10/10 [00:18<00:00,  1.83s/it]\n"
     ]
    },
    {
     "name": "stdout",
     "output_type": "stream",
     "text": [
      "Dataset: US_Corn_Yield_2016_Removed_MICHIGAN\n"
     ]
    },
    {
     "name": "stderr",
     "output_type": "stream",
     "text": [
      "100%|██████████| 10/10 [00:18<00:00,  1.83s/it]\n"
     ]
    },
    {
     "name": "stdout",
     "output_type": "stream",
     "text": [
      "Dataset: US_Corn_Yield_2016_Removed_MINNESOTA\n"
     ]
    },
    {
     "name": "stderr",
     "output_type": "stream",
     "text": [
      "100%|██████████| 10/10 [00:18<00:00,  1.84s/it]\n"
     ]
    },
    {
     "name": "stdout",
     "output_type": "stream",
     "text": [
      "Dataset: US_Corn_Yield_2016_Removed_MISSISSIPPI\n"
     ]
    },
    {
     "name": "stderr",
     "output_type": "stream",
     "text": [
      "100%|██████████| 10/10 [00:18<00:00,  1.85s/it]\n"
     ]
    },
    {
     "name": "stdout",
     "output_type": "stream",
     "text": [
      "Dataset: US_Corn_Yield_2016_Removed_MISSOURI\n"
     ]
    },
    {
     "name": "stderr",
     "output_type": "stream",
     "text": [
      "100%|██████████| 10/10 [00:18<00:00,  1.84s/it]\n"
     ]
    },
    {
     "name": "stdout",
     "output_type": "stream",
     "text": [
      "Dataset: US_Corn_Yield_2016_Removed_MONTANA\n"
     ]
    },
    {
     "name": "stderr",
     "output_type": "stream",
     "text": [
      "100%|██████████| 10/10 [00:17<00:00,  1.72s/it]\n"
     ]
    },
    {
     "name": "stdout",
     "output_type": "stream",
     "text": [
      "Dataset: US_Corn_Yield_2016_Removed_NEBRASKA\n"
     ]
    },
    {
     "name": "stderr",
     "output_type": "stream",
     "text": [
      "100%|██████████| 10/10 [00:17<00:00,  1.70s/it]\n"
     ]
    },
    {
     "name": "stdout",
     "output_type": "stream",
     "text": [
      "Dataset: US_Corn_Yield_2016_Removed_NEW JERSEY\n"
     ]
    },
    {
     "name": "stderr",
     "output_type": "stream",
     "text": [
      "100%|██████████| 10/10 [00:17<00:00,  1.70s/it]\n"
     ]
    },
    {
     "name": "stdout",
     "output_type": "stream",
     "text": [
      "Dataset: US_Corn_Yield_2016_Removed_NEW MEXICO\n"
     ]
    },
    {
     "name": "stderr",
     "output_type": "stream",
     "text": [
      "100%|██████████| 10/10 [00:18<00:00,  1.80s/it]\n"
     ]
    },
    {
     "name": "stdout",
     "output_type": "stream",
     "text": [
      "Dataset: US_Corn_Yield_2016_Removed_NEW YORK\n"
     ]
    },
    {
     "name": "stderr",
     "output_type": "stream",
     "text": [
      "100%|██████████| 10/10 [00:17<00:00,  1.77s/it]\n"
     ]
    },
    {
     "name": "stdout",
     "output_type": "stream",
     "text": [
      "Dataset: US_Corn_Yield_2016_Removed_NORTH CAROLINA\n"
     ]
    },
    {
     "name": "stderr",
     "output_type": "stream",
     "text": [
      "100%|██████████| 10/10 [00:17<00:00,  1.77s/it]\n"
     ]
    },
    {
     "name": "stdout",
     "output_type": "stream",
     "text": [
      "Dataset: US_Corn_Yield_2016_Removed_NORTH DAKOTA\n"
     ]
    },
    {
     "name": "stderr",
     "output_type": "stream",
     "text": [
      "100%|██████████| 10/10 [00:18<00:00,  1.82s/it]\n"
     ]
    },
    {
     "name": "stdout",
     "output_type": "stream",
     "text": [
      "Dataset: US_Corn_Yield_2016_Removed_OHIO\n"
     ]
    },
    {
     "name": "stderr",
     "output_type": "stream",
     "text": [
      "100%|██████████| 10/10 [00:16<00:00,  1.68s/it]\n"
     ]
    },
    {
     "name": "stdout",
     "output_type": "stream",
     "text": [
      "Dataset: US_Corn_Yield_2016_Removed_OKLAHOMA\n"
     ]
    },
    {
     "name": "stderr",
     "output_type": "stream",
     "text": [
      "100%|██████████| 10/10 [00:19<00:00,  1.90s/it]\n"
     ]
    },
    {
     "name": "stdout",
     "output_type": "stream",
     "text": [
      "Dataset: US_Corn_Yield_2016_Removed_PENNSYLVANIA\n"
     ]
    },
    {
     "name": "stderr",
     "output_type": "stream",
     "text": [
      "100%|██████████| 10/10 [00:18<00:00,  1.81s/it]\n"
     ]
    },
    {
     "name": "stdout",
     "output_type": "stream",
     "text": [
      "Dataset: US_Corn_Yield_2016_Removed_SOUTH CAROLINA\n"
     ]
    },
    {
     "name": "stderr",
     "output_type": "stream",
     "text": [
      "100%|██████████| 10/10 [00:17<00:00,  1.75s/it]\n"
     ]
    },
    {
     "name": "stdout",
     "output_type": "stream",
     "text": [
      "Dataset: US_Corn_Yield_2016_Removed_SOUTH DAKOTA\n"
     ]
    },
    {
     "name": "stderr",
     "output_type": "stream",
     "text": [
      "100%|██████████| 10/10 [00:16<00:00,  1.67s/it]\n"
     ]
    },
    {
     "name": "stdout",
     "output_type": "stream",
     "text": [
      "Dataset: US_Corn_Yield_2016_Removed_TENNESSEE\n"
     ]
    },
    {
     "name": "stderr",
     "output_type": "stream",
     "text": [
      "100%|██████████| 10/10 [00:16<00:00,  1.69s/it]\n"
     ]
    },
    {
     "name": "stdout",
     "output_type": "stream",
     "text": [
      "Dataset: US_Corn_Yield_2016_Removed_TEXAS\n"
     ]
    },
    {
     "name": "stderr",
     "output_type": "stream",
     "text": [
      "100%|██████████| 10/10 [00:16<00:00,  1.70s/it]\n"
     ]
    },
    {
     "name": "stdout",
     "output_type": "stream",
     "text": [
      "Dataset: US_Corn_Yield_2016_Removed_VIRGINIA\n"
     ]
    },
    {
     "name": "stderr",
     "output_type": "stream",
     "text": [
      "100%|██████████| 10/10 [00:18<00:00,  1.84s/it]\n"
     ]
    },
    {
     "name": "stdout",
     "output_type": "stream",
     "text": [
      "Dataset: US_Corn_Yield_2016_Removed_WEST VIRGINIA\n"
     ]
    },
    {
     "name": "stderr",
     "output_type": "stream",
     "text": [
      "100%|██████████| 10/10 [00:16<00:00,  1.67s/it]\n"
     ]
    },
    {
     "name": "stdout",
     "output_type": "stream",
     "text": [
      "Dataset: US_Corn_Yield_2016_Removed_WISCONSIN\n"
     ]
    },
    {
     "name": "stderr",
     "output_type": "stream",
     "text": [
      "100%|██████████| 10/10 [00:18<00:00,  1.81s/it]\n"
     ]
    },
    {
     "name": "stdout",
     "output_type": "stream",
     "text": [
      "Dataset: US_Corn_Yield_2016_Removed_WYOMING\n"
     ]
    },
    {
     "name": "stderr",
     "output_type": "stream",
     "text": [
      "100%|██████████| 10/10 [00:17<00:00,  1.71s/it]\n"
     ]
    },
    {
     "data": {
      "text/html": [
       "<div>\n",
       "<style scoped>\n",
       "    .dataframe tbody tr th:only-of-type {\n",
       "        vertical-align: middle;\n",
       "    }\n",
       "\n",
       "    .dataframe tbody tr th {\n",
       "        vertical-align: top;\n",
       "    }\n",
       "\n",
       "    .dataframe thead th {\n",
       "        text-align: right;\n",
       "    }\n",
       "</style>\n",
       "<table border=\"1\" class=\"dataframe\">\n",
       "  <thead>\n",
       "    <tr style=\"text-align: right;\">\n",
       "      <th></th>\n",
       "      <th>Method</th>\n",
       "      <th>CrossValidation</th>\n",
       "      <th>Optimistic</th>\n",
       "      <th>RegGBSCV_R_Kappa_0.0</th>\n",
       "      <th>RegGBSCV_R_Kappa_0.1</th>\n",
       "      <th>RegGBSCV_R_Kappa_0.2</th>\n",
       "      <th>RegGBSCV_R_Kappa_0.3</th>\n",
       "      <th>RegGBSCV_R_Kappa_0.4</th>\n",
       "      <th>RegGBSCV_R_Kappa_0.5</th>\n",
       "      <th>RegGBSCV_R_Kappa_0.6</th>\n",
       "      <th>RegGBSCV_R_Kappa_0.7</th>\n",
       "      <th>RegGBSCV_R_Kappa_0.8</th>\n",
       "      <th>RegGBSCV_R_Kappa_0.9</th>\n",
       "      <th>RegGBSCV_R_Kappa_1.0</th>\n",
       "      <th>TraditionalSCV</th>\n",
       "    </tr>\n",
       "  </thead>\n",
       "  <tbody>\n",
       "    <tr>\n",
       "      <th>0</th>\n",
       "      <td>3.0</td>\n",
       "      <td>6.0</td>\n",
       "      <td>4.0</td>\n",
       "      <td>3.0</td>\n",
       "      <td>3.0</td>\n",
       "      <td>3.0</td>\n",
       "      <td>3.0</td>\n",
       "      <td>3.0</td>\n",
       "      <td>2.0</td>\n",
       "      <td>3.0</td>\n",
       "      <td>2.0</td>\n",
       "      <td>1.0</td>\n",
       "      <td>4.0</td>\n",
       "      <td>3.0</td>\n",
       "      <td>4.0</td>\n",
       "    </tr>\n",
       "    <tr>\n",
       "      <th>1</th>\n",
       "      <td>7.0</td>\n",
       "      <td>5.0</td>\n",
       "      <td>6.0</td>\n",
       "      <td>9.0</td>\n",
       "      <td>9.0</td>\n",
       "      <td>9.0</td>\n",
       "      <td>9.0</td>\n",
       "      <td>9.0</td>\n",
       "      <td>10.0</td>\n",
       "      <td>10.0</td>\n",
       "      <td>10.0</td>\n",
       "      <td>10.0</td>\n",
       "      <td>10.0</td>\n",
       "      <td>10.0</td>\n",
       "      <td>8.0</td>\n",
       "    </tr>\n",
       "    <tr>\n",
       "      <th>2</th>\n",
       "      <td>5.0</td>\n",
       "      <td>9.0</td>\n",
       "      <td>8.0</td>\n",
       "      <td>4.0</td>\n",
       "      <td>4.0</td>\n",
       "      <td>4.0</td>\n",
       "      <td>4.0</td>\n",
       "      <td>4.0</td>\n",
       "      <td>4.0</td>\n",
       "      <td>4.0</td>\n",
       "      <td>4.0</td>\n",
       "      <td>2.0</td>\n",
       "      <td>3.0</td>\n",
       "      <td>4.0</td>\n",
       "      <td>6.0</td>\n",
       "    </tr>\n",
       "    <tr>\n",
       "      <th>3</th>\n",
       "      <td>9.0</td>\n",
       "      <td>4.0</td>\n",
       "      <td>7.0</td>\n",
       "      <td>10.0</td>\n",
       "      <td>10.0</td>\n",
       "      <td>10.0</td>\n",
       "      <td>10.0</td>\n",
       "      <td>10.0</td>\n",
       "      <td>9.0</td>\n",
       "      <td>9.0</td>\n",
       "      <td>9.0</td>\n",
       "      <td>9.0</td>\n",
       "      <td>9.0</td>\n",
       "      <td>9.0</td>\n",
       "      <td>7.0</td>\n",
       "    </tr>\n",
       "    <tr>\n",
       "      <th>4</th>\n",
       "      <td>2.0</td>\n",
       "      <td>7.0</td>\n",
       "      <td>5.0</td>\n",
       "      <td>6.0</td>\n",
       "      <td>6.0</td>\n",
       "      <td>6.0</td>\n",
       "      <td>6.0</td>\n",
       "      <td>6.0</td>\n",
       "      <td>6.0</td>\n",
       "      <td>6.0</td>\n",
       "      <td>6.0</td>\n",
       "      <td>5.0</td>\n",
       "      <td>5.0</td>\n",
       "      <td>5.0</td>\n",
       "      <td>5.0</td>\n",
       "    </tr>\n",
       "    <tr>\n",
       "      <th>5</th>\n",
       "      <td>1.0</td>\n",
       "      <td>8.0</td>\n",
       "      <td>9.0</td>\n",
       "      <td>5.0</td>\n",
       "      <td>5.0</td>\n",
       "      <td>8.0</td>\n",
       "      <td>8.0</td>\n",
       "      <td>8.0</td>\n",
       "      <td>8.0</td>\n",
       "      <td>7.0</td>\n",
       "      <td>8.0</td>\n",
       "      <td>7.0</td>\n",
       "      <td>6.0</td>\n",
       "      <td>6.0</td>\n",
       "      <td>9.0</td>\n",
       "    </tr>\n",
       "    <tr>\n",
       "      <th>6</th>\n",
       "      <td>4.0</td>\n",
       "      <td>1.0</td>\n",
       "      <td>1.0</td>\n",
       "      <td>2.0</td>\n",
       "      <td>1.0</td>\n",
       "      <td>1.0</td>\n",
       "      <td>2.0</td>\n",
       "      <td>1.0</td>\n",
       "      <td>1.0</td>\n",
       "      <td>1.0</td>\n",
       "      <td>1.0</td>\n",
       "      <td>3.0</td>\n",
       "      <td>1.0</td>\n",
       "      <td>2.0</td>\n",
       "      <td>1.0</td>\n",
       "    </tr>\n",
       "    <tr>\n",
       "      <th>7</th>\n",
       "      <td>8.0</td>\n",
       "      <td>2.0</td>\n",
       "      <td>2.0</td>\n",
       "      <td>1.0</td>\n",
       "      <td>2.0</td>\n",
       "      <td>2.0</td>\n",
       "      <td>1.0</td>\n",
       "      <td>2.0</td>\n",
       "      <td>3.0</td>\n",
       "      <td>2.0</td>\n",
       "      <td>3.0</td>\n",
       "      <td>4.0</td>\n",
       "      <td>2.0</td>\n",
       "      <td>1.0</td>\n",
       "      <td>2.0</td>\n",
       "    </tr>\n",
       "    <tr>\n",
       "      <th>8</th>\n",
       "      <td>6.0</td>\n",
       "      <td>10.0</td>\n",
       "      <td>10.0</td>\n",
       "      <td>7.0</td>\n",
       "      <td>7.0</td>\n",
       "      <td>5.0</td>\n",
       "      <td>5.0</td>\n",
       "      <td>5.0</td>\n",
       "      <td>5.0</td>\n",
       "      <td>5.0</td>\n",
       "      <td>5.0</td>\n",
       "      <td>6.0</td>\n",
       "      <td>7.0</td>\n",
       "      <td>8.0</td>\n",
       "      <td>10.0</td>\n",
       "    </tr>\n",
       "    <tr>\n",
       "      <th>9</th>\n",
       "      <td>10.0</td>\n",
       "      <td>3.0</td>\n",
       "      <td>3.0</td>\n",
       "      <td>8.0</td>\n",
       "      <td>8.0</td>\n",
       "      <td>7.0</td>\n",
       "      <td>7.0</td>\n",
       "      <td>7.0</td>\n",
       "      <td>7.0</td>\n",
       "      <td>8.0</td>\n",
       "      <td>7.0</td>\n",
       "      <td>8.0</td>\n",
       "      <td>8.0</td>\n",
       "      <td>7.0</td>\n",
       "      <td>3.0</td>\n",
       "    </tr>\n",
       "  </tbody>\n",
       "</table>\n",
       "</div>"
      ],
      "text/plain": [
       "   Method  CrossValidation  Optimistic  RegGBSCV_R_Kappa_0.0  \\\n",
       "0     3.0              6.0         4.0                   3.0   \n",
       "1     7.0              5.0         6.0                   9.0   \n",
       "2     5.0              9.0         8.0                   4.0   \n",
       "3     9.0              4.0         7.0                  10.0   \n",
       "4     2.0              7.0         5.0                   6.0   \n",
       "5     1.0              8.0         9.0                   5.0   \n",
       "6     4.0              1.0         1.0                   2.0   \n",
       "7     8.0              2.0         2.0                   1.0   \n",
       "8     6.0             10.0        10.0                   7.0   \n",
       "9    10.0              3.0         3.0                   8.0   \n",
       "\n",
       "   RegGBSCV_R_Kappa_0.1  RegGBSCV_R_Kappa_0.2  RegGBSCV_R_Kappa_0.3  \\\n",
       "0                   3.0                   3.0                   3.0   \n",
       "1                   9.0                   9.0                   9.0   \n",
       "2                   4.0                   4.0                   4.0   \n",
       "3                  10.0                  10.0                  10.0   \n",
       "4                   6.0                   6.0                   6.0   \n",
       "5                   5.0                   8.0                   8.0   \n",
       "6                   1.0                   1.0                   2.0   \n",
       "7                   2.0                   2.0                   1.0   \n",
       "8                   7.0                   5.0                   5.0   \n",
       "9                   8.0                   7.0                   7.0   \n",
       "\n",
       "   RegGBSCV_R_Kappa_0.4  RegGBSCV_R_Kappa_0.5  RegGBSCV_R_Kappa_0.6  \\\n",
       "0                   3.0                   2.0                   3.0   \n",
       "1                   9.0                  10.0                  10.0   \n",
       "2                   4.0                   4.0                   4.0   \n",
       "3                  10.0                   9.0                   9.0   \n",
       "4                   6.0                   6.0                   6.0   \n",
       "5                   8.0                   8.0                   7.0   \n",
       "6                   1.0                   1.0                   1.0   \n",
       "7                   2.0                   3.0                   2.0   \n",
       "8                   5.0                   5.0                   5.0   \n",
       "9                   7.0                   7.0                   8.0   \n",
       "\n",
       "   RegGBSCV_R_Kappa_0.7  RegGBSCV_R_Kappa_0.8  RegGBSCV_R_Kappa_0.9  \\\n",
       "0                   2.0                   1.0                   4.0   \n",
       "1                  10.0                  10.0                  10.0   \n",
       "2                   4.0                   2.0                   3.0   \n",
       "3                   9.0                   9.0                   9.0   \n",
       "4                   6.0                   5.0                   5.0   \n",
       "5                   8.0                   7.0                   6.0   \n",
       "6                   1.0                   3.0                   1.0   \n",
       "7                   3.0                   4.0                   2.0   \n",
       "8                   5.0                   6.0                   7.0   \n",
       "9                   7.0                   8.0                   8.0   \n",
       "\n",
       "   RegGBSCV_R_Kappa_1.0  TraditionalSCV  \n",
       "0                   3.0             4.0  \n",
       "1                  10.0             8.0  \n",
       "2                   4.0             6.0  \n",
       "3                   9.0             7.0  \n",
       "4                   5.0             5.0  \n",
       "5                   6.0             9.0  \n",
       "6                   2.0             1.0  \n",
       "7                   1.0             2.0  \n",
       "8                   8.0            10.0  \n",
       "9                   7.0             3.0  "
      ]
     },
     "execution_count": 20,
     "metadata": {},
     "output_type": "execute_result"
    }
   ],
   "source": [
    "fs_method = \"All\"\n",
    "ml_methods = [\"KNN\", \"OLS\", \"Lasso\", \"Ridge\", \"ElasticNet\", \"DT\", \"LGBM\", \"RF\", \"MLP\", \"SVM\"]\n",
    "data_id = \"INDEX\"\n",
    "\n",
    "for dataset_folder in us_corn_datasets:\n",
    "    rmse_mean = {}\n",
    "    print(f\"Dataset: {dataset_folder}\")\n",
    "    dataset_path = os.path.join(env_var[\"root_path\"], dataset_folder)\n",
    "    #scv_methods = list(os.listdir(os.path.join(dataset_path, \"results\")))\n",
    "    #rmse_mean[\"Dataset\"] = rmse_mean[\"Dataset\"] + [dataset_folder] if rmse_mean.get(\"Dataset\") else [dataset_folder]\n",
    "    #scv_methods = [\"RegGBSCV_R_Kappa_2.0\"]\n",
    "    for ml_method in tqdm(ml_methods):\n",
    "        rmse_mean[\"Method\"] = rmse_mean[\"Method\"] + [ml_method] if rmse_mean.get(\"Method\") else [ml_method]\n",
    "        for scv_method in scv_methods:\n",
    "            predictions_path = os.path.join(dataset_path, \"results\", scv_method, \"predictions\", fs_method, f\"{ml_method}\")\n",
    "            predi_files = [os.path.join(predictions_path,c) for c in os.listdir(predictions_path)]\n",
    "            predictions = pd.DataFrame()\n",
    "            for file in predi_files:\n",
    "                pred_fold = pd.read_csv(file)\n",
    "                predictions = pd.concat([predictions, pred_fold])\n",
    "            predictions[\"fold\"] = predictions[data_id].apply(lambda cod: str(cod)[:2])\n",
    "            predictions[\"error\"] = (predictions[\"PREDICTIONS\"] - predictions[\"GROUND_TRUTH\"])**2\n",
    "            predictions = predictions.groupby(by=\"fold\").agg(\"mean\")\n",
    "            rmse_mean[f\"{scv_method}\"] = rmse_mean[f\"{scv_method}\"] +[predictions[\"error\"].mean()] if rmse_mean.get(f\"{scv_method}\") else [predictions[\"error\"].mean()]\n",
    "            #rmse_mean[f\"{scv_method}_std\"] = rmse_mean[f\"{scv_method}_std\"] +[predictions[\"error\"].std()] if rmse_mean.get(f\"{scv_method}_std\") else [predictions[\"error\"].std()]\n",
    "    _make_folders(os.path.join(env_var[\"root_path\"], dataset_folder), [\"comparison\"])\n",
    "    df_rmse = pd.DataFrame(rmse_mean)\n",
    "    df_rmse.set_index(\"Method\", inplace=True)\n",
    "\n",
    "    df_rmse.to_csv(os.path.join(env_var[\"root_path\"], dataset_folder, \"comparison\", \"RMSE.csv\"))\n",
    "    df_rmse.rank().to_csv(os.path.join(env_var[\"root_path\"], dataset_folder, \"comparison\", \"Rank.csv\"))\n",
    "\n",
    "pd.DataFrame(rmse_mean).rank()\n",
    "\n"
   ]
  }
 ],
 "metadata": {
  "interpreter": {
   "hash": "16e306bc925144e33eb7798286ee39e98b4eae36f3b0781ec31a8ce823bfdc1b"
  },
  "kernelspec": {
   "display_name": "Python 3.8.12 64-bit ('graph_based_scv': conda)",
   "language": "python",
   "name": "python3"
  },
  "language_info": {
   "codemirror_mode": {
    "name": "ipython",
    "version": 3
   },
   "file_extension": ".py",
   "mimetype": "text/x-python",
   "name": "python",
   "nbconvert_exporter": "python",
   "pygments_lexer": "ipython3",
   "version": "3.9.12"
  },
  "orig_nbformat": 4
 },
 "nbformat": 4,
 "nbformat_minor": 2
}
