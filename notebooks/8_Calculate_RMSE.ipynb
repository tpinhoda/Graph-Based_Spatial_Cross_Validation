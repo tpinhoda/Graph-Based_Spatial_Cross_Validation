{
 "cells": [
  {
   "cell_type": "code",
   "execution_count": 33,
   "metadata": {},
   "outputs": [],
   "source": [
    "import geopandas as gpd\n",
    "import pandas as pd\n",
    "import matplotlib.pyplot as plt\n",
    "import os\n",
    "import json\n",
    "from tqdm import tqdm\n",
    "from src import utils"
   ]
  },
  {
   "cell_type": "code",
   "execution_count": 34,
   "metadata": {},
   "outputs": [],
   "source": [
    "# Project path\n",
    "project_dir = os.path.abspath('')[:-5]\n",
    "# Load enviromental variables\n",
    "env_var = utils.load_env_variables(project_dir)"
   ]
  },
  {
   "cell_type": "code",
   "execution_count": 35,
   "metadata": {},
   "outputs": [],
   "source": [
    "datasets_single = [\"Brazil_Election_2018_Sampled_dec0.3_prob0.2\"]\n",
    "\n",
    "datasets = [      \"Brazil_Election_2018_Sampled_dec0.3_prob0.2\",\n",
    "                  \"Brazil_Election_2018_Sampled_dec0.3_prob0.4\",\n",
    "                  \"Brazil_Election_2018_Sampled_dec0.3_prob0.6\",\n",
    "                  \"Brazil_Election_2018_Sampled_dec0.3_prob0.8\",\n",
    "                ]\n",
    "\n",
    "scv_methods = [\"Optimistic\",\n",
    "               \"RegGBSCV_R_Kappa_0.0\",\n",
    "               \"RegGBSCV_R_Kappa_0.2\",  \n",
    "               \"RegGBSCV_R_Kappa_0.4\",\n",
    "               \"RegGBSCV_R_Kappa_0.6\", \n",
    "               \"RegGBSCV_R_Kappa_0.8\",\n",
    "               \"TraditionalSCV\"]"
   ]
  },
  {
   "cell_type": "code",
   "execution_count": 36,
   "metadata": {},
   "outputs": [
    {
     "name": "stdout",
     "output_type": "stream",
     "text": [
      "Dataset: Brazil_Election_2018_Sampled_dec0.3_prob0.2\n"
     ]
    },
    {
     "name": "stderr",
     "output_type": "stream",
     "text": [
      "100%|██████████| 9/9 [00:05<00:00,  1.60it/s]\n"
     ]
    },
    {
     "name": "stdout",
     "output_type": "stream",
     "text": [
      "Dataset: Brazil_Election_2018_Sampled_dec0.3_prob0.4\n"
     ]
    },
    {
     "name": "stderr",
     "output_type": "stream",
     "text": [
      "100%|██████████| 9/9 [00:05<00:00,  1.62it/s]\n"
     ]
    },
    {
     "name": "stdout",
     "output_type": "stream",
     "text": [
      "Dataset: Brazil_Election_2018_Sampled_dec0.3_prob0.6\n"
     ]
    },
    {
     "name": "stderr",
     "output_type": "stream",
     "text": [
      "100%|██████████| 9/9 [00:06<00:00,  1.46it/s]\n"
     ]
    },
    {
     "name": "stdout",
     "output_type": "stream",
     "text": [
      "Dataset: Brazil_Election_2018_Sampled_dec0.3_prob0.8\n"
     ]
    },
    {
     "name": "stderr",
     "output_type": "stream",
     "text": [
      "100%|██████████| 9/9 [00:04<00:00,  1.82it/s]\n"
     ]
    },
    {
     "data": {
      "text/html": [
       "<div>\n",
       "<style scoped>\n",
       "    .dataframe tbody tr th:only-of-type {\n",
       "        vertical-align: middle;\n",
       "    }\n",
       "\n",
       "    .dataframe tbody tr th {\n",
       "        vertical-align: top;\n",
       "    }\n",
       "\n",
       "    .dataframe thead th {\n",
       "        text-align: right;\n",
       "    }\n",
       "</style>\n",
       "<table border=\"1\" class=\"dataframe\">\n",
       "  <thead>\n",
       "    <tr style=\"text-align: right;\">\n",
       "      <th></th>\n",
       "      <th>Method</th>\n",
       "      <th>Optimistic</th>\n",
       "      <th>RegGBSCV_R_Kappa_0.0</th>\n",
       "      <th>RegGBSCV_R_Kappa_0.2</th>\n",
       "      <th>RegGBSCV_R_Kappa_0.4</th>\n",
       "      <th>RegGBSCV_R_Kappa_0.6</th>\n",
       "      <th>RegGBSCV_R_Kappa_0.8</th>\n",
       "      <th>TraditionalSCV</th>\n",
       "    </tr>\n",
       "  </thead>\n",
       "  <tbody>\n",
       "    <tr>\n",
       "      <th>0</th>\n",
       "      <td>KNN_1</td>\n",
       "      <td>263.456477</td>\n",
       "      <td>271.636821</td>\n",
       "      <td>273.538868</td>\n",
       "      <td>293.442030</td>\n",
       "      <td>301.125847</td>\n",
       "      <td>297.005325</td>\n",
       "      <td>471.171435</td>\n",
       "    </tr>\n",
       "    <tr>\n",
       "      <th>1</th>\n",
       "      <td>OLS_1</td>\n",
       "      <td>249.951111</td>\n",
       "      <td>271.686678</td>\n",
       "      <td>294.214713</td>\n",
       "      <td>408.082587</td>\n",
       "      <td>2154.965634</td>\n",
       "      <td>315.959657</td>\n",
       "      <td>2034.177643</td>\n",
       "    </tr>\n",
       "    <tr>\n",
       "      <th>2</th>\n",
       "      <td>Lasso_1</td>\n",
       "      <td>155.732538</td>\n",
       "      <td>162.479904</td>\n",
       "      <td>163.095783</td>\n",
       "      <td>177.011006</td>\n",
       "      <td>184.853304</td>\n",
       "      <td>182.585750</td>\n",
       "      <td>368.882354</td>\n",
       "    </tr>\n",
       "    <tr>\n",
       "      <th>3</th>\n",
       "      <td>Ridge_1</td>\n",
       "      <td>170.739580</td>\n",
       "      <td>164.292328</td>\n",
       "      <td>165.936980</td>\n",
       "      <td>182.819937</td>\n",
       "      <td>193.379822</td>\n",
       "      <td>188.699588</td>\n",
       "      <td>391.528515</td>\n",
       "    </tr>\n",
       "    <tr>\n",
       "      <th>4</th>\n",
       "      <td>DT_1</td>\n",
       "      <td>264.713089</td>\n",
       "      <td>261.196946</td>\n",
       "      <td>257.407169</td>\n",
       "      <td>280.582013</td>\n",
       "      <td>287.695285</td>\n",
       "      <td>270.102943</td>\n",
       "      <td>448.030854</td>\n",
       "    </tr>\n",
       "    <tr>\n",
       "      <th>5</th>\n",
       "      <td>LGBM_1</td>\n",
       "      <td>150.553607</td>\n",
       "      <td>165.717798</td>\n",
       "      <td>169.823072</td>\n",
       "      <td>170.738295</td>\n",
       "      <td>166.988706</td>\n",
       "      <td>191.421851</td>\n",
       "      <td>349.618321</td>\n",
       "    </tr>\n",
       "    <tr>\n",
       "      <th>6</th>\n",
       "      <td>RF_1</td>\n",
       "      <td>162.631692</td>\n",
       "      <td>169.522102</td>\n",
       "      <td>172.168981</td>\n",
       "      <td>174.466530</td>\n",
       "      <td>176.686161</td>\n",
       "      <td>184.972830</td>\n",
       "      <td>366.744847</td>\n",
       "    </tr>\n",
       "    <tr>\n",
       "      <th>7</th>\n",
       "      <td>MLP_1</td>\n",
       "      <td>289.599042</td>\n",
       "      <td>262.179108</td>\n",
       "      <td>259.971753</td>\n",
       "      <td>275.598672</td>\n",
       "      <td>309.481866</td>\n",
       "      <td>300.855127</td>\n",
       "      <td>468.202798</td>\n",
       "    </tr>\n",
       "    <tr>\n",
       "      <th>8</th>\n",
       "      <td>SVM_1</td>\n",
       "      <td>266.047462</td>\n",
       "      <td>263.590308</td>\n",
       "      <td>265.290629</td>\n",
       "      <td>276.431099</td>\n",
       "      <td>282.307888</td>\n",
       "      <td>275.112234</td>\n",
       "      <td>473.058276</td>\n",
       "    </tr>\n",
       "  </tbody>\n",
       "</table>\n",
       "</div>"
      ],
      "text/plain": [
       "    Method  Optimistic  RegGBSCV_R_Kappa_0.0  RegGBSCV_R_Kappa_0.2  \\\n",
       "0    KNN_1  263.456477            271.636821            273.538868   \n",
       "1    OLS_1  249.951111            271.686678            294.214713   \n",
       "2  Lasso_1  155.732538            162.479904            163.095783   \n",
       "3  Ridge_1  170.739580            164.292328            165.936980   \n",
       "4     DT_1  264.713089            261.196946            257.407169   \n",
       "5   LGBM_1  150.553607            165.717798            169.823072   \n",
       "6     RF_1  162.631692            169.522102            172.168981   \n",
       "7    MLP_1  289.599042            262.179108            259.971753   \n",
       "8    SVM_1  266.047462            263.590308            265.290629   \n",
       "\n",
       "   RegGBSCV_R_Kappa_0.4  RegGBSCV_R_Kappa_0.6  RegGBSCV_R_Kappa_0.8  \\\n",
       "0            293.442030            301.125847            297.005325   \n",
       "1            408.082587           2154.965634            315.959657   \n",
       "2            177.011006            184.853304            182.585750   \n",
       "3            182.819937            193.379822            188.699588   \n",
       "4            280.582013            287.695285            270.102943   \n",
       "5            170.738295            166.988706            191.421851   \n",
       "6            174.466530            176.686161            184.972830   \n",
       "7            275.598672            309.481866            300.855127   \n",
       "8            276.431099            282.307888            275.112234   \n",
       "\n",
       "   TraditionalSCV  \n",
       "0      471.171435  \n",
       "1     2034.177643  \n",
       "2      368.882354  \n",
       "3      391.528515  \n",
       "4      448.030854  \n",
       "5      349.618321  \n",
       "6      366.744847  \n",
       "7      468.202798  \n",
       "8      473.058276  "
      ]
     },
     "execution_count": 36,
     "metadata": {},
     "output_type": "execute_result"
    }
   ],
   "source": [
    "fs_method = \"CFS\"\n",
    "ml_methods = [\"KNN_1\", \"OLS_1\", \"Lasso_1\", \"Ridge_1\", \"DT_1\", \"LGBM_1\", \"RF_1\", \"MLP_1\", \"SVM_1\"]\n",
    "data_id = \"INDEX\"\n",
    "\n",
    "for dataset_folder in datasets:\n",
    "    rmse_mean = {}\n",
    "    print(f\"Dataset: {dataset_folder}\")\n",
    "    dataset_path = os.path.join(env_var[\"root_path\"], dataset_folder)\n",
    "    scv_methods = list(os.listdir(os.path.join(dataset_path, \"results\")))\n",
    "    #rmse_mean[\"Dataset\"] = rmse_mean[\"Dataset\"] + [dataset_folder] if rmse_mean.get(\"Dataset\") else [dataset_folder]\n",
    "    #scv_methods = [\"RegGBSCV_R_Kappa_2.0\"]\n",
    "    for ml_method in tqdm(ml_methods):\n",
    "        rmse_mean[\"Method\"] = rmse_mean[\"Method\"] + [ml_method] if rmse_mean.get(\"Method\") else [ml_method]\n",
    "        for scv_method in scv_methods:\n",
    "            try:\n",
    "                predictions_path = os.path.join(dataset_path, \"results\", scv_method, \"predictions\", fs_method, f\"{ml_method}\")\n",
    "                predi_files = [os.path.join(predictions_path,c) for c in os.listdir(predictions_path)]\n",
    "                predictions = pd.DataFrame()\n",
    "                for file in predi_files:\n",
    "                    pred_fold = pd.read_csv(file)\n",
    "                    predictions = pd.concat([predictions, pred_fold])\n",
    "                predictions[\"fold\"] = predictions[data_id].apply(lambda cod: str(cod)[:2])\n",
    "                predictions[\"error\"] = (predictions[\"PREDICTIONS\"] - predictions[\"GROUND_TRUTH\"])**2\n",
    "                predictions = predictions.groupby(by=\"fold\").agg(\"mean\")\n",
    "                rmse_mean[f\"{scv_method}\"] = rmse_mean[f\"{scv_method}\"] +[predictions[\"error\"].mean()] if rmse_mean.get(f\"{scv_method}\") else [predictions[\"error\"].mean()]\n",
    "                #rmse_mean[f\"{scv_method}_std\"] = rmse_mean[f\"{scv_method}_std\"] +[predictions[\"error\"].std()] if rmse_mean.get(f\"{scv_method}_std\") else [predictions[\"error\"].std()]\n",
    "            except FileNotFoundError:\n",
    "                pass\n",
    "    pd.DataFrame(rmse_mean).to_csv(os.path.join(env_var[\"root_path\"], dataset_folder, \"comparison\", \"RMSE.csv\"), index=False)\n",
    "\n",
    "pd.DataFrame(rmse_mean)\n",
    "\n"
   ]
  }
 ],
 "metadata": {
  "interpreter": {
   "hash": "16e306bc925144e33eb7798286ee39e98b4eae36f3b0781ec31a8ce823bfdc1b"
  },
  "kernelspec": {
   "display_name": "Python 3.8.12 64-bit ('graph_based_scv': conda)",
   "language": "python",
   "name": "python3"
  },
  "language_info": {
   "codemirror_mode": {
    "name": "ipython",
    "version": 3
   },
   "file_extension": ".py",
   "mimetype": "text/x-python",
   "name": "python",
   "nbconvert_exporter": "python",
   "pygments_lexer": "ipython3",
   "version": "3.8.12"
  },
  "orig_nbformat": 4
 },
 "nbformat": 4,
 "nbformat_minor": 2
}
