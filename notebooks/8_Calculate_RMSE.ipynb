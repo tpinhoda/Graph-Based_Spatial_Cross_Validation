{
 "cells": [
  {
   "cell_type": "code",
   "execution_count": 21,
   "metadata": {},
   "outputs": [],
   "source": [
    "import contextlib\n",
    "import geopandas as gpd\n",
    "import pandas as pd\n",
    "import matplotlib.pyplot as plt\n",
    "import os\n",
    "import json\n",
    "from tqdm import tqdm\n",
    "from src import utils\n",
    "import seaborn as sns"
   ]
  },
  {
   "cell_type": "code",
   "execution_count": 22,
   "metadata": {},
   "outputs": [],
   "source": [
    "def _mkdir(root_path, folder_name):\n",
    "    \"\"\"Creates a folder at current path\"\"\"\n",
    "    # logger = logging.getLogger(self.logger_name)\n",
    "    cur_dir = os.path.join(root_path, folder_name)\n",
    "    with contextlib.suppress(FileExistsError):\n",
    "        os.mkdir(cur_dir)\n",
    "        # logger.info(f\"Entering folder: /{folder_name}\")\n",
    "def _make_folders(root_path, folders):\n",
    "        \"\"\"Make the initial folders\"\"\"\n",
    "        for folder in folders:\n",
    "            _mkdir(root_path, folder)\n",
    "            root_path = os.path.join(root_path, folder)\n",
    "        return root_path"
   ]
  },
  {
   "cell_type": "code",
   "execution_count": 23,
   "metadata": {},
   "outputs": [],
   "source": [
    "# Project path\n",
    "project_dir = os.path.abspath('')[:-9]\n",
    "# Load enviromental variables\n",
    "\n",
    "env_var = utils.load_env_variables(project_dir)\n",
    "env_var[\"root_path\"] = \"/home/tpinho/IJGIS/Datasets/Australia_Election_2019\""
   ]
  },
  {
   "cell_type": "code",
   "execution_count": 24,
   "metadata": {},
   "outputs": [],
   "source": [
    "datasets_single = [\"Brazil_Election_2018\"]\n",
    "few_methods = [\"CrossValidation\", \"Optimistic\", \"TraditionalSCV\"]\n",
    "\n",
    "datasets = [\"Brazil_Election_2018_Sampled_dec0.3_prob0.1\",      \n",
    "            \"Brazil_Election_2018_Sampled_dec0.3_prob0.2\",\n",
    "            \"Brazil_Election_2018_Sampled_dec0.3_prob0.3\",\n",
    "            \"Brazil_Election_2018_Sampled_dec0.3_prob0.4\",\n",
    "            \"Brazil_Election_2018_Sampled_dec0.3_prob0.5\",\n",
    "            \"Brazil_Election_2018_Sampled_dec0.3_prob0.6\",\n",
    "            \"Brazil_Election_2018_Sampled_dec0.3_prob0.7\",\n",
    "            \"Brazil_Election_2018_Sampled_dec0.3_prob0.8\",\n",
    "            \"Brazil_Election_2018_Sampled_dec0.3_prob0.9\",\n",
    "            ]\n",
    "\n",
    "us_corn_datasets = [\"US_Corn_Yield_2016_Removed_ALABAMA\",\n",
    "                \"US_Corn_Yield_2016_Removed_ARKANSAS\",\n",
    "                \"US_Corn_Yield_2016_Removed_CALIFORNIA\",\n",
    "                \"US_Corn_Yield_2016_Removed_COLORADO\",\n",
    "                \"US_Corn_Yield_2016_Removed_DELAWARE\",\n",
    "                \"US_Corn_Yield_2016_Removed_GEORGIA\",\n",
    "                \"US_Corn_Yield_2016_Removed_IDAHO\",\n",
    "                \"US_Corn_Yield_2016_Removed_ILLINOIS\",\n",
    "                \"US_Corn_Yield_2016_Removed_INDIANA\",\n",
    "                \"US_Corn_Yield_2016_Removed_IOWA\",\n",
    "                \"US_Corn_Yield_2016_Removed_KANSAS\",\n",
    "                \"US_Corn_Yield_2016_Removed_KENTUCKY\",\n",
    "                \"US_Corn_Yield_2016_Removed_LOUISIANA\",\n",
    "                \"US_Corn_Yield_2016_Removed_MARYLAND\",\n",
    "                \"US_Corn_Yield_2016_Removed_MICHIGAN\",\n",
    "                \"US_Corn_Yield_2016_Removed_MINNESOTA\",\n",
    "                \"US_Corn_Yield_2016_Removed_MISSISSIPPI\",\n",
    "                \"US_Corn_Yield_2016_Removed_MISSOURI\",\n",
    "                \"US_Corn_Yield_2016_Removed_MONTANA\",\n",
    "                \"US_Corn_Yield_2016_Removed_NEBRASKA\",\n",
    "                \"US_Corn_Yield_2016_Removed_NEW JERSEY\",\n",
    "                \"US_Corn_Yield_2016_Removed_NEW MEXICO\",\n",
    "                \"US_Corn_Yield_2016_Removed_NEW YORK\",\n",
    "                \"US_Corn_Yield_2016_Removed_NORTH CAROLINA\",\n",
    "                \"US_Corn_Yield_2016_Removed_NORTH DAKOTA\",\n",
    "                \"US_Corn_Yield_2016_Removed_OHIO\",\n",
    "                \"US_Corn_Yield_2016_Removed_OKLAHOMA\",\n",
    "                \"US_Corn_Yield_2016_Removed_PENNSYLVANIA\",\n",
    "                \"US_Corn_Yield_2016_Removed_SOUTH CAROLINA\",\n",
    "                \"US_Corn_Yield_2016_Removed_SOUTH DAKOTA\",\n",
    "                \"US_Corn_Yield_2016_Removed_TENNESSEE\",\n",
    "                \"US_Corn_Yield_2016_Removed_TEXAS\",\n",
    "                \"US_Corn_Yield_2016_Removed_VIRGINIA\",\n",
    "                \"US_Corn_Yield_2016_Removed_WEST VIRGINIA\",\n",
    "                \"US_Corn_Yield_2016_Removed_WISCONSIN\",\n",
    "                \"US_Corn_Yield_2016_Removed_WYOMING\"]\n",
    "                \n",
    "us_corn_datasets = [\"US_Corn_Yield_2016_Removed_Northeast\",\n",
    "                    \"US_Corn_Yield_2016_Removed_Southeast\",\n",
    "                    \"US_Corn_Yield_2016_Removed_Midwest\",\n",
    "                    \"US_Corn_Yield_2016_Removed_Southwest\",\n",
    "                    \"US_Corn_Yield_2016_Removed_West\"]\n",
    "\n",
    "us_wheat_datasets = [\"US_Wheat_2014_Removed_Kansas\",\n",
    "                    \"US_Wheat_2014_Removed_Montana\",\n",
    "                    \"US_Wheat_2014_Removed_Oklahoma\",\n",
    "                    \"US_Wheat_2014_Removed_Texas\",\n",
    "                    \"US_Wheat_2014_Removed_Washington\"]\n",
    "\n",
    "australia_datasets = [\"Australia_Election_2019_Sampled_dec0.05_prob0.1\",\n",
    "                \"Australia_Election_2019_Sampled_dec0.05_prob0.2\",\n",
    "                \"Australia_Election_2019_Sampled_dec0.05_prob0.3\",\n",
    "                \"Australia_Election_2019_Sampled_dec0.05_prob0.4\",\n",
    "                \"Australia_Election_2019_Sampled_dec0.05_prob0.5\",\n",
    "                \"Australia_Election_2019_Sampled_dec0.05_prob0.6\",\n",
    "                \"Australia_Election_2019_Sampled_dec0.05_prob0.7\",\n",
    "                \"Australia_Election_2019_Sampled_dec0.05_prob0.8\",\n",
    "                \"Australia_Election_2019_Sampled_dec0.05_prob0.9\"]\n",
    "\n",
    "scv_methods = [\"CrossValidation\",\n",
    "               \"Optimistic\",\n",
    "               \"RegGBSCV_R_Kappa_0.0\",\n",
    "               \"RegGBSCV_R_Kappa_0.1\",\n",
    "               \"RegGBSCV_R_Kappa_0.2\",\n",
    "               \"RegGBSCV_R_Kappa_0.3\",  \n",
    "               \"RegGBSCV_R_Kappa_0.4\",\n",
    "               \"RegGBSCV_R_Kappa_0.5\",\n",
    "               #\"RegGBSCV_R_Kappa_0.6\",\n",
    "               #\"RegGBSCV_R_Kappa_0.7\", \n",
    "               #\"RegGBSCV_R_Kappa_0.8\",\n",
    "               #\"RegGBSCV_R_Kappa_0.9\",\n",
    "               #\"RegGBSCV_R_Kappa_1.0\",\n",
    "               \"TraditionalSCV\"]"
   ]
  },
  {
   "cell_type": "code",
   "execution_count": 25,
   "metadata": {},
   "outputs": [
    {
     "name": "stdout",
     "output_type": "stream",
     "text": [
      "Dataset: Brazil_Election_2018_Sampled_dec0.3_prob0.1\n"
     ]
    },
    {
     "name": "stderr",
     "output_type": "stream",
     "text": [
      "100%|██████████| 10/10 [00:05<00:00,  1.93it/s]\n"
     ]
    },
    {
     "name": "stdout",
     "output_type": "stream",
     "text": [
      "Dataset: Brazil_Election_2018_Sampled_dec0.3_prob0.2\n"
     ]
    },
    {
     "name": "stderr",
     "output_type": "stream",
     "text": [
      "100%|██████████| 10/10 [00:04<00:00,  2.06it/s]\n"
     ]
    },
    {
     "name": "stdout",
     "output_type": "stream",
     "text": [
      "Dataset: Brazil_Election_2018_Sampled_dec0.3_prob0.3\n"
     ]
    },
    {
     "name": "stderr",
     "output_type": "stream",
     "text": [
      "100%|██████████| 10/10 [00:04<00:00,  2.17it/s]\n"
     ]
    },
    {
     "name": "stdout",
     "output_type": "stream",
     "text": [
      "Dataset: Brazil_Election_2018_Sampled_dec0.3_prob0.4\n"
     ]
    },
    {
     "name": "stderr",
     "output_type": "stream",
     "text": [
      "100%|██████████| 10/10 [00:04<00:00,  2.16it/s]\n"
     ]
    },
    {
     "name": "stdout",
     "output_type": "stream",
     "text": [
      "Dataset: Brazil_Election_2018_Sampled_dec0.3_prob0.5\n"
     ]
    },
    {
     "name": "stderr",
     "output_type": "stream",
     "text": [
      "100%|██████████| 10/10 [00:04<00:00,  2.23it/s]\n"
     ]
    },
    {
     "name": "stdout",
     "output_type": "stream",
     "text": [
      "Dataset: Brazil_Election_2018_Sampled_dec0.3_prob0.6\n"
     ]
    },
    {
     "name": "stderr",
     "output_type": "stream",
     "text": [
      "100%|██████████| 10/10 [00:04<00:00,  2.24it/s]\n"
     ]
    },
    {
     "name": "stdout",
     "output_type": "stream",
     "text": [
      "Dataset: Brazil_Election_2018_Sampled_dec0.3_prob0.7\n"
     ]
    },
    {
     "name": "stderr",
     "output_type": "stream",
     "text": [
      "100%|██████████| 10/10 [00:04<00:00,  2.22it/s]\n"
     ]
    },
    {
     "name": "stdout",
     "output_type": "stream",
     "text": [
      "Dataset: Brazil_Election_2018_Sampled_dec0.3_prob0.8\n"
     ]
    },
    {
     "name": "stderr",
     "output_type": "stream",
     "text": [
      "100%|██████████| 10/10 [00:04<00:00,  2.21it/s]\n"
     ]
    },
    {
     "name": "stdout",
     "output_type": "stream",
     "text": [
      "Dataset: Brazil_Election_2018_Sampled_dec0.3_prob0.9\n"
     ]
    },
    {
     "name": "stderr",
     "output_type": "stream",
     "text": [
      "100%|██████████| 10/10 [00:04<00:00,  2.16it/s]\n"
     ]
    },
    {
     "data": {
      "image/png": "[encoded data removed]",
      "text/plain": [
       "<Figure size 432x288 with 10 Axes>"
      ]
     },
     "metadata": {
      "needs_background": "light"
     },
     "output_type": "display_data"
    }
   ],
   "source": [
    "fs_method = \"CFS\"\n",
    "ml_methods = [\"KNN\", \"OLS\", \"Lasso\", \"Ridge\", \"ElasticNet\", \"DT\", \"LGBM\", \"RF\", \"MLP\", \"SVM\"]\n",
    "data_id = \"INDEX\"\n",
    "\n",
    "\n",
    "\n",
    "for dataset_folder in australia_datasets:\n",
    "    rmse_mean = {}\n",
    "    rmse_methods = pd.DataFrame(index=ml_methods, columns=scv_methods, dtype=\"float\")\n",
    "    print(f\"Dataset: {dataset_folder}\")\n",
    "    dataset_path = os.path.join(env_var[\"root_path\"], dataset_folder)\n",
    "    out_sample = pd.read_csv(os.path.join(dataset_path, \"out_of_sample_error.csv\"), index_col=\"methods\")\n",
    "    #scv_methods = list(os.listdir(os.path.join(dataset_path, \"results\")))\n",
    "    #rmse_mean[\"Dataset\"] = rmse_mean[\"Dataset\"] + [dataset_folder] if rmse_mean.get(\"Dataset\") else [dataset_folder]\n",
    "    #scv_methods = [\"RegGBSCV_R_Kappa_2.0\"]\n",
    "    for ml_method in tqdm(ml_methods):\n",
    "        rmse_mean[\"Method\"] = rmse_mean[\"Method\"] + [ml_method] if rmse_mean.get(\"Method\") else [ml_method]\n",
    "        for scv_method in scv_methods:\n",
    "            predictions_path = os.path.join(dataset_path, \"results\", scv_method, \"predictions\", fs_method, f\"{ml_method}\")\n",
    "            predi_files = [os.path.join(predictions_path,c) for c in os.listdir(predictions_path)]\n",
    "            predictions = pd.DataFrame()\n",
    "            for file in predi_files:\n",
    "                pred_fold = pd.read_csv(file)\n",
    "                predictions = pd.concat([predictions, pred_fold])\n",
    "            predictions[\"fold\"] = predictions[data_id].apply(lambda cod: str(cod)[:2])\n",
    "            predictions[\"error\"] = (predictions[\"PREDICTIONS\"] - predictions[\"GROUND_TRUTH\"])**2\n",
    "            predictions = predictions.groupby(by=\"fold\").agg(\"mean\")\n",
    "            rmse_mean[f\"{scv_method}\"] = rmse_mean[f\"{scv_method}\"] +[predictions[\"error\"].mean()] if rmse_mean.get(f\"{scv_method}\") else [predictions[\"error\"].mean()]\n",
    "            #rmse_mean[f\"{scv_method}_std\"] = rmse_mean[f\"{scv_method}_std\"] +[predictions[\"error\"].std()] if rmse_mean.get(f\"{scv_method}_std\") else [predictions[\"error\"].std()]\n",
    "    _make_folders(os.path.join(env_var[\"root_path\"], dataset_folder), [\"comparison\"])\n",
    "    df_rmse = pd.DataFrame(rmse_mean)\n",
    "    df_rmse.set_index(\"Method\", inplace=True)\n",
    "\n",
    "    df_rmse.to_csv(os.path.join(env_var[\"root_path\"], dataset_folder, \"comparison\", \"RMSE.csv\"))\n",
    "    df_rmse.rank().to_csv(os.path.join(env_var[\"root_path\"], dataset_folder, \"comparison\", \"Rank.csv\"))\n",
    "    rmse_methods = df_rmse.sub(out_sample[\"mean\"], axis=\"index\")\n",
    "    rmse_methods.to_csv(os.path.join(env_var[\"root_path\"], dataset_folder, \"comparison\", \"RMSE_DIFF.csv\"))\n",
    "    fig = sns.heatmap(rmse_methods)\n",
    "    fig.figure.savefig(os.path.join(env_var[\"root_path\"], dataset_folder, \"comparison\", \"RMSE_DIFF.jpg\"))\n",
    "\n"
   ]
  }
 ],
 "metadata": {
  "interpreter": {
   "hash": "16e306bc925144e33eb7798286ee39e98b4eae36f3b0781ec31a8ce823bfdc1b"
  },
  "kernelspec": {
   "display_name": "Python 3.8.12 64-bit ('graph_based_scv': conda)",
   "language": "python",
   "name": "python3"
  },
  "language_info": {
   "codemirror_mode": {
    "name": "ipython",
    "version": 3
   },
   "file_extension": ".py",
   "mimetype": "text/x-python",
   "name": "python",
   "nbconvert_exporter": "python",
   "pygments_lexer": "ipython3",
   "version": "3.8.12"
  },
  "orig_nbformat": 4
 },
 "nbformat": 4,
 "nbformat_minor": 2
}
