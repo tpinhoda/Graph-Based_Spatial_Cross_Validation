{
 "cells": [
  {
   "cell_type": "code",
   "execution_count": 1,
   "metadata": {},
   "outputs": [],
   "source": [
    "import contextlib\n",
    "import geopandas as gpd\n",
    "import pandas as pd\n",
    "import matplotlib.pyplot as plt\n",
    "import os\n",
    "import json\n",
    "from tqdm import tqdm\n",
    "from src import utils"
   ]
  },
  {
   "cell_type": "code",
   "execution_count": 2,
   "metadata": {},
   "outputs": [],
   "source": [
    "def _mkdir(root_path, folder_name):\n",
    "    \"\"\"Creates a folder at current path\"\"\"\n",
    "    # logger = logging.getLogger(self.logger_name)\n",
    "    cur_dir = os.path.join(root_path, folder_name)\n",
    "    with contextlib.suppress(FileExistsError):\n",
    "        os.mkdir(cur_dir)\n",
    "        # logger.info(f\"Entering folder: /{folder_name}\")\n",
    "def _make_folders(root_path, folders):\n",
    "        \"\"\"Make the initial folders\"\"\"\n",
    "        for folder in folders:\n",
    "            _mkdir(root_path, folder)\n",
    "            root_path = os.path.join(root_path, folder)\n",
    "        return root_path"
   ]
  },
  {
   "cell_type": "code",
   "execution_count": 3,
   "metadata": {},
   "outputs": [],
   "source": [
    "# Project path\n",
    "project_dir = os.path.abspath('')[:-9]\n",
    "# Load enviromental variables\n",
    "\n",
    "env_var = utils.load_env_variables(project_dir)\n",
    "env_var[\"root_path\"] = \"/exp/tpinho/Datasets\""
   ]
  },
  {
   "cell_type": "code",
   "execution_count": 4,
   "metadata": {},
   "outputs": [],
   "source": [
    "datasets_single = [\"Brazil_Election_2018\"]\n",
    "few_methods = [\"CrossValidation\", \"Optimistic\", \"TraditionalSCV\"]\n",
    "\n",
    "datasets = [\"Brazil_Election_2018_Sampled_dec0.3_prob0.1\",      \n",
    "            \"Brazil_Election_2018_Sampled_dec0.3_prob0.2\",\n",
    "            \"Brazil_Election_2018_Sampled_dec0.3_prob0.3\",\n",
    "            \"Brazil_Election_2018_Sampled_dec0.3_prob0.4\",\n",
    "            \"Brazil_Election_2018_Sampled_dec0.3_prob0.5\",\n",
    "            \"Brazil_Election_2018_Sampled_dec0.3_prob0.6\",\n",
    "            \"Brazil_Election_2018_Sampled_dec0.3_prob0.7\",\n",
    "            \"Brazil_Election_2018_Sampled_dec0.3_prob0.8\",\n",
    "            \"Brazil_Election_2018_Sampled_dec0.3_prob0.9\",\n",
    "            ]\n",
    "\n",
    "scv_methods = [\"CrossValidation\",\n",
    "               \"Optimistic\",\n",
    "               \"RegGBSCV_R_Kappa_0.0\",\n",
    "               \"RegGBSCV_R_Kappa_0.1\",\n",
    "               \"RegGBSCV_R_Kappa_0.2\",\n",
    "               \"RegGBSCV_R_Kappa_0.3\",  \n",
    "               \"RegGBSCV_R_Kappa_0.4\",\n",
    "               \"RegGBSCV_R_Kappa_0.5\",\n",
    "               \"RegGBSCV_R_Kappa_0.6\",\n",
    "               \"RegGBSCV_R_Kappa_0.7\", \n",
    "               \"RegGBSCV_R_Kappa_0.8\",\n",
    "               \"RegGBSCV_R_Kappa_0.9\",\n",
    "               \"RegGBSCV_R_Kappa_1.0\",\n",
    "               \"TraditionalSCV\"]"
   ]
  },
  {
   "cell_type": "code",
   "execution_count": 5,
   "metadata": {},
   "outputs": [
    {
     "name": "stdout",
     "output_type": "stream",
     "text": [
      "Dataset: Brazil_Election_2018_Sampled_dec0.3_prob0.1\n"
     ]
    },
    {
     "name": "stderr",
     "output_type": "stream",
     "text": [
      "100%|██████████| 10/10 [00:08<00:00,  1.13it/s]\n"
     ]
    },
    {
     "name": "stdout",
     "output_type": "stream",
     "text": [
      "Dataset: Brazil_Election_2018_Sampled_dec0.3_prob0.2\n"
     ]
    },
    {
     "name": "stderr",
     "output_type": "stream",
     "text": [
      "  0%|          | 0/10 [00:00<?, ?it/s]\n"
     ]
    },
    {
     "ename": "FileNotFoundError",
     "evalue": "[Errno 2] No such file or directory: '/exp/tpinho/Datasets/Brazil_Election_2018_Sampled_dec0.3_prob0.2/results/RegGBSCV_R_Kappa_0.7/predictions/CFS/KNN'",
     "output_type": "error",
     "traceback": [
      "\u001b[0;31m---------------------------------------------------------------------------\u001b[0m",
      "\u001b[0;31mFileNotFoundError\u001b[0m                         Traceback (most recent call last)",
      "\u001b[1;32m/home/tpinho/IJGIS/Graph-Based_Spatial_Cross_Validation/notebooks/8_Calculate_RMSE.ipynb Cell 5'\u001b[0m in \u001b[0;36m<cell line: 5>\u001b[0;34m()\u001b[0m\n\u001b[1;32m     <a href='vscode-notebook-cell://ssh-remote%2Blabic04/home/tpinho/IJGIS/Graph-Based_Spatial_Cross_Validation/notebooks/8_Calculate_RMSE.ipynb#ch0000004vscode-remote?line=13'>14</a>\u001b[0m \u001b[39mfor\u001b[39;00m scv_method \u001b[39min\u001b[39;00m scv_methods:\n\u001b[1;32m     <a href='vscode-notebook-cell://ssh-remote%2Blabic04/home/tpinho/IJGIS/Graph-Based_Spatial_Cross_Validation/notebooks/8_Calculate_RMSE.ipynb#ch0000004vscode-remote?line=14'>15</a>\u001b[0m     predictions_path \u001b[39m=\u001b[39m os\u001b[39m.\u001b[39mpath\u001b[39m.\u001b[39mjoin(dataset_path, \u001b[39m\"\u001b[39m\u001b[39mresults\u001b[39m\u001b[39m\"\u001b[39m, scv_method, \u001b[39m\"\u001b[39m\u001b[39mpredictions\u001b[39m\u001b[39m\"\u001b[39m, fs_method, \u001b[39mf\u001b[39m\u001b[39m\"\u001b[39m\u001b[39m{\u001b[39;00mml_method\u001b[39m}\u001b[39;00m\u001b[39m\"\u001b[39m)\n\u001b[0;32m---> <a href='vscode-notebook-cell://ssh-remote%2Blabic04/home/tpinho/IJGIS/Graph-Based_Spatial_Cross_Validation/notebooks/8_Calculate_RMSE.ipynb#ch0000004vscode-remote?line=15'>16</a>\u001b[0m     predi_files \u001b[39m=\u001b[39m [os\u001b[39m.\u001b[39mpath\u001b[39m.\u001b[39mjoin(predictions_path,c) \u001b[39mfor\u001b[39;00m c \u001b[39min\u001b[39;00m os\u001b[39m.\u001b[39;49mlistdir(predictions_path)]\n\u001b[1;32m     <a href='vscode-notebook-cell://ssh-remote%2Blabic04/home/tpinho/IJGIS/Graph-Based_Spatial_Cross_Validation/notebooks/8_Calculate_RMSE.ipynb#ch0000004vscode-remote?line=16'>17</a>\u001b[0m     predictions \u001b[39m=\u001b[39m pd\u001b[39m.\u001b[39mDataFrame()\n\u001b[1;32m     <a href='vscode-notebook-cell://ssh-remote%2Blabic04/home/tpinho/IJGIS/Graph-Based_Spatial_Cross_Validation/notebooks/8_Calculate_RMSE.ipynb#ch0000004vscode-remote?line=17'>18</a>\u001b[0m     \u001b[39mfor\u001b[39;00m file \u001b[39min\u001b[39;00m predi_files:\n",
      "\u001b[0;31mFileNotFoundError\u001b[0m: [Errno 2] No such file or directory: '/exp/tpinho/Datasets/Brazil_Election_2018_Sampled_dec0.3_prob0.2/results/RegGBSCV_R_Kappa_0.7/predictions/CFS/KNN'"
     ]
    }
   ],
   "source": [
    "fs_method = \"CFS\"\n",
    "ml_methods = [\"KNN\", \"OLS\", \"Lasso\", \"Ridge\", \"ElasticNet\", \"DT\", \"LGBM\", \"RF\", \"MLP\", \"SVM\"]\n",
    "data_id = \"INDEX\"\n",
    "\n",
    "for dataset_folder in datasets:\n",
    "    rmse_mean = {}\n",
    "    print(f\"Dataset: {dataset_folder}\")\n",
    "    dataset_path = os.path.join(env_var[\"root_path\"], dataset_folder)\n",
    "    #scv_methods = list(os.listdir(os.path.join(dataset_path, \"results\")))\n",
    "    #rmse_mean[\"Dataset\"] = rmse_mean[\"Dataset\"] + [dataset_folder] if rmse_mean.get(\"Dataset\") else [dataset_folder]\n",
    "    #scv_methods = [\"RegGBSCV_R_Kappa_2.0\"]\n",
    "    for ml_method in tqdm(ml_methods):\n",
    "        rmse_mean[\"Method\"] = rmse_mean[\"Method\"] + [ml_method] if rmse_mean.get(\"Method\") else [ml_method]\n",
    "        for scv_method in scv_methods:\n",
    "            predictions_path = os.path.join(dataset_path, \"results\", scv_method, \"predictions\", fs_method, f\"{ml_method}\")\n",
    "            predi_files = [os.path.join(predictions_path,c) for c in os.listdir(predictions_path)]\n",
    "            predictions = pd.DataFrame()\n",
    "            for file in predi_files:\n",
    "                pred_fold = pd.read_csv(file)\n",
    "                predictions = pd.concat([predictions, pred_fold])\n",
    "            predictions[\"fold\"] = predictions[data_id].apply(lambda cod: str(cod)[:2])\n",
    "            predictions[\"error\"] = (predictions[\"PREDICTIONS\"] - predictions[\"GROUND_TRUTH\"])**2\n",
    "            predictions = predictions.groupby(by=\"fold\").agg(\"mean\")\n",
    "            rmse_mean[f\"{scv_method}\"] = rmse_mean[f\"{scv_method}\"] +[predictions[\"error\"].mean()] if rmse_mean.get(f\"{scv_method}\") else [predictions[\"error\"].mean()]\n",
    "            #rmse_mean[f\"{scv_method}_std\"] = rmse_mean[f\"{scv_method}_std\"] +[predictions[\"error\"].std()] if rmse_mean.get(f\"{scv_method}_std\") else [predictions[\"error\"].std()]\n",
    "    _make_folders(os.path.join(env_var[\"root_path\"], dataset_folder), [\"comparison\"])\n",
    "    df_rmse = pd.DataFrame(rmse_mean)\n",
    "    df_rmse.set_index(\"Method\", inplace=True)\n",
    "\n",
    "    df_rmse.to_csv(os.path.join(env_var[\"root_path\"], dataset_folder, \"comparison\", \"RMSE.csv\"))\n",
    "    df_rmse.rank().to_csv(os.path.join(env_var[\"root_path\"], dataset_folder, \"comparison\", \"Rank.csv\"))\n",
    "\n",
    "pd.DataFrame(rmse_mean).rank()\n",
    "\n"
   ]
  }
 ],
 "metadata": {
  "interpreter": {
   "hash": "16e306bc925144e33eb7798286ee39e98b4eae36f3b0781ec31a8ce823bfdc1b"
  },
  "kernelspec": {
   "display_name": "Python 3.8.12 64-bit ('graph_based_scv': conda)",
   "language": "python",
   "name": "python3"
  },
  "language_info": {
   "codemirror_mode": {
    "name": "ipython",
    "version": 3
   },
   "file_extension": ".py",
   "mimetype": "text/x-python",
   "name": "python",
   "nbconvert_exporter": "python",
   "pygments_lexer": "ipython3",
   "version": "3.9.12"
  },
  "orig_nbformat": 4
 },
 "nbformat": 4,
 "nbformat_minor": 2
}
