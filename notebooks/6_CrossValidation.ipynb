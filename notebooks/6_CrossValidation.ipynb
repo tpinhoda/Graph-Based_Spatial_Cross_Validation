{
 "cells": [
  {
   "cell_type": "markdown",
   "metadata": {},
   "source": [
    "# Execute the Graph-Based Spatial Cross-Validation experiments from ICMLA21 Paper"
   ]
  },
  {
   "cell_type": "markdown",
   "metadata": {},
   "source": [
    "## 1 - Initialize libraries"
   ]
  },
  {
   "cell_type": "code",
   "execution_count": 13,
   "metadata": {},
   "outputs": [],
   "source": [
    "import os\n",
    "import pandas as pd\n",
    "from weka.core import jvm\n",
    "from src import utils\n",
    "from src.pipeline import Pipeline\n",
    "from src.visualization.performance import VizMetrics\n",
    "from src.visualization.dependence import VizDependence"
   ]
  },
  {
   "cell_type": "markdown",
   "metadata": {},
   "source": [
    "## 2 - Initialize loggers"
   ]
  },
  {
   "cell_type": "code",
   "execution_count": 14,
   "metadata": {},
   "outputs": [],
   "source": [
    "utils.initialize_coloredlog()\n",
    "utils.initialize_rich_tracerback()\n",
    "utils.initialize_logging()"
   ]
  },
  {
   "cell_type": "markdown",
   "metadata": {},
   "source": [
    "## 3 - Initialize working path and enviromental variables"
   ]
  },
  {
   "cell_type": "code",
   "execution_count": 15,
   "metadata": {},
   "outputs": [],
   "source": [
    "# Project path\n",
    "project_dir = os.path.abspath('')[:-5]\n",
    "# Load enviromental variables\n",
    "env_var = utils.load_env_variables(project_dir)"
   ]
  },
  {
   "cell_type": "markdown",
   "metadata": {},
   "source": [
    "## 4 - Set pipeline switchers, the default is to set True to all processes"
   ]
  },
  {
   "cell_type": "code",
   "execution_count": 16,
   "metadata": {},
   "outputs": [],
   "source": [
    "# Set pipeline switchers\n",
    "switchers = {\n",
    "    \"scv\": False,\n",
    "    \"fs\": True,\n",
    "    \"train\": False,\n",
    "    \"predict\": False,\n",
    "    \"evaluate\": False,\n",
    "}"
   ]
  },
  {
   "cell_type": "markdown",
   "metadata": {},
   "source": [
    "# 5 - List all datasets"
   ]
  },
  {
   "cell_type": "code",
   "execution_count": 17,
   "metadata": {},
   "outputs": [],
   "source": [
    "brazil_removed_datasets = [\"Brazil_Election_2018_Sampled_dec0.3_prob0.1_removed_north\",\n",
    "                   \"Brazil_Election_2018_Sampled_dec0.3_prob0.1_removed_northeast\",\n",
    "                   \"Brazil_Election_2018_Sampled_dec0.3_prob0.1_removed_south\",\n",
    "                   \"Brazil_Election_2018_Sampled_dec0.3_prob0.1_removed_southeast\",\n",
    "                   \"Brazil_Election_2018_Sampled_dec0.3_prob0.1_removed_centerwest\"]\n",
    " \n",
    "brazil_datasets = [\"Brazil_Election_2018_Sampled_dec0.3_prob0.1\",\n",
    "                   \"Brazil_Election_2018_Sampled_dec0.3_prob0.2\",\n",
    "                   \"Brazil_Election_2018_Sampled_dec0.3_prob0.3\",\n",
    "                   \"Brazil_Election_2018_Sampled_dec0.3_prob0.4\",\n",
    "                   \"Brazil_Election_2018_Sampled_dec0.3_prob0.5\",\n",
    "                   \"Brazil_Election_2018_Sampled_dec0.3_prob0.6\",\n",
    "                   \"Brazil_Election_2018_Sampled_dec0.3_prob0.7\",\n",
    "                   \"Brazil_Election_2018_Sampled_dec0.3_prob0.8\",\n",
    "                   \"Brazil_Election_2018_Sampled_dec0.3_prob0.9\",\n",
    "                  ]\n",
    "\n",
    "us_corn_datasets = [\"US_Corn_Yield_2016_Removed_ALABAMA\",\n",
    "                    \"US_Corn_Yield_2016_Removed_ARKANSAS\",\n",
    "                    \"US_Corn_Yield_2016_Removed_CALIFORNIA\",\n",
    "                    \"US_Corn_Yield_2016_Removed_COLORADO\",\n",
    "                    \"US_Corn_Yield_2016_Removed_DELAWARE\",\n",
    "                    \"US_Corn_Yield_2016_Removed_GEORGIA\",\n",
    "                    \"US_Corn_Yield_2016_Removed_IDAHO\",\n",
    "                    \"US_Corn_Yield_2016_Removed_ILLINOIS\",\n",
    "                    \"US_Corn_Yield_2016_Removed_INDIANA\",\n",
    "                    \"US_Corn_Yield_2016_Removed_IOWA\",\n",
    "                    \"US_Corn_Yield_2016_Removed_KANSAS\",\n",
    "                    \"US_Corn_Yield_2016_Removed_KENTUCKY\",\n",
    "                    \"US_Corn_Yield_2016_Removed_LOUISIANA\",\n",
    "                    \"US_Corn_Yield_2016_Removed_MARYLAND\",\n",
    "                    \"US_Corn_Yield_2016_Removed_MICHIGAN\",\n",
    "                    \"US_Corn_Yield_2016_Removed_MINNESOTA\",\n",
    "                    \"US_Corn_Yield_2016_Removed_MISSISSIPPI\",\n",
    "                    \"US_Corn_Yield_2016_Removed_MISSOURI\",\n",
    "                    \"US_Corn_Yield_2016_Removed_MONTANA\",\n",
    "                    \"US_Corn_Yield_2016_Removed_NEBRASKA\",\n",
    "                    \"US_Corn_Yield_2016_Removed_NEW JERSEY\",\n",
    "                    \"US_Corn_Yield_2016_Removed_NEW MEXICO\",\n",
    "                    \"US_Corn_Yield_2016_Removed_NEW YORK\",\n",
    "                    \"US_Corn_Yield_2016_Removed_NORTH CAROLINA\",\n",
    "                    \"US_Corn_Yield_2016_Removed_NORTH DAKOTA\",\n",
    "                    \"US_Corn_Yield_2016_Removed_OHIO\",\n",
    "                    \"US_Corn_Yield_2016_Removed_OKLAHOMA\",\n",
    "                    \"US_Corn_Yield_2016_Removed_PENNSYLVANIA\",\n",
    "                    \"US_Corn_Yield_2016_Removed_SOUTH CAROLINA\",\n",
    "                    \"US_Corn_Yield_2016_Removed_SOUTH DAKOTA\",\n",
    "                    \"US_Corn_Yield_2016_Removed_TENNESSEE\",\n",
    "                    \"US_Corn_Yield_2016_Removed_TEXAS\",\n",
    "                    \"US_Corn_Yield_2016_Removed_VIRGINIA\",\n",
    "                    \"US_Corn_Yield_2016_Removed_WEST VIRGINIA\",\n",
    "                    \"US_Corn_Yield_2016_Removed_WISCONSIN\",\n",
    "                    \"US_Corn_Yield_2016_Removed_WYOMING\"]\n",
    "\n",
    "jsut_for_test = [\"Brazil_Election_2018\"]"
   ]
  },
  {
   "cell_type": "markdown",
   "metadata": {},
   "source": [
    "## 6 - Runs the pipeline for Optmistic approach\n",
    "OBS: The results and files generated from the pipeline execution will be in the created folder Results in the data directory"
   ]
  },
  {
   "cell_type": "code",
   "execution_count": 18,
   "metadata": {},
   "outputs": [
    {
     "name": "stdout",
     "output_type": "stream",
     "text": [
      "Running the Cross-Valdiation approach for dataset: US_Corn_Yield_2016_Removed_ALABAMA ML Method = KNN\n"
     ]
    },
    {
     "name": "stderr",
     "output_type": "stream",
     "text": [
      "Selecting Features: 100%|██████████| 10/10 [00:00<00:00, 172.01it/s]\n"
     ]
    },
    {
     "name": "stdout",
     "output_type": "stream",
     "text": [
      "Running the Cross-Valdiation approach for dataset: US_Corn_Yield_2016_Removed_ARKANSAS ML Method = KNN\n"
     ]
    },
    {
     "name": "stderr",
     "output_type": "stream",
     "text": [
      "Selecting Features: 100%|██████████| 10/10 [00:00<00:00, 111.97it/s]\n"
     ]
    },
    {
     "name": "stdout",
     "output_type": "stream",
     "text": [
      "Running the Cross-Valdiation approach for dataset: US_Corn_Yield_2016_Removed_CALIFORNIA ML Method = KNN\n"
     ]
    },
    {
     "name": "stderr",
     "output_type": "stream",
     "text": [
      "Selecting Features: 100%|██████████| 10/10 [00:00<00:00, 142.46it/s]\n"
     ]
    },
    {
     "name": "stdout",
     "output_type": "stream",
     "text": [
      "Running the Cross-Valdiation approach for dataset: US_Corn_Yield_2016_Removed_COLORADO ML Method = KNN\n"
     ]
    },
    {
     "name": "stderr",
     "output_type": "stream",
     "text": [
      "Selecting Features: 100%|██████████| 10/10 [00:00<00:00, 147.29it/s]\n"
     ]
    },
    {
     "name": "stdout",
     "output_type": "stream",
     "text": [
      "Running the Cross-Valdiation approach for dataset: US_Corn_Yield_2016_Removed_DELAWARE ML Method = KNN\n"
     ]
    },
    {
     "name": "stderr",
     "output_type": "stream",
     "text": [
      "Selecting Features: 100%|██████████| 10/10 [00:00<00:00, 170.30it/s]\n"
     ]
    },
    {
     "name": "stdout",
     "output_type": "stream",
     "text": [
      "Running the Cross-Valdiation approach for dataset: US_Corn_Yield_2016_Removed_GEORGIA ML Method = KNN\n"
     ]
    },
    {
     "name": "stderr",
     "output_type": "stream",
     "text": [
      "Selecting Features: 100%|██████████| 10/10 [00:00<00:00, 165.55it/s]\n"
     ]
    },
    {
     "name": "stdout",
     "output_type": "stream",
     "text": [
      "Running the Cross-Valdiation approach for dataset: US_Corn_Yield_2016_Removed_IDAHO ML Method = KNN\n"
     ]
    },
    {
     "name": "stderr",
     "output_type": "stream",
     "text": [
      "Selecting Features: 100%|██████████| 10/10 [00:00<00:00, 141.41it/s]\n"
     ]
    },
    {
     "name": "stdout",
     "output_type": "stream",
     "text": [
      "Running the Cross-Valdiation approach for dataset: US_Corn_Yield_2016_Removed_ILLINOIS ML Method = KNN\n"
     ]
    },
    {
     "name": "stderr",
     "output_type": "stream",
     "text": [
      "Selecting Features: 100%|██████████| 10/10 [00:00<00:00, 161.84it/s]\n"
     ]
    },
    {
     "name": "stdout",
     "output_type": "stream",
     "text": [
      "Running the Cross-Valdiation approach for dataset: US_Corn_Yield_2016_Removed_INDIANA ML Method = KNN\n"
     ]
    },
    {
     "name": "stderr",
     "output_type": "stream",
     "text": [
      "Selecting Features: 100%|██████████| 10/10 [00:00<00:00, 165.86it/s]\n"
     ]
    },
    {
     "name": "stdout",
     "output_type": "stream",
     "text": [
      "Running the Cross-Valdiation approach for dataset: US_Corn_Yield_2016_Removed_IOWA ML Method = KNN\n"
     ]
    },
    {
     "name": "stderr",
     "output_type": "stream",
     "text": [
      "Selecting Features: 100%|██████████| 10/10 [00:00<00:00, 160.46it/s]\n"
     ]
    },
    {
     "name": "stdout",
     "output_type": "stream",
     "text": [
      "Running the Cross-Valdiation approach for dataset: US_Corn_Yield_2016_Removed_KANSAS ML Method = KNN\n"
     ]
    },
    {
     "name": "stderr",
     "output_type": "stream",
     "text": [
      "Selecting Features: 100%|██████████| 10/10 [00:00<00:00, 139.49it/s]\n"
     ]
    },
    {
     "name": "stdout",
     "output_type": "stream",
     "text": [
      "Running the Cross-Valdiation approach for dataset: US_Corn_Yield_2016_Removed_KENTUCKY ML Method = KNN\n"
     ]
    },
    {
     "name": "stderr",
     "output_type": "stream",
     "text": [
      "Selecting Features: 100%|██████████| 10/10 [00:00<00:00, 140.54it/s]\n"
     ]
    },
    {
     "name": "stdout",
     "output_type": "stream",
     "text": [
      "Running the Cross-Valdiation approach for dataset: US_Corn_Yield_2016_Removed_LOUISIANA ML Method = KNN\n"
     ]
    },
    {
     "name": "stderr",
     "output_type": "stream",
     "text": [
      "Selecting Features: 100%|██████████| 10/10 [00:00<00:00, 141.65it/s]\n"
     ]
    },
    {
     "name": "stdout",
     "output_type": "stream",
     "text": [
      "Running the Cross-Valdiation approach for dataset: US_Corn_Yield_2016_Removed_MARYLAND ML Method = KNN\n"
     ]
    },
    {
     "name": "stderr",
     "output_type": "stream",
     "text": [
      "Selecting Features: 100%|██████████| 10/10 [00:00<00:00, 142.24it/s]\n"
     ]
    },
    {
     "name": "stdout",
     "output_type": "stream",
     "text": [
      "Running the Cross-Valdiation approach for dataset: US_Corn_Yield_2016_Removed_MICHIGAN ML Method = KNN\n"
     ]
    },
    {
     "name": "stderr",
     "output_type": "stream",
     "text": [
      "Selecting Features: 100%|██████████| 10/10 [00:00<00:00, 135.94it/s]\n"
     ]
    },
    {
     "name": "stdout",
     "output_type": "stream",
     "text": [
      "Running the Cross-Valdiation approach for dataset: US_Corn_Yield_2016_Removed_MINNESOTA ML Method = KNN\n"
     ]
    },
    {
     "name": "stderr",
     "output_type": "stream",
     "text": [
      "Selecting Features: 100%|██████████| 10/10 [00:00<00:00, 143.31it/s]\n"
     ]
    },
    {
     "name": "stdout",
     "output_type": "stream",
     "text": [
      "Running the Cross-Valdiation approach for dataset: US_Corn_Yield_2016_Removed_MISSISSIPPI ML Method = KNN\n"
     ]
    },
    {
     "name": "stderr",
     "output_type": "stream",
     "text": [
      "Selecting Features: 100%|██████████| 10/10 [00:00<00:00, 145.72it/s]\n"
     ]
    },
    {
     "name": "stdout",
     "output_type": "stream",
     "text": [
      "Running the Cross-Valdiation approach for dataset: US_Corn_Yield_2016_Removed_MISSOURI ML Method = KNN\n"
     ]
    },
    {
     "name": "stderr",
     "output_type": "stream",
     "text": [
      "Selecting Features: 100%|██████████| 10/10 [00:00<00:00, 136.62it/s]\n"
     ]
    },
    {
     "name": "stdout",
     "output_type": "stream",
     "text": [
      "Running the Cross-Valdiation approach for dataset: US_Corn_Yield_2016_Removed_MONTANA ML Method = KNN\n"
     ]
    },
    {
     "name": "stderr",
     "output_type": "stream",
     "text": [
      "Selecting Features: 100%|██████████| 10/10 [00:00<00:00, 152.75it/s]\n"
     ]
    },
    {
     "name": "stdout",
     "output_type": "stream",
     "text": [
      "Running the Cross-Valdiation approach for dataset: US_Corn_Yield_2016_Removed_NEBRASKA ML Method = KNN\n"
     ]
    },
    {
     "name": "stderr",
     "output_type": "stream",
     "text": [
      "Selecting Features: 100%|██████████| 10/10 [00:00<00:00, 137.82it/s]\n"
     ]
    },
    {
     "name": "stdout",
     "output_type": "stream",
     "text": [
      "Running the Cross-Valdiation approach for dataset: US_Corn_Yield_2016_Removed_NEW JERSEY ML Method = KNN\n"
     ]
    },
    {
     "name": "stderr",
     "output_type": "stream",
     "text": [
      "Selecting Features: 100%|██████████| 10/10 [00:00<00:00, 159.45it/s]\n"
     ]
    },
    {
     "name": "stdout",
     "output_type": "stream",
     "text": [
      "Running the Cross-Valdiation approach for dataset: US_Corn_Yield_2016_Removed_NEW MEXICO ML Method = KNN\n"
     ]
    },
    {
     "name": "stderr",
     "output_type": "stream",
     "text": [
      "Selecting Features: 100%|██████████| 10/10 [00:00<00:00, 185.08it/s]\n"
     ]
    },
    {
     "name": "stdout",
     "output_type": "stream",
     "text": [
      "Running the Cross-Valdiation approach for dataset: US_Corn_Yield_2016_Removed_NEW YORK ML Method = KNN\n"
     ]
    },
    {
     "name": "stderr",
     "output_type": "stream",
     "text": [
      "Selecting Features: 100%|██████████| 10/10 [00:00<00:00, 147.96it/s]\n"
     ]
    },
    {
     "name": "stdout",
     "output_type": "stream",
     "text": [
      "Running the Cross-Valdiation approach for dataset: US_Corn_Yield_2016_Removed_NORTH CAROLINA ML Method = KNN\n"
     ]
    },
    {
     "name": "stderr",
     "output_type": "stream",
     "text": [
      "Selecting Features: 100%|██████████| 10/10 [00:00<00:00, 160.00it/s]\n"
     ]
    },
    {
     "name": "stdout",
     "output_type": "stream",
     "text": [
      "Running the Cross-Valdiation approach for dataset: US_Corn_Yield_2016_Removed_NORTH DAKOTA ML Method = KNN\n"
     ]
    },
    {
     "name": "stderr",
     "output_type": "stream",
     "text": [
      "Selecting Features: 100%|██████████| 10/10 [00:00<00:00, 177.01it/s]\n"
     ]
    },
    {
     "name": "stdout",
     "output_type": "stream",
     "text": [
      "Running the Cross-Valdiation approach for dataset: US_Corn_Yield_2016_Removed_OHIO ML Method = KNN\n"
     ]
    },
    {
     "name": "stderr",
     "output_type": "stream",
     "text": [
      "Selecting Features: 100%|██████████| 10/10 [00:00<00:00, 128.47it/s]\n"
     ]
    },
    {
     "name": "stdout",
     "output_type": "stream",
     "text": [
      "Running the Cross-Valdiation approach for dataset: US_Corn_Yield_2016_Removed_OKLAHOMA ML Method = KNN\n"
     ]
    },
    {
     "name": "stderr",
     "output_type": "stream",
     "text": [
      "Selecting Features: 100%|██████████| 10/10 [00:00<00:00, 129.34it/s]\n"
     ]
    },
    {
     "name": "stdout",
     "output_type": "stream",
     "text": [
      "Running the Cross-Valdiation approach for dataset: US_Corn_Yield_2016_Removed_PENNSYLVANIA ML Method = KNN\n"
     ]
    },
    {
     "name": "stderr",
     "output_type": "stream",
     "text": [
      "Selecting Features: 100%|██████████| 10/10 [00:00<00:00, 146.14it/s]\n"
     ]
    },
    {
     "name": "stdout",
     "output_type": "stream",
     "text": [
      "Running the Cross-Valdiation approach for dataset: US_Corn_Yield_2016_Removed_SOUTH CAROLINA ML Method = KNN\n"
     ]
    },
    {
     "name": "stderr",
     "output_type": "stream",
     "text": [
      "Selecting Features: 100%|██████████| 10/10 [00:00<00:00, 136.22it/s]\n"
     ]
    },
    {
     "name": "stdout",
     "output_type": "stream",
     "text": [
      "Running the Cross-Valdiation approach for dataset: US_Corn_Yield_2016_Removed_SOUTH DAKOTA ML Method = KNN\n"
     ]
    },
    {
     "name": "stderr",
     "output_type": "stream",
     "text": [
      "Selecting Features: 100%|██████████| 10/10 [00:00<00:00, 143.13it/s]\n"
     ]
    },
    {
     "name": "stdout",
     "output_type": "stream",
     "text": [
      "Running the Cross-Valdiation approach for dataset: US_Corn_Yield_2016_Removed_TENNESSEE ML Method = KNN\n"
     ]
    },
    {
     "name": "stderr",
     "output_type": "stream",
     "text": [
      "Selecting Features: 100%|██████████| 10/10 [00:00<00:00, 140.46it/s]\n"
     ]
    },
    {
     "name": "stdout",
     "output_type": "stream",
     "text": [
      "Running the Cross-Valdiation approach for dataset: US_Corn_Yield_2016_Removed_TEXAS ML Method = KNN\n"
     ]
    },
    {
     "name": "stderr",
     "output_type": "stream",
     "text": [
      "Selecting Features: 100%|██████████| 10/10 [00:00<00:00, 141.10it/s]\n"
     ]
    },
    {
     "name": "stdout",
     "output_type": "stream",
     "text": [
      "Running the Cross-Valdiation approach for dataset: US_Corn_Yield_2016_Removed_VIRGINIA ML Method = KNN\n"
     ]
    },
    {
     "name": "stderr",
     "output_type": "stream",
     "text": [
      "Selecting Features: 100%|██████████| 10/10 [00:00<00:00, 133.40it/s]\n"
     ]
    },
    {
     "name": "stdout",
     "output_type": "stream",
     "text": [
      "Running the Cross-Valdiation approach for dataset: US_Corn_Yield_2016_Removed_WEST VIRGINIA ML Method = KNN\n"
     ]
    },
    {
     "name": "stderr",
     "output_type": "stream",
     "text": [
      "Selecting Features: 100%|██████████| 10/10 [00:00<00:00, 142.31it/s]\n"
     ]
    },
    {
     "name": "stdout",
     "output_type": "stream",
     "text": [
      "Running the Cross-Valdiation approach for dataset: US_Corn_Yield_2016_Removed_WISCONSIN ML Method = KNN\n"
     ]
    },
    {
     "name": "stderr",
     "output_type": "stream",
     "text": [
      "Selecting Features: 100%|██████████| 10/10 [00:00<00:00, 142.32it/s]\n"
     ]
    },
    {
     "name": "stdout",
     "output_type": "stream",
     "text": [
      "Running the Cross-Valdiation approach for dataset: US_Corn_Yield_2016_Removed_WYOMING ML Method = KNN\n"
     ]
    },
    {
     "name": "stderr",
     "output_type": "stream",
     "text": [
      "Selecting Features: 100%|██████████| 10/10 [00:00<00:00, 132.68it/s]\n"
     ]
    }
   ],
   "source": [
    "\n",
    "fs_method = \"All\"\n",
    "#ml_methods  = [\"KNN\", \"OLS\", \"Lasso\", \"Ridge\", \"ElasticNet\", \"DT\", \"LGBM\", \"RF\", \"MLP\", \"SVM\"]\n",
    "ml_methods = [\"KNN\"]\n",
    "dataset_list = us_corn_datasets\n",
    "\n",
    "if fs_method == \"CFS\" and switchers[\"fs\"]:\n",
    "    jvm.start()\n",
    "\n",
    "env_var[\"root_path\"] = \"/exp/tpinho/Datasets/US_Corn_Yield_2016\"\n",
    "for dataset in dataset_list:\n",
    "    # Load the data\n",
    "    changing_switchers = switchers\n",
    "    data_path = os.path.join(env_var[\"root_path\"], dataset, \"data.csv\")\n",
    "    data = pd.read_csv(data_path, index_col=\"INDEX\", low_memory=False)\n",
    "    try:\n",
    "        data.drop(columns=[\"[GEO]_LATITUDE\", \"[GEO]_LONGITUDE\"], inplace=True)\n",
    "    except KeyError:\n",
    "        pass\n",
    "    for ml_method in ml_methods:\n",
    "        CrossValidation= Pipeline(\n",
    "            root_path=os.path.join(env_var[\"root_path\"], dataset),\n",
    "            data=data,\n",
    "            index_col=\"INDEX\",\n",
    "            fold_col=\"INDEX_FOLDS\",\n",
    "            target_col=\"TARGET\",\n",
    "            scv_method=\"CrossValidation\",\n",
    "            fs_method=fs_method,\n",
    "            ml_method=ml_method,\n",
    "            switchers=changing_switchers\n",
    "        )\n",
    "        print(f\"Running the Cross-Valdiation approach for dataset: {dataset} ML Method = {ml_method}\")\n",
    "        CrossValidation.run()\n",
    "        #changing_switchers[\"scv\"] = False\n",
    "        #changing_switchers[\"fs\"] = False\n",
    "if fs_method == \"CFS\" and switchers[\"fs\"]:\n",
    "    jvm.stop()"
   ]
  }
 ],
 "metadata": {
  "interpreter": {
   "hash": "16e306bc925144e33eb7798286ee39e98b4eae36f3b0781ec31a8ce823bfdc1b"
  },
  "kernelspec": {
   "display_name": "Python 3 (ipykernel)",
   "language": "python",
   "name": "python3"
  },
  "language_info": {
   "codemirror_mode": {
    "name": "ipython",
    "version": 3
   },
   "file_extension": ".py",
   "mimetype": "text/x-python",
   "name": "python",
   "nbconvert_exporter": "python",
   "pygments_lexer": "ipython3",
   "version": "3.9.12"
  }
 },
 "nbformat": 4,
 "nbformat_minor": 4
}
