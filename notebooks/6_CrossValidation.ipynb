{
 "cells": [
  {
   "cell_type": "markdown",
   "metadata": {},
   "source": [
    "# Execute the Graph-Based Spatial Cross-Validation experiments from ICMLA21 Paper"
   ]
  },
  {
   "cell_type": "markdown",
   "metadata": {},
   "source": [
    "## 1 - Initialize libraries"
   ]
  },
  {
   "cell_type": "code",
   "execution_count": 1,
   "metadata": {},
   "outputs": [
    {
     "name": "stderr",
     "output_type": "stream",
     "text": [
      "/home/tpinho/miniconda3/envs/RegGBSCV/lib/python3.8/site-packages/pysal/explore/segregation/network/network.py:15: UserWarning: You need pandana and urbanaccess to work with segregation's network module\n",
      "You can install them with  `pip install urbanaccess pandana` or `conda install -c udst pandana urbanaccess`\n",
      "  warn(\n"
     ]
    }
   ],
   "source": [
    "import os\n",
    "import pandas as pd\n",
    "from weka.core import jvm\n",
    "from src import utils\n",
    "from src.pipeline import Pipeline\n",
    "from src.visualization.performance import VizMetrics\n",
    "from src.visualization.dependence import VizDependence"
   ]
  },
  {
   "cell_type": "markdown",
   "metadata": {},
   "source": [
    "## 2 - Initialize loggers"
   ]
  },
  {
   "cell_type": "code",
   "execution_count": 2,
   "metadata": {},
   "outputs": [],
   "source": [
    "utils.initialize_coloredlog()\n",
    "utils.initialize_rich_tracerback()\n",
    "utils.initialize_logging()"
   ]
  },
  {
   "cell_type": "markdown",
   "metadata": {},
   "source": [
    "## 3 - Initialize working path and enviromental variables"
   ]
  },
  {
   "cell_type": "code",
   "execution_count": 3,
   "metadata": {},
   "outputs": [],
   "source": [
    "# Project path\n",
    "project_dir = os.path.abspath('')[:-5]\n",
    "# Load enviromental variables\n",
    "env_var = utils.load_env_variables(project_dir)"
   ]
  },
  {
   "cell_type": "markdown",
   "metadata": {},
   "source": [
    "## 4 - Set pipeline switchers, the default is to set True to all processes"
   ]
  },
  {
   "cell_type": "code",
   "execution_count": 4,
   "metadata": {},
   "outputs": [],
   "source": [
    "# Set pipeline switchers\n",
    "switchers = {\n",
    "    \"scv\": True,\n",
    "    \"fs\": False,\n",
    "    \"train\": False,\n",
    "    \"predict\": False,\n",
    "    \"evaluate\": False,\n",
    "}"
   ]
  },
  {
   "cell_type": "markdown",
   "metadata": {},
   "source": [
    "# 5 - List all datasets"
   ]
  },
  {
   "cell_type": "code",
   "execution_count": 5,
   "metadata": {},
   "outputs": [],
   "source": [
    "brazil_removed_datasets = [\"Brazil_Election_2018_Sampled_dec0.3_prob0.1_removed_north\",\n",
    "                   \"Brazil_Election_2018_Sampled_dec0.3_prob0.1_removed_northeast\",\n",
    "                   \"Brazil_Election_2018_Sampled_dec0.3_prob0.1_removed_south\",\n",
    "                   \"Brazil_Election_2018_Sampled_dec0.3_prob0.1_removed_southeast\",\n",
    "                   \"Brazil_Election_2018_Sampled_dec0.3_prob0.1_removed_centerwest\"]\n",
    " \n",
    "brazil_datasets = [\"Brazil_Election_2018_Sampled_dec0.3_prob0.1\",\n",
    "                   \"Brazil_Election_2018_Sampled_dec0.3_prob0.2\",\n",
    "                   \"Brazil_Election_2018_Sampled_dec0.3_prob0.3\",\n",
    "                   \"Brazil_Election_2018_Sampled_dec0.3_prob0.4\",\n",
    "                   \"Brazil_Election_2018_Sampled_dec0.3_prob0.5\",\n",
    "                   \"Brazil_Election_2018_Sampled_dec0.3_prob0.6\",\n",
    "                   \"Brazil_Election_2018_Sampled_dec0.3_prob0.7\",\n",
    "                   \"Brazil_Election_2018_Sampled_dec0.3_prob0.8\",\n",
    "                   \"Brazil_Election_2018_Sampled_dec0.3_prob0.9\",\n",
    "                  ]\n",
    "brazil_geoeconomical_regions = [\"Brazil_Election_2018_removed_AMAZONIA\",\n",
    "                                \"Brazil_Election_2018_removed_NORDESTE\",\n",
    "                                \"Brazil_Election_2018_removed_CENTRO_SUL\"]\n",
    "us_datasets = [\"US_Corn_Yield_2016\", \"US_Wheat_Yield_2014\"]\n",
    "\n",
    "jsut_for_test = [\"Brazil_Election_2018_Sampled_dec0.3_prob0.2\"]"
   ]
  },
  {
   "cell_type": "markdown",
   "metadata": {},
   "source": [
    "## 6 - Runs the pipeline for Optmistic approach\n",
    "OBS: The results and files generated from the pipeline execution will be in the created folder Results in the data directory"
   ]
  },
  {
   "cell_type": "code",
   "execution_count": 6,
   "metadata": {},
   "outputs": [
    {
     "name": "stdout",
     "output_type": "stream",
     "text": [
      "Running the Cross-Valdiation approach for dataset: Brazil_Election_2018_Sampled_dec0.3_prob0.1 ML Method = KNN\n",
      "Execution time: 3.0849246978759766 seconds\n",
      "Running the Cross-Valdiation approach for dataset: Brazil_Election_2018_Sampled_dec0.3_prob0.2 ML Method = KNN\n",
      "Execution time: 1.6807022094726562 seconds\n",
      "Running the Cross-Valdiation approach for dataset: Brazil_Election_2018_Sampled_dec0.3_prob0.3 ML Method = KNN\n",
      "Execution time: 1.1494312286376953 seconds\n",
      "Running the Cross-Valdiation approach for dataset: Brazil_Election_2018_Sampled_dec0.3_prob0.4 ML Method = KNN\n",
      "Execution time: 0.6052441596984863 seconds\n",
      "Running the Cross-Valdiation approach for dataset: Brazil_Election_2018_Sampled_dec0.3_prob0.5 ML Method = KNN\n",
      "Execution time: 0.4496133327484131 seconds\n",
      "Running the Cross-Valdiation approach for dataset: Brazil_Election_2018_Sampled_dec0.3_prob0.6 ML Method = KNN\n",
      "Execution time: 0.38397741317749023 seconds\n",
      "Running the Cross-Valdiation approach for dataset: Brazil_Election_2018_Sampled_dec0.3_prob0.7 ML Method = KNN\n",
      "Execution time: 0.321399450302124 seconds\n",
      "Running the Cross-Valdiation approach for dataset: Brazil_Election_2018_Sampled_dec0.3_prob0.8 ML Method = KNN\n",
      "Execution time: 0.21513104438781738 seconds\n",
      "Running the Cross-Valdiation approach for dataset: Brazil_Election_2018_Sampled_dec0.3_prob0.9 ML Method = KNN\n",
      "Execution time: 0.21265792846679688 seconds\n"
     ]
    }
   ],
   "source": [
    "\n",
    "fs_method = \"CFS\"\n",
    "#ml_methods  = [\"KNN\", \"OLS\", \"Lasso\", \"Ridge\", \"ElasticNet\", \"DT\", \"LGBM\", \"RF\", \"MLP\", \"SVM\"]\n",
    "ml_methods = [\"KNN\"]\n",
    "dataset_list = brazil_datasets\n",
    "\n",
    "if fs_method == \"CFS\" and switchers[\"fs\"]:\n",
    "    jvm.start()\n",
    "\n",
    "env_var[\"root_path\"] = \"/exp/tpinho/Datasets/\"\n",
    "for dataset in dataset_list:\n",
    "    # Load the data\n",
    "    changing_switchers = switchers\n",
    "    data_path = os.path.join(env_var[\"root_path\"], dataset, \"data.csv\")\n",
    "    data = pd.read_csv(data_path, index_col=\"INDEX\", low_memory=False)\n",
    "    try:\n",
    "        data.drop(columns=[\"[GEO]_LATITUDE\", \"[GEO]_LONGITUDE\"], inplace=True)\n",
    "    except KeyError:\n",
    "        pass\n",
    "    for ml_method in ml_methods:\n",
    "        CrossValidation= Pipeline(\n",
    "            root_path=os.path.join(env_var[\"root_path\"], dataset),\n",
    "            data=data,\n",
    "            index_col=\"INDEX\",\n",
    "            fold_col=\"INDEX_FOLDS\",\n",
    "            target_col=\"TARGET\",\n",
    "            scv_method=\"CrossValidation\",\n",
    "            fs_method=fs_method,\n",
    "            ml_method=ml_method,\n",
    "            switchers=changing_switchers\n",
    "        )\n",
    "        print(f\"Running the Cross-Valdiation approach for dataset: {dataset} ML Method = {ml_method}\")\n",
    "        CrossValidation.run()\n",
    "        #changing_switchers[\"scv\"] = False\n",
    "        #changing_switchers[\"fs\"] = False\n",
    "if fs_method == \"CFS\" and switchers[\"fs\"]:\n",
    "    jvm.stop()"
   ]
  }
 ],
 "metadata": {
  "interpreter": {
   "hash": "16e306bc925144e33eb7798286ee39e98b4eae36f3b0781ec31a8ce823bfdc1b"
  },
  "kernelspec": {
   "display_name": "Python 3 (ipykernel)",
   "language": "python",
   "name": "python3"
  },
  "language_info": {
   "codemirror_mode": {
    "name": "ipython",
    "version": 3
   },
   "file_extension": ".py",
   "mimetype": "text/x-python",
   "name": "python",
   "nbconvert_exporter": "python",
   "pygments_lexer": "ipython3",
   "version": "3.8.12"
  }
 },
 "nbformat": 4,
 "nbformat_minor": 4
}
