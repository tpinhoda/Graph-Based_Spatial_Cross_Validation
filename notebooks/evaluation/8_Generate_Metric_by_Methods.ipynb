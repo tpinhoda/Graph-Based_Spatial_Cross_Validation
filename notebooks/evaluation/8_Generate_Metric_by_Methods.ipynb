{
 "cells": [
  {
   "cell_type": "code",
   "execution_count": 50,
   "metadata": {},
   "outputs": [],
   "source": [
    "import os\n",
    "import pandas as pd\n",
    "from tqdm import tqdm\n",
    "import shutil\n",
    "from src import utils\n",
    "from scipy.stats import spearmanr\n",
    "import math"
   ]
  },
  {
   "cell_type": "code",
   "execution_count": 51,
   "metadata": {},
   "outputs": [],
   "source": [
    "# Project path\n",
    "project_dir = os.path.abspath('')[:-9]\n",
    "# Load enviromental variables\n",
    "\n",
    "env_var = utils.load_env_variables(project_dir)\n",
    "env_var[\"root_path\"] = \"/home/tpinho/IJGIS/Datasets/NSW_Election_2019\""
   ]
  },
  {
   "cell_type": "code",
   "execution_count": 52,
   "metadata": {},
   "outputs": [],
   "source": [
    "dataset = \"Original\"\n",
    "scv_methods = [\"CrossValidation\", \"Optimistic\", \"RegGBSCV_R_Kappa_0.0\", \"TraditionalSCV\"]\n",
    "#scv_methods = [\"RegGBSCV_R_Kappa_0.0\", \"RegGBSCV_R_Kappa_0.1\", \n",
    "#           \"RegGBSCV_R_Kappa_0.2\", \"RegGBSCV_R_Kappa_0.3\", \n",
    "#           \"RegGBSCV_R_Kappa_0.4\", \"RegGBSCV_R_Kappa_0.5\"]\n",
    "fs_method = \"CFS\"\n",
    "metric = \"SP_INV\""
   ]
  },
  {
   "cell_type": "code",
   "execution_count": 53,
   "metadata": {},
   "outputs": [
    {
     "name": "stderr",
     "output_type": "stream",
     "text": [
      "100%|██████████| 4/4 [00:00<00:00, 20.68it/s]\n"
     ]
    }
   ],
   "source": [
    "from pandas import isna\n",
    "\n",
    "\n",
    "path = os.path.join(env_var[\"root_path\"], dataset, \"results\")\n",
    "ml_methods = [\"KNN\", \"OLS\", \"Lasso\", \"Ridge\", \"ElasticNet\", \"DT\", \"LGBM\", \"RF\", \"MLP\", \"SVM\"]\n",
    "results = pd.DataFrame(index=ml_methods, columns=scv_methods)\n",
    "for scv_method in tqdm(scv_methods):\n",
    "    for ml_method in ml_methods:\n",
    "        metrics = pd.read_csv(os.path.join(path, scv_method, \"evaluations\", fs_method, ml_method, \"metrics_with_mcpm.csv\"))\n",
    "        metrics = metrics[metrics[\"FOLD\"] != 53 ]\n",
    "        metrics = metrics[metrics[\"TEST_SIZE\"]>10]\n",
    "        results.loc[ml_method, scv_method] = metrics[metric].mean()\n",
    "        if metrics.isnull().values.any():\n",
    "            print(f\"{scv_method}: {ml_method}\")\n",
    "\n",
    "results.index.names = [\"Methods\"]\n",
    "results.to_csv(os.path.join(env_var[\"root_path\"], dataset, \"comparison\", f\"{fs_method}_{metric}.csv\"))\n"
   ]
  }
 ],
 "metadata": {
  "interpreter": {
   "hash": "a61c6142992f866a8cf4748759f5d3c56e0a281866e239fdaf1841f49fe45dcf"
  },
  "kernelspec": {
   "display_name": "Python 3.7.0 ('RegGBSCV')",
   "language": "python",
   "name": "python3"
  },
  "language_info": {
   "codemirror_mode": {
    "name": "ipython",
    "version": 3
   },
   "file_extension": ".py",
   "mimetype": "text/x-python",
   "name": "python",
   "nbconvert_exporter": "python",
   "pygments_lexer": "ipython3",
   "version": "3.7.0"
  },
  "orig_nbformat": 4
 },
 "nbformat": 4,
 "nbformat_minor": 2
}
