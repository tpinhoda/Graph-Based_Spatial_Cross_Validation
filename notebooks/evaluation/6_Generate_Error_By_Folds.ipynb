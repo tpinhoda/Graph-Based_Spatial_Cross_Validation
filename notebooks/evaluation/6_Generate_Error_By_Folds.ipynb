{
 "cells": [
  {
   "cell_type": "code",
   "execution_count": 14,
   "metadata": {},
   "outputs": [],
   "source": [
    "from os.path import join\n",
    "from os import mkdir\n",
    "import pandas as pd\n",
    "from tqdm import tqdm\n",
    "import shutil\n",
    "from src import utils\n"
   ]
  },
  {
   "cell_type": "code",
   "execution_count": 15,
   "metadata": {},
   "outputs": [],
   "source": [
    "# Project path\n",
    "project_dir = os.path.abspath('')[:-9]\n",
    "# Load enviromental variables\n",
    "\n",
    "env_var = utils.load_env_variables(project_dir)\n",
    "env_var[\"root_path\"] = \"/home/tpinho/IJGIS/Datasets/Brazil_Election_2018\""
   ]
  },
  {
   "cell_type": "code",
   "execution_count": 16,
   "metadata": {},
   "outputs": [],
   "source": [
    "dataset = \"Original\"\n",
    "scv = \"RBuffer\"\n",
    "fs_methods = [f for f in os.listdir(os.path.join(env_var[\"root_path\"], dataset, \"results\", scv, \"evaluations\"))]\n",
    "fs_methods.remove(\"LatLon\")\n",
    "fs_methods.remove(\"XCFS_Local_Meta_All_OLS_Error\")\n",
    "fs_methods = [\"CFS\", \"CFS_Local_Mean_All\", \"CFS_Local_Mean_K7\", \"CFS_Local_Meta_All_OLS\", \"CFS_Local_Meta_K7_OLS\"]\n",
    "rename_col = {\"CFS\": \"Global\",\n",
    "              \"CFS_Local_Mean_All\": \"Local Mean K=All\",\n",
    "              \"CFS_Local_Mean_K7\": \"Local Mean K=7\",\n",
    "              \"CFS_Local_Meta_All_OLS\": \"Local Meta K=All\",\n",
    "              \"CFS_Local_Meta_K7_OLS\": \"Local Meta K=7\"}\n"
   ]
  },
  {
   "cell_type": "code",
   "execution_count": 17,
   "metadata": {},
   "outputs": [
    {
     "name": "stderr",
     "output_type": "stream",
     "text": [
      "100%|██████████| 9/9 [00:00<00:00, 27.28it/s]\n"
     ]
    }
   ],
   "source": [
    "ml_methods = [\"KNN\", \"OLS\", \"Lasso\", \"Ridge\", \"ElasticNet\", \"DT\", \"LGBM\", \"MLP\", \"SVM\"]\n",
    "mean_rank = {\"Methods\": [],\n",
    "             \"Global\": [],\n",
    "             \"Local Mean K=All\": [],\n",
    "             \"Local Mean K=7\": [],\n",
    "             \"Local Meta K=All\": [],\n",
    "             \"Local Meta K=7\": []\n",
    "             }\n",
    "mean_sp_rank = {\"Methods\": [],\n",
    "             \"Global\": [],\n",
    "             \"Local Mean K=All\": [],\n",
    "             \"Local Mean K=7\": [],\n",
    "             \"Local Meta K=All\": [],\n",
    "             \"Local Meta K=7\": []\n",
    "             }\n",
    "\n",
    "mean_stde_rank = {\"Methods\": [],\n",
    "             \"Global\": [],\n",
    "             \"Local Mean K=All\": [],\n",
    "             \"Local Mean K=7\": [],\n",
    "             \"Local Meta K=All\": [],\n",
    "             \"Local Meta K=7\": []\n",
    "             }\n",
    "\n",
    "mean_mse = {\"Methods\": [],\n",
    "             \"Global\": [],\n",
    "             \"Local Mean K=All\": [],\n",
    "             \"Local Mean K=7\": [],\n",
    "             \"Local Meta K=All\": [],\n",
    "             \"Local Meta K=7\": []\n",
    "             }\n",
    "for ml_method in tqdm(ml_methods):\n",
    "    results = pd.DataFrame()\n",
    "    results_sp = pd.DataFrame()\n",
    "    results_stde = pd.DataFrame()\n",
    "    for fs_method in fs_methods:\n",
    "        metrics = pd.read_csv(os.path.join(env_var[\"root_path\"], dataset, \"results\", scv, \"evaluations\", fs_method, ml_method, \"metrics_with_sp.csv\"))\n",
    "        metrics.set_index(\"FOLD\", inplace=True)\n",
    "        results[fs_method] = metrics[\"RMSE\"]\n",
    "        \n",
    "        results_sp[fs_method] = metrics[\"SPEARMAN\"]\n",
    "        results_stde[fs_method] = metrics[\"STDE\"]\n",
    "    \n",
    "    results.rename(rename_col, axis=1, inplace=True)\n",
    "    results.to_csv(os.path.join(env_var[\"root_path\"], dataset, \"comparison_by_fold\", f\"{ml_method}_MSE.csv\"))\n",
    "    results_rank = results.rank(axis=1)\n",
    "    results_rank.to_csv(os.path.join(env_var[\"root_path\"], dataset, \"comparison_by_fold\", f\"{ml_method}_RANK.csv\"))\n",
    "    \n",
    "    results_sp.rename(rename_col, axis=1, inplace=True)\n",
    "    results_sp.to_csv(os.path.join(env_var[\"root_path\"], dataset, \"comparison_by_fold\", f\"{ml_method}_SPEARMAN.csv\"))\n",
    "    results_sp_rank = results_sp.rank(axis=1, ascending=False)\n",
    "    results_sp_rank.to_csv(os.path.join(env_var[\"root_path\"], dataset, \"comparison_by_fold\", f\"{ml_method}_SP_RANK.csv\"))\n",
    "    \n",
    "    results_stde.rename(rename_col, axis=1, inplace=True)\n",
    "    results_stde.to_csv(os.path.join(env_var[\"root_path\"], dataset, \"comparison_by_fold\", f\"{ml_method}_STDE.csv\"))\n",
    "    \n",
    "    \n",
    "    mean_mse[\"Methods\"].append(ml_method)\n",
    "    results.drop(index=[12, 14], inplace=True)\n",
    "    for col in results.columns:\n",
    "        mean_mse[col].append(results[col].mean())\n",
    "    \n",
    "    mean_rank[\"Methods\"].append(ml_method)\n",
    "    for col in results.columns:\n",
    "        mean_rank[col].append(results_rank[col].mean())\n",
    "        \n",
    "    mean_sp_rank[\"Methods\"].append(ml_method)\n",
    "    for col in results_sp.columns:\n",
    "        mean_sp_rank[col].append(results_sp_rank[col].mean())\n",
    "    results_stde.drop(index=[12, 14], inplace=True)\n",
    "    mean_stde_rank[\"Methods\"].append(ml_method)\n",
    "    for col in results_stde.columns:\n",
    "        mean_stde_rank[col].append(results_stde[col].mean())\n",
    "\n",
    "pd.DataFrame(mean_rank).to_csv(os.path.join(env_var[\"root_path\"], dataset, \"comparison\", \"RANK_BY_FOLDS.csv\"), index=False)\n",
    "pd.DataFrame(mean_sp_rank).to_csv(os.path.join(env_var[\"root_path\"], dataset, \"comparison\", \"SP_RANK_BY_FOLDS.csv\"), index=False)\n",
    "pd.DataFrame(mean_stde_rank).to_csv(os.path.join(env_var[\"root_path\"], dataset, \"comparison\", \"STDE.csv\"), index=False)\n",
    "pd.DataFrame(mean_mse).to_csv(os.path.join(env_var[\"root_path\"], dataset, \"comparison\", \"MSE.csv\"), index=False)\n",
    "\n"
   ]
  }
 ],
 "metadata": {
  "interpreter": {
   "hash": "a61c6142992f866a8cf4748759f5d3c56e0a281866e239fdaf1841f49fe45dcf"
  },
  "kernelspec": {
   "display_name": "Python 3.7.0 ('RegGBSCV')",
   "language": "python",
   "name": "python3"
  },
  "language_info": {
   "codemirror_mode": {
    "name": "ipython",
    "version": 3
   },
   "file_extension": ".py",
   "mimetype": "text/x-python",
   "name": "python",
   "nbconvert_exporter": "python",
   "pygments_lexer": "ipython3",
   "version": "3.7.0"
  },
  "orig_nbformat": 4
 },
 "nbformat": 4,
 "nbformat_minor": 2
}
