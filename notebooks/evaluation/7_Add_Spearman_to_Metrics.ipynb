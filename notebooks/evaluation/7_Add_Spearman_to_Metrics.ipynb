{
 "cells": [
  {
   "cell_type": "code",
   "execution_count": 1,
   "metadata": {},
   "outputs": [],
   "source": [
    "import os\n",
    "import pandas as pd\n",
    "from tqdm import tqdm\n",
    "import shutil\n",
    "from src import utils\n",
    "from scipy.stats import spearmanr\n",
    "import math"
   ]
  },
  {
   "cell_type": "code",
   "execution_count": 2,
   "metadata": {},
   "outputs": [],
   "source": [
    "# Project path\n",
    "project_dir = os.path.abspath('')[:-9]\n",
    "# Load enviromental variables\n",
    "\n",
    "env_var = utils.load_env_variables(project_dir)\n",
    "env_var[\"root_path\"] = \"/home/tpinho/IJGIS/Datasets/NSW_Election_2019\""
   ]
  },
  {
   "cell_type": "code",
   "execution_count": 3,
   "metadata": {},
   "outputs": [],
   "source": [
    "dataset = \"Original\"\n",
    "scv_methods = [\"CrossValidation\", \n",
    "               \"Optimistic\", \n",
    "             #  \"RBuffer\",\n",
    "               \"RegGBSCV_R_Kappa_0.0\",\n",
    "             #  \"RegGBSCV_R_Kappa_0.1\",\n",
    "             #  \"RegGBSCV_R_Kappa_0.2\",\n",
    "             #  \"RegGBSCV_R_Kappa_0.3\",\n",
    "             #  \"RegGBSCV_R_Kappa_0.4\",\n",
    "             #  \"RegGBSCV_R_Kappa_0.5\",\n",
    "             #  \"RegGBSCV_R_Kappa_0.6\",\n",
    "             #  \"RegGBSCV_R_Kappa_0.7\",\n",
    "             #  \"RegGBSCV_R_Kappa_0.8\",\n",
    "             #  \"RegGBSCV_R_Kappa_0.9\",\n",
    "             #  \"RegGBSCV_R_Kappa_1.0\",\n",
    "             #  \"RegGBSCV_R_Kappa_3.0\",\n",
    "               \"TraditionalSCV\"] \n",
    "fs_methods = [\"CFS\", \"LatLon\"]"
   ]
  },
  {
   "cell_type": "code",
   "execution_count": 4,
   "metadata": {},
   "outputs": [
    {
     "name": "stderr",
     "output_type": "stream",
     "text": [
      "100%|██████████| 2/2 [00:00<00:00,  5.46it/s]\n",
      "100%|██████████| 2/2 [00:00<00:00,  6.35it/s]\n",
      "100%|██████████| 2/2 [00:00<00:00,  6.73it/s]\n",
      "100%|██████████| 2/2 [00:00<00:00,  7.38it/s]\n"
     ]
    }
   ],
   "source": [
    "for scv in scv_methods:\n",
    "    path = os.path.join(env_var[\"root_path\"], dataset, \"results\", scv)\n",
    "    ml_methods = [\"KNN\", \"OLS\", \"Lasso\", \"Ridge\", \"ElasticNet\", \"DT\", \"LGBM\", \"RF\", \"MLP\", \"SVM\"]\n",
    "    for fs_method in tqdm(fs_methods):\n",
    "        for ml_method in ml_methods:\n",
    "            spearman = []\n",
    "            metrics = pd.read_csv(os.path.join(path, \"evaluations\", fs_method, ml_method, \"metrics.csv\"))\n",
    "            metrics.fillna(0, inplace=True)\n",
    "            #metrics.fillna(0, inplace=True)\n",
    "            metrics[\"SP_INV\"] = 1 - metrics[\"SP\"]\n",
    "            metrics[\"MCPM\"] = [0] * len(metrics)\n",
    "            metrics.set_index(\"FOLD\", inplace=True)\n",
    "            folds = [file for file in os.listdir(os.path.join(path, \"predictions\", fs_method, ml_method))]\n",
    "            #for fold in folds:\n",
    "            #    predictions = pd.read_csv(os.path.join(path, \"predictions\", fs_method, ml_method, fold))\n",
    "            #    print(predictions)\n",
    "            #    rho, _ = spearmanr(predictions[\"GROUND_TRUTH\"], predictions[\"PREDICTIONS\"])\n",
    "            #    metrics.loc[int(fold.split(\".\")[0]), \"SP\"] = rho\n",
    "                #mcpm = metrics[\"RMSE\"] * metrics[\"SPEARMAN\"] * math.sin(2*math.pi/3)/2 \n",
    "            metrics[\"MCPM\"] = (metrics[\"MSE\"]) * (metrics[\"SP_INV\"]) * math.sin(2*math.pi/3)/2 + (metrics[\"MSE\"]) * (metrics[\"STDE\"]) * math.sin(2*math.pi/3)/2 + (metrics[\"STDE\"]) * (metrics[\"SP_INV\"]) * math.sin(2*math.pi/3)/2\n",
    "            \n",
    "            metrics.to_csv(os.path.join(path, \"evaluations\", fs_method, ml_method, \"metrics_with_mcpm.csv\"))\n",
    "            \n",
    "    metrics"
   ]
  }
 ],
 "metadata": {
  "interpreter": {
   "hash": "a61c6142992f866a8cf4748759f5d3c56e0a281866e239fdaf1841f49fe45dcf"
  },
  "kernelspec": {
   "display_name": "Python 3.7.0 ('RegGBSCV')",
   "language": "python",
   "name": "python3"
  },
  "language_info": {
   "codemirror_mode": {
    "name": "ipython",
    "version": 3
   },
   "file_extension": ".py",
   "mimetype": "text/x-python",
   "name": "python",
   "nbconvert_exporter": "python",
   "pygments_lexer": "ipython3",
   "version": "3.7.0"
  },
  "orig_nbformat": 4
 },
 "nbformat": 4,
 "nbformat_minor": 2
}
