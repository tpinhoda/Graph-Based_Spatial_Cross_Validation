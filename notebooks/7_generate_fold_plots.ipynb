{
 "cells": [
  {
   "cell_type": "code",
   "execution_count": 6,
   "metadata": {},
   "outputs": [],
   "source": [
    "import geopandas as gpd\n",
    "import pandas as pd\n",
    "import matplotlib.pyplot as plt\n",
    "import os\n",
    "import json\n",
    "from tqdm import tqdm"
   ]
  },
  {
   "cell_type": "code",
   "execution_count": 7,
   "metadata": {},
   "outputs": [],
   "source": [
    "dataset_folder = \"Brazil_Election_2018_Sampled_dec0.3_prob0.6\"\n",
    "meshblock_filename = \"meshblocks.shp\"\n",
    "data_id = \"INDEX\"\n",
    "meshblocks_id = \"code_muni\"\n",
    "data_path = f\"H:/Google Drive/Doutorado/Datasets_IJGIS/{dataset_folder}/data.csv\"\n",
    "fold_path = f\"H:/Google Drive/Doutorado/Datasets_IJGIS/{dataset_folder}/folds/\"\n",
    "meshblock_path = f\"H:/Google Drive/Doutorado/Datasets_IJGIS/{dataset_folder}/meshblocks/{meshblock_filename}\"\n",
    "output_path = f\"H:/Google Drive/Doutorado/Datasets_IJGIS/{dataset_folder}\""
   ]
  },
  {
   "cell_type": "code",
   "execution_count": 8,
   "metadata": {},
   "outputs": [],
   "source": [
    "methods_path = [os.path.join(fold_path,c) for c in os.listdir(fold_path)]\n",
    "methods_path = ['H:/Google Drive/Doutorado/Datasets_IJGIS/Brazil_Election_2018_Sampled_dec0.3_prob0.6/folds/RegGBSCV_R_Kappa_0.8']"
   ]
  },
  {
   "cell_type": "code",
   "execution_count": 9,
   "metadata": {},
   "outputs": [],
   "source": [
    "def map_color(row):\n",
    "    if row['Type'] == 'discarded':\n",
    "        return '#AFABAB'\n",
    "    elif row['Type'] == 'test':\n",
    "        return '#9FC5E8'\n",
    "    elif row['Type'] == 'removing_buffer':\n",
    "        return '#EA9999'\n",
    "    elif row['Type'] == 'train':\n",
    "        return '#B6D7A8'\n",
    "    elif row[\"Type\"] == \"missing\":\n",
    "        return \"#ffffffff\"\n",
    "    else:\n",
    "        return '#ffffffff'\n"
   ]
  },
  {
   "cell_type": "code",
   "execution_count": 10,
   "metadata": {},
   "outputs": [
    {
     "name": "stderr",
     "output_type": "stream",
     "text": [
      "100%|██████████| 27/27 [02:56<00:00,  6.52s/it]\n",
      "100%|██████████| 1/1 [02:57<00:00, 177.84s/it]\n"
     ]
    }
   ],
   "source": [
    "\n",
    "for method in tqdm(methods_path):\n",
    "    fold_folders = [os.path.join(method,c) for c in os.listdir(method) if not os.path.isfile(os.path.join(method,c))]\n",
    "    meshblocks = gpd.read_file(meshblock_path)\n",
    "    meshblocks.set_index(meshblocks_id, inplace=True)\n",
    "    data = pd.read_csv(data_path, index_col=data_id)\n",
    "    missing = [idx for idx in meshblocks.index if idx not in data.index]\n",
    "    for fold_path in tqdm(fold_folders):\n",
    "        \n",
    "        meshblocks[\"Type\"] = [0] * len(meshblocks)\n",
    "        with open(os.path.join(fold_path, \"split_data.json\"), 'r') as fp:\n",
    "            split_data = json.load(fp)\n",
    "        split_data[\"missing\"] = missing\n",
    "        \n",
    "        for key in split_data.keys():\n",
    "            joiner_index = [idx for idx in split_data[key] if idx in meshblocks.index]\n",
    "            meshblocks.loc[joiner_index, \"Type\"] = key\n",
    "        \n",
    "        #meshblocks[\"Type\"].replace(0, \"train\", inplace=True)\n",
    "        fig, ax = plt.subplots(1, 1)\n",
    "        color_list = meshblocks.apply(lambda row: map_color(row), axis=1)\n",
    "        meshblocks.plot(categorical=True, \n",
    "                    color=color_list, \n",
    "                    linewidth=.05, \n",
    "                    edgecolor='white',\n",
    "                    legend=False, \n",
    "                    legend_kwds={'bbox_to_anchor': (.3, 1.05), \n",
    "                                    'fontsize': 16, \n",
    "                                    'frameon': False}, \n",
    "                    ax=ax)\n",
    "        plt.axis('off')\n",
    "        plt.savefig(os.path.join(fold_path, 'train_test_split.png'), dpi=1000)\n",
    "        plt.close()"
   ]
  }
 ],
 "metadata": {
  "interpreter": {
   "hash": "e5ceefaf46c1cc99a709a8fc918f5bcd228da7f5ea75d18ab15383937e22deaf"
  },
  "kernelspec": {
   "display_name": "Python 3.8.10 64-bit ('phd_gists': conda)",
   "name": "python3"
  },
  "language_info": {
   "codemirror_mode": {
    "name": "ipython",
    "version": 3
   },
   "file_extension": ".py",
   "mimetype": "text/x-python",
   "name": "python",
   "nbconvert_exporter": "python",
   "pygments_lexer": "ipython3",
   "version": "3.8.12"
  },
  "orig_nbformat": 4
 },
 "nbformat": 4,
 "nbformat_minor": 2
}
